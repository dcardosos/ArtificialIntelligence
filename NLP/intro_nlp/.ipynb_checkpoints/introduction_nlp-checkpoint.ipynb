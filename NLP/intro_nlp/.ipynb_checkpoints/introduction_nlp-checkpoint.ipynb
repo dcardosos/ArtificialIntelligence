{
 "cells": [
  {
   "cell_type": "markdown",
   "metadata": {
    "id": "olO3RsEsAxxD"
   },
   "source": [
    "# PNL\n"
   ]
  },
  {
   "cell_type": "markdown",
   "metadata": {
    "id": "QQqmBN6nMQ8o"
   },
   "source": [
    "## Wikipedia\n",
    "\n",
    "wikipedia package: https://towardsdatascience.com/wikipedia-api-for-python-241cfae09f1c"
   ]
  },
  {
   "cell_type": "code",
   "execution_count": 13,
   "metadata": {
    "colab": {
     "base_uri": "https://localhost:8080/"
    },
    "id": "pNNpdXcuJFVJ",
    "outputId": "bc364cb7-cef6-41db-9187-eca8ac1d1f1c"
   },
   "outputs": [],
   "source": [
    "#!pip install wikipedia"
   ]
  },
  {
   "cell_type": "code",
   "execution_count": 14,
   "metadata": {
    "id": "r0xGEkMEAoMM"
   },
   "outputs": [],
   "source": [
    "import wikipedia"
   ]
  },
  {
   "cell_type": "code",
   "execution_count": 15,
   "metadata": {
    "colab": {
     "base_uri": "https://localhost:8080/"
    },
    "id": "q6Ggf-9YJGux",
    "outputId": "6d80c453-6587-4477-f7b9-5b28d8916730"
   },
   "outputs": [
    {
     "data": {
      "text/plain": [
       "['Fake news',\n",
       " 'List of fake news websites',\n",
       " 'Fake news website',\n",
       " 'Fake news in India',\n",
       " 'Faking News',\n",
       " 'Fake news in the Philippines',\n",
       " 'Fake News Awards',\n",
       " 'Fake news websites in the United States',\n",
       " 'Detecting fake news online',\n",
       " 'Fake news in the United States']"
      ]
     },
     "execution_count": 15,
     "metadata": {},
     "output_type": "execute_result"
    }
   ],
   "source": [
    "# resultados\n",
    "wikipedia.search('Fake News')"
   ]
  },
  {
   "cell_type": "code",
   "execution_count": 16,
   "metadata": {
    "colab": {
     "base_uri": "https://localhost:8080/"
    },
    "id": "qRsroWbAJgWW",
    "outputId": "785929a5-023d-4d40-c359-f579addc3aa1"
   },
   "outputs": [
    {
     "name": "stdout",
     "output_type": "stream",
     "text": [
      "fake news\n"
     ]
    }
   ],
   "source": [
    "# suggestion\n",
    "print(wikipedia.suggest('Fake ne'))"
   ]
  },
  {
   "cell_type": "code",
   "execution_count": 17,
   "metadata": {
    "colab": {
     "base_uri": "https://localhost:8080/",
     "height": 350
    },
    "id": "PIY8O6mGJyv2",
    "outputId": "316c1dc9-45bb-4749-a385-43a1d95fcc6b"
   },
   "outputs": [
    {
     "data": {
      "text/plain": [
       "'Fake news is false or misleading information presented as news. It often has the aim of damaging the reputation of a person or entity, or making money through advertising revenue. However, the term does not have a fixed definition, and has been applied more broadly to include any type of false information, including unintentional and unconscious mechanisms, and also by high-profile individuals to apply to any news unfavourable to his/her personal perspectives.\\nOnce common in print, the prevalence of fake news has increased with the rise of social media, especially the Facebook News Feed. Political polarization, post-truth politics, confirmation bias, and social media algorithms have been implicated in the spread of fake news. It is sometimes generated and propagated by hostile foreign actors, particularly during elections. The use of anonymously-hosted fake news websites has made it difficult to prosecute sources of fake news for libel. In some definitions, fake news includes satirical articles misinterpreted as genuine, and articles that employ sensationalist or clickbait headlines that are not supported in the text.Fake news can reduce the impact of real news by competing with it; a Buzzfeed analysis found that the top fake news stories about the 2016 U.S. presidential election received more engagement on Facebook than top stories from major media outlets. It also has the potential to undermine trust in serious media coverage. The term has at times been used to cast doubt upon legitimate news, and former U.S. president Donald Trump has been credited with popularizing the term by using it to describe any negative press coverage of himself. It has been increasingly criticized, due in part to Trump\\'s misuse, with the British government deciding to avoid the term, as it is \"poorly-defined\" and \"conflates a variety of false information, from genuine error through to foreign interference\".Multiple strategies for fighting fake news are currently being actively researched, and need to be tailored to individual types of fake news. Effective self-regulation and legally-enforced regulation of social media and web search engines are needed. The information space needs to be flooded with accurate news to displace fake news. Individuals need to actively confront false narratives when spotted, as well as take care when sharing information via social media. Inoculation theory shows promise in designing techniques to make individuals resistant to the lure of fake news, in the same way that a vaccine protects against infectious diseases.'"
      ]
     },
     "execution_count": 17,
     "metadata": {},
     "output_type": "execute_result"
    }
   ],
   "source": [
    "# summary\n",
    "wikipedia.summary('Fake News')"
   ]
  },
  {
   "cell_type": "code",
   "execution_count": null,
   "metadata": {
    "colab": {
     "base_uri": "https://localhost:8080/",
     "height": 941
    },
    "id": "ZDAioCY1KLjA",
    "outputId": "c6bfcbf9-0459-4b3c-d04c-5e5594de1933",
    "scrolled": true
   },
   "outputs": [],
   "source": [
    "# DesambiguationError\n",
    "wikipedia.summary('News')"
   ]
  },
  {
   "cell_type": "code",
   "execution_count": 19,
   "metadata": {
    "colab": {
     "base_uri": "https://localhost:8080/",
     "height": 159
    },
    "id": "jsLvMOXMKY5I",
    "outputId": "b0b1651b-d770-4b14-9fd7-a12d215dfa7b"
   },
   "outputs": [
    {
     "data": {
      "text/plain": [
       "'Notícias falsas (sendo também muito comum o uso do termo em inglês fake news) são uma forma de imprensa marrom que consiste na distribuição deliberada de desinformação ou boatos via jornal impresso, televisão, rádio, ou ainda online, como nas mídias sociais. Este tipo de notícia é escrito e publicado com a intenção de enganar, a fim de se obter ganhos financeiros ou políticos, muitas vezes com manchetes sensacionalistas, exageradas ou evidentemente falsas para chamar a atenção.O conteúdo intencionalmente enganoso e falso é diferente da sátira ou paródia. Estas notícias, muitas vezes, empregam manchetes atraentes ou inteiramente fabricadas para aumentar o número de leitores, compartilhamento e taxas de clique na Internet. Neste último caso, é semelhante às manchetes \"clickbait\", e se baseia em receitas de publicidade geradas a partir desta atividade, independentemente da veracidade das histórias publicadas. As notícias falsas também prejudicam a cobertura profissional da imprensa e torna mais difícil para os jornalistas cobrir notícias significativas.O fácil acesso online ao lucro de anúncios online, o aumento da polarização política e da popularidade das mídias sociais, principalmente a linha do tempo do Facebook, têm implicado na propagação de notícias deste gênero. A quantidade de sites com notícias falsas anonimamente hospedados e a falta de editores conhecidos também vêm crescendo, porque isso torna difícil processar os autores por calúnia. A relevância dessas notícias aumentou em uma realidade política \"pós-verdade\". Em resposta, os pesquisadores têm estudado o desenvolvimento de uma \"vacina\" psicológica para ajudar as pessoas a detectar falsas informações.Além da disseminação de notícias falsas através da mídia, a expressão também define, em um âmbito mais abrangente, a disseminação de boatos pelas mídias sociais, por usuários comuns. Algumas vezes, isso pode ter consequências graves, como o notório caso ocorrido em 2014, do linchamento de uma dona de casa na cidade de Guarujá, no litoral do estado de São Paulo, Brasil.'"
      ]
     },
     "execution_count": 19,
     "metadata": {},
     "output_type": "execute_result"
    }
   ],
   "source": [
    "# set language\n",
    "wikipedia.set_lang('pt')\n",
    "wikipedia.summary('Fake News')"
   ]
  },
  {
   "cell_type": "code",
   "execution_count": null,
   "metadata": {
    "colab": {
     "base_uri": "https://localhost:8080/"
    },
    "id": "WDTCjUJwKpEz",
    "outputId": "0f2663ee-7c95-4eb6-ab93-ad7b92142e66"
   },
   "outputs": [],
   "source": [
    "# language support\n",
    "wikipedia.languages()"
   ]
  },
  {
   "cell_type": "code",
   "execution_count": 21,
   "metadata": {
    "colab": {
     "base_uri": "https://localhost:8080/"
    },
    "id": "DujAe7F0KvsY",
    "outputId": "c52134ee-fcff-4e45-e14f-bdb8272286e6"
   },
   "outputs": [
    {
     "name": "stdout",
     "output_type": "stream",
     "text": [
      "title\n",
      "Notícia falsa\n",
      "url\n",
      "https://pt.wikipedia.org/wiki/Not%C3%ADcia_falsa\n",
      "content\n",
      "Notícias falsas (sendo também muito comum o uso do termo em inglês fake news) são uma forma de imprensa marrom que consiste na distribuição deliberada de desinformação ou boatos via jornal impresso, televisão, rádio, ou ainda online, como nas mídias sociais. Este tipo de notícia é escrito e publicado com a intenção de enganar, a fim de se obter ganhos financeiros ou políticos, muitas vezes com manchetes sensacionalistas, exageradas ou evidentemente falsas para chamar a atenção.O conteúdo intencionalmente enganoso e falso é diferente da sátira ou paródia. Estas notícias, muitas vezes, empregam manchetes atraentes ou inteiramente fabricadas para aumentar o número de leitores, compartilhamento e taxas de clique na Internet. Neste último caso, é semelhante às manchetes \"clickbait\", e se baseia em receitas de publicidade geradas a partir desta atividade, independentemente da veracidade das histórias publicadas. As notícias falsas também prejudicam a cobertura profissional da imprensa e torna mais difícil para os jornalistas cobrir notícias significativas.O fácil acesso online ao lucro de anúncios online, o aumento da polarização política e da popularidade das mídias sociais, principalmente a linha do tempo do Facebook, têm implicado na propagação de notícias deste gênero. A quantidade de sites com notícias falsas anonimamente hospedados e a falta de editores conhecidos também vêm crescendo, porque isso torna difícil processar os autores por calúnia. A relevância dessas notícias aumentou em uma realidade política \"pós-verdade\". Em resposta, os pesquisadores têm estudado o desenvolvimento de uma \"vacina\" psicológica para ajudar as pessoas a detectar falsas informações.Além da disseminação de notícias falsas através da mídia, a expressão também define, em um âmbito mais abrangente, a disseminação de boatos pelas mídias sociais, por usuários comuns. Algumas vezes, isso pode ter consequências graves, como o notório caso ocorrido em 2014, do linchamento de uma dona de casa na cidade de Guarujá, no litoral do estado de São Paulo, Brasil.\n",
      "\n",
      "\n",
      "== Definição ==\n",
      "Fake news (\"notícia falsa\", em português) é um termo novo, ou neologismo, usado para se referir a notícias fabricadas. O termo fake news originou-se nos meios tradicionais de comunicação, mas já se espalhou para mídia online. Este tipo de notícia, encontrada em meios tradicionais, mídias sociais ou sites de notícias falsas, não tem nenhuma base na realidade, mas é apresentado como sendo factualmente corretas. Michael Radutzky, um produtor do show 60 Minutes da CBS, disse que seu show considera notícias falsas como \"histórias que são comprovadamente falsas, têm um enorme tração [apelo popular] na cultura, e são consumidas por milhões de pessoas\". Ele não inclui notícias falsas que são \"invocadas por políticos contra os meios de comunicação sobre as histórias ou comentários que eles não gostam \". Guy Campanile, também produtor de 60 Minutos,  disse: \"Estamos falando de histórias que são fabricadas do nada. De forma geral, criadas deliberadamente e que qualquer por qualquer definição sejam mentira.\" A intenção e o propósito por trás da notícias falsas é importante. Em alguns casos, o que parece ser uma falsa notícia pode ser, na verdade, notícias de sátira, que usa o exagero e introduz elementos não verdadeiros com o objetivo de divertir ou fazer um ponto, em vez de enganar. Propagandas também pode ser falsas notícias.Claire Wardle, do First Draft News, identifica sete tipos de notícias falsas:\n",
      "\n",
      "Sátira ou paródia (\"sem intenção de fazer mal, mas tem potencial para enganar\")\n",
      "Falsa conexão (\"quando as manchetes, visuais das legendas não dão suporte a conteúdo\")\n",
      "Conteúdo enganoso (\"má utilização da informação para moldar um problema ou de um indivíduo\")\n",
      "Contexto falso (\"quando o verdadeiro conteúdo é compartilhado com informações falsas contextuais\")\n",
      "Conteúdo impostor (\"quando fontes verdadeiras são forjadas\" com conteúdo falso)\n",
      "Conteúdo manipulado (\"quando informação genuína ou imagens são manipuladas para enganar\", como fotos \"adulteradas\")\n",
      "Conteúdo fabricado  (\"conteúdo novo é 100% falso, projetado para enganar e fazer mal\")Em pesquisa realizada pela Kantar em 2017, a definição de notícias falsas (fake news, no termo em inglês popularizado pelo presidente dos EUA, Donald Trump) ainda não era muito clara: 58% dos brasileiros entrevistados achavam se tratar de \"uma história deliberadamente fabricada por um meio de comunicação\", 43% pensavam que o termo se referia a \"história divulgada por alguém que finge ser um meio de comunicação\", 39% apontavam que seria \"uma história que contém erro de informação\" e 27% apostavam que seria uma \"história tendenciosa\".Em uma análise mais direta, as notícias falsas seriam \"imitações fraudulentas de gêneros jornalísticos, cujo objetivo é emprestar as marcas discursivas de uma instituição social dos Estados democráticos para levar o leitor a conferir maior credibilidade a seu conteúdo\".\n",
      "\n",
      "\n",
      "== Identificação ==\n",
      "A Federação Internacional das Associações e Instituições de bibliotecária (IFLA) publicou um diagrama com dicas para ajudar as pessoas a identificarem notícias falsas (imagem da versão em português do diagrama a direita).\n",
      "Considere a fonte da informação: tente entender sua missão e propósito olhando para outras publicações do site.\n",
      "Leia além do título: Títulos chamam atenção, tente ler a história completa.\n",
      "Cheque os autores: Verifique se eles realmente existem e são confiáveis.\n",
      "Procure fontes de apoio: Ache outras fontes que suportem a notícias.\n",
      "Cheque a data da publicação: Veja se a história ainda é relevante e está atualizada.\n",
      "Questione se é uma piada: O texto pode ser uma sátira.\n",
      "Revise seus preconceitos: Seus ideais podem estar afetando seu julgamento.\n",
      "Consulte especialistas: Procure uma confirmação de pessoas independentes com conhecimento.Há algumas instituições como \"Aos Fatos\" e  International Fact-Checking Network (IFCN) que se propõem a checar notícias e julga-las como falsas ou verdadeiras. A IFCN faz uso de uma rede colaborativa e faz um treinamento de seus colaboradores para que possam validar as histórias. O Facebook se comprometeu a ajudar seus usuários a identificar as notícias falsas, e adicionou em cerca de 14 países uma seção com dicas sobre como reconhecer notícias falsas. Os leitores também estão se tornando mais céticos e atentos: uma pesquisa mostrou que mais de 3 em cada 4 leitores de notícias verificaram fatos em uma notícias de independente, enquanto 70% reconsideraram compartilhar uma matéria por receio de que ela pudesse ser uma notícia falsa.\n",
      "\n",
      "\n",
      "=== Detecção automática ===\n",
      "O MIT desenvolveu um sistema de inteligência artificial que reescreve automaticamente frases da Wikipédia contendo informações obsoletas com pouca ou nenhuma intervenção humana, mantendo a linguagem semelhante à maneira como os humanos escrevem e editam. Portanto, o texto criado usando a IA não parecerá incomum em um parágrafo cuidadosamente criado. O sistema de inteligência artificial pode ser usado para fins como detectar automaticamente notícias falsas.\n",
      "\n",
      "\n",
      "== História ==\n",
      "\n",
      "Notícias falsas não são uma exclusividade do século XXI. Através de toda a história há vários episódios em que rumores falsos foram espalhados tendo grandes consequências. Por exemplo:\n",
      "\n",
      "O político e general romano Marco Antônio cometeu suicídio motivado por notícias falsas. Haviam falsamente dito a Marco Antonio que sua mulher, a Cleópatra também havia cometido suicídio.\n",
      "No século VIII a Doação de Constantino foi uma história forjada, em que supostamente Constantino havia transferido sua autoridade sobre Roma e a parte oeste do Império Romano para o Papa.\n",
      "Poucos anos antes da Revolução Francesa, vários panfletos eram espalhados em Paris com notícias, muitas vezes contraditórias entre si, sobre o estado de falência do governo. Eventualmente, com vazamento de informações do governo, informações reais sobre o estado financeiro do pais foram a público.\n",
      "Benjamin Franklin escreveu notícias falsas sobre Índios assassinos que supostamente trabalhavam para o Rei George III, com o intuito de influenciar a opinião pública a favor da Revolução Americana.\n",
      "Em 1835 o jornal The New York Sun publicou notícias falsas usando o nome de um astrônomo real e um colega inventado sobre a descoberta de vida na lua. O propósito das notícias foi aumentar as vendas do jornal. No mês seguinte o jornal admitiu que os artigos eram apenas boatos.\n",
      "A Hannah Arendt defendia que o totalitarismo massificou a desinformação.\n",
      "Uma contribuição valiosa para a vitória de Eurico Gaspar Dutra na eleição presidencial de 1945 veio de Hugo Borghi, que distribuiu milhares de panfletos acusando o candidato Eduardo Gomes de ter dito: ''Não preciso dos votos dos marmiteiros''. O que Eduardo pronunciou na verdade, no Teatro Municipal do Rio de Janeiro, em 19 de novembro (menos de um mês antes do pleito, ocorrido em 2 de dezembro), foi: \"Não necessito dos votos dessa malta de desocupados que apoia o ditador para eleger-me presidente da República\". Outros exemplos de fakes na história brasileira podem ser citados, como o Plano Cohen, as cartas falsas atribuídas a Artur Bernardes e o fato de que até mesmo Tiradentes produziu falsas informações.\n",
      "No decorrer da Guerra Fria, com o objetivo de confundir e induzir governos e órgãos de informações ocidentais ao erro, a inteligência soviética empregou estratégias conhecidas como Medidas ativas. Estas, usavam contrainformação, manipulação da mídia e desinformação. Dentre as teorias conspiratórias criadas pela URSS para manipular e confundir a mídia e governos de países do ocidente, destacaram-se a operação INFEKTION, que lançou sobre os EUA a culpa pela \"criação\" da AIDS, as acusações que presidente Kennedy foi assassinado por um complô tramado pela CIA e, que os os estadounidenses não pousaram na Lua. Notícias falsas, forjadas pelos órgãos de inteligência soviéticos por meio de medidas ativas, revelaram-se tão convincentes que algumas ainda continuam recebendo crédito no século XXI.Entre esses e muitos outros exemplos é possível perceber que esse é um recurso que foi amplamente usado na história, muitas vezes com o propósito de beneficiar alguém ou algum movimento social.\n",
      "\n",
      "\n",
      "=== Século XXI ===\n",
      "No século XXI, o uso e impacto das notícias falsas se tornou amplo, assim como o uso do termo. Além de ser usado para criar histórias inventadas para enganar os leitores é um recurso usado para aumentar a quantidade de leitores online e assim aumentar os lucros dos sites. O termo também passou a ser usado para sites de notícias de sátira, que não tem o propósito de enganar, mas fazer comédias sobre eventos reais compartilhados na mídia tradicional. No Brasil um bom exemplo de site de sátira é o Sensacionalista. Em fevereiro de 2017 o presidente americano Donald Trump deu uma nova evidência as fake news  acusando um repórter da CNN de produzir notícias falsas e se recusando a responder sua pergunta em uma conferência de imprensa.Atualmente notícias falsas ficam populares rapidamente com o auxilio de redes sociais como Facebook e Twitter muitas vezes chegando aos trend topics. Essas notícias quando não patrocinadas por motivos políticos são financiadas pela \"industria de cliques\" que grandes plataformas de propaganda digital como o Google Ad Sense criaram. Sites podem ganhar dinheiro baseado em cliques nas propagandas, e para aumentar suas taxas de cliques e frequentadores de suas páginas publicações são feitas com manchetes chamativas muitas vezes distorcendo o texto publicado ou com mentiras. Por exemplo, não é incomum sites de fofoca inventarem a morte de alguma celebridade para atrair leitores.É importante analisar como e porque notícias falsas se espalham facilmente nas redes sociais. Elas são geralmente apelativas emocionalmente, ou reforçam algum ideal politico ajudando a reforçar crenças e por isso são amplamente compartilhadas e comentadas antes mesmo que os usuários chequem as fontes das notícias. Outro efeito realçado nas redes sociais é o de Câmara de eco, em que pessoas se isolam de grupos com ideais diferentes evitando assim o contraponto de ideais que possam vir a revelar a falsidade de algumas notícias.\n",
      "\n",
      "Empresas como o Google e Facebook vem sendo acusadas como umas das responsáveis por facilitar a disseminação das notícias falsas. O Facebook com seus algoritmos de busca e o google com seu engenho de busca são hoje as principais formas de jovens terem acesso a notícias em seu dia a dia. Ambas empresas se comprometeram recentemente a combater esse problema, o Google por exemplo bloqueou alguns sites que ele julgou como de notícias falsas de suas redes de anúncios bloqueando assim a fonte de renda dos mesmos, além disso adicionou uma nova função na sua ferramenta de busca de notícias. Durante a crise sanitária provocada pela pandemia de Covid-19, Twitter, Instagram e Facebook bloquearam publicações de Jair Bolsonaro para evitar a difusão de \"desinformação passível de causar danos físicos às pessoas\" e de \"conteúdos que se opõem às instruções vindas de fontes oficiais e que poderiam aumentar o risco de transmissão\" do vírus.Há um debate sobre a legitimidade das redes sociais para decidir quais são as notícias verdadeiras. Como elas controlam o acesso a informação de grande parte da população elas poderiam obter um poder de censura e de julgar o que é verdade e o que não é.\n",
      "A academia também já tenta procurar soluções de classificadores baseados em aprendizagem de máquina que possam identificar notícias verdadeiras e falsas. Há várias pesquisas nesse sentido, e na tentativa de fomenta-las em 2017 foi criado fake news challenge, uma competição em busca dos melhores classificadores automáticos de notícias.\n",
      "Grandes empresas de tecnologia tem combatido fake news como por exemplo Youtube que está gastando US$25 milhões para combater notícias falsas em sua plataforma. O investimento pretende combater principalmente coberturas urgentes e de última hora. Na segunda-feira do dia 30 de julho de 2018, um serviço de checagem de notícias, denominado Fato ou Fake, foi criado no Brasil pela cooperação das entidades Rede Globo, GloboNews, G1, O Globo, Extra, Época, Valor e CBN, com a intenção de combater a propagação de notícias falsas que não estejam presentes em suas representadas. O maior exemplo pode ser o caso Caso Escola Base, que por ter sido perpetrado pelos próprios agentes mediáticos, não é considerado fake news.\n",
      "\n",
      "\n",
      "== Impactos ==\n",
      "\n",
      "A disseminação de notícias falsas é facilitada pelo acesso em larga escala a mídias sociais, e seus impactos podem ser igualmente vastos. Mesmo nos casos em que a informação falsa é veiculada por erro involuntário ou com o simples intuito de provocar o humor, elas despertam no receptor uma reação baseada em falsidades, e que por isso mesmo é equivocada. Muitas vezes são divulgadas intencionalmente, com o objetivo de distorcer a realidade e criar uma realidade artificial, buscando induzir o receptor a assumir um determinado ponto de vista que contradiz os fatos. Nas palavras de Rafael Zanatta, pesquisador da Universidade de São Paulo, \"quem as cria promove a mentira e manipula os cidadãos em torno de interesses particulares e desonestos\".Numa escala ampla, a proliferação de notícias falsas tende a criar no público uma grande incerteza e desconfiança sobre o conhecimento em geral, passando a duvidar indiscriminadamente de todas as fontes de informação, não sabendo mais identificar a verdade e nem onde buscá-la. Campanhas deliberadas de notícias falsas são um ataque direto ao direito à informação, e podem desacreditar a grande imprensa, os professores e os produtores acadêmicos de conhecimento legítimo, como os cientistas, historiadores e sociólogos. Podem arruinar reputações sólidas e criar falsos ídolos, podem causar danos a instituições, prejudicar a democracia e a cidadania, fortalecer preconceitos, fomentar teorias de conspiração, e influenciar artificialmente processos políticos, culturais, econômicos e sociais.As notícias falsas repetidas constantemente podem adquirir um aspecto de verdade diante do público, e seus efeitos  podem ser persistentes. Estudos científicos mostram que mesmo depois de confrontadas com a verdade, muitas pessoas influenciadas por notícias falsas continuam mantendo opiniões errôneas. O efeito é ampliado porque a psique humana tem a tendência de buscar a confirmação daquilo em que acredita e desqualificar aquilo que se choca contra suas convicções, e está sujeita ao \"comportamento de manada\", ou seja, o deixar-se levar em massa por um influenciador poderoso, sem que as ações passem pelo crivo da crítica e da lógica. Na explicação de Fabrício Benevenuto, professor da Universidade Federal de Minas Gerais, \"se muitas pessoas compartilham uma ideia, outras tendem a segui-la. É semelhante à escolha de um restaurante quando você não tem informação. Você vê que um está vazio e que outro tem três casais. Escolhe qual? O que tem gente. Você escolhe porque acredita que, se outros já escolheram, deve ter algum fundamento nisso\". Um estudo desenvolvido por pesquisadores do MIT, analisando mais de 120 mil sequências de notícias no Twitter entre 2006 e 2017, concluiu que notícias falsas se espalham mais depressa, vão mais longe, atingem mais pessoas e tem uma probabilidade muito maior de serem redistribuídas do que as verdadeiras.As notícias falsas são um componente importante no conceito de pós-verdade, que caracteriza um contexto onde os fatos objetivos têm um menor poder de moldar a opinião pública do que apelos à emoção e a crenças pessoais, e onde qualquer coisa pode se tornar \"verdade\", conforme os interesses dos indivíduos ou grupos que controlam a informação. Na reflexão do filósofo Janine Ribeiro, \"essa tendência traz um elemento triste. Não é apenas falar uma mentira. Ao dizer 'pós', é como se a verdade tivesse acabado e não importa mais. Essa é a diferença entre pós-verdade e todas as formas de manipulação das informações que tivemos antes\". Para o professor da USP Eugenio Bucci, referindo-se à esfera da política, \"a ideia contida aí é relativamente simples: a política teria rompido definitivamente com a verdade factual e passa a se valer de outros recursos para amalgamar os seguidores de suas correntes. É como se a política tivesse sucumbido ao discurso do tipo religioso e se conformado com isso.\"É um exemplo do vasto impacto potencial das notícias falsas a negação da realidade do aquecimento global, levando à adoção de planos econômicos que privilegiam o uso de combustíveis fósseis, contradizendo o consenso científico que aponta esses combustíveis como a principal causa do aquecimento. Também influenciaram o resultado das eleições norte-americanas de 2016 e das eleições brasileiras de 2018, e o resultado do plebiscito que decidiu a saída do Reino Unido da União Europeia (Brexit), apenas para citar alguns exemplos recentes de grandes repercussões.\n",
      "\n",
      "\n",
      "== Ver também ==\n",
      "Notícias falsas no Brasil\n",
      "Blasting News\n",
      "Aforismo à deriva\n",
      "Checagem de fatos\n",
      "Embuste\n",
      "Factoide\n",
      "Factos alternativos\n",
      "Interferência russa na eleição presidencial nos Estados Unidos em 2016\n",
      "Jornalismo investigativo\n",
      "Verificação de fatos\n",
      "\n",
      "\n",
      "== Referências ==\n",
      "\n",
      "\n",
      "== Bibliografia ==\n",
      "Réflexions d'un historien sur les fausses nouvelles de la guerre. Marc Bloch; Editions Allia, 1999 - 56 páginas\n",
      "Pós-Verdade - A Nova Guerra Contra Os Fatos Em Tempos De Fake News (Cód: 10134277) D'Ancona, Matthew. Faro Editorial (Interaja)\n",
      "\n",
      "\n",
      "== Ligações externas ==\n",
      "Polarização política e redes sociais propiciam aumento das 'fake news', no canal Agência Lupa da SoundCloud\n",
      "A desculpa do entretenimento (#Pirula 100) (canal do Pirula) no YouTube\n",
      "7 Passos para Detectar Notícias Falsas (canal Primata Falante) no YouTube\n",
      "Responsabilidade com o que publica na Internet, com Maurício Cid e Pirula - EP #04 (canal Acidez Feminina) no YouTube\n",
      "images\n"
     ]
    },
    {
     "name": "stdout",
     "output_type": "stream",
     "text": [
      "['https://upload.wikimedia.org/wikipedia/commons/8/82/19-03-2019_Encontro_com_o_Senhor_Donald_Trump%2C_Presidente_dos_Estados_Unidos_da_Am%C3%A9rica.jpg', 'https://upload.wikimedia.org/wikipedia/commons/4/4c/Bad_example_of_frame_grab.jpg', 'https://upload.wikimedia.org/wikipedia/commons/4/4c/Como_identificar_not%C3%ADcias_falsas_%28How_To_Spot_Fake_News%29.jpg', 'https://upload.wikimedia.org/wikipedia/commons/4/4a/Disambig_grey.svg', 'https://upload.wikimedia.org/wikipedia/commons/4/44/Di%C3%A1rio.svg', 'https://upload.wikimedia.org/wikipedia/commons/8/81/Merge-arrows_2.svg', 'https://upload.wikimedia.org/wikipedia/commons/c/ca/Nuvola_apps_knewsticker.png', 'https://upload.wikimedia.org/wikipedia/commons/0/0a/N%C3%A3o_seja_um_propagador_de_mentiras._Antes_de_compartilhar_pesquise%2C_leia%2C_verifique._Isto_%C3%A9_f%C3%A1cil%2C_isto_%C3%A9_justo%2C_isto_%C3%A9_digno_-_pt.svg', 'https://upload.wikimedia.org/wikipedia/commons/d/d7/Orson_Welles_War_of_the_Worlds_1938.jpg', 'https://upload.wikimedia.org/wikipedia/commons/f/f7/The_fin_de_si%C3%A8cle_newspaper_proprietor_%28cropped%29.jpg', 'https://upload.wikimedia.org/wikipedia/commons/f/ff/Wikidata-logo.svg']\n",
      "links\n",
      "['60 Minutes', 'AIDS', 'A Guerra dos Mundos (rádio)', 'Acusações de falsificação nas alunissagens do Programa Apollo', 'AdSense', 'Aforismo à deriva', 'Aprendizado de máquina', 'Aquecimento global', 'Artur Bernardes', 'Assassinato de John F. Kennedy', 'BBC News', 'Benjamin Franklin', 'Biblioteca Nacional da França', 'Blasting News', 'Boato', 'Brasil', 'Brexit', 'CBS', 'CBS News', 'CIA', 'CNN', 'Calúnia', 'Canal de televisão', 'Caso Escola Base', 'Central Brasileira de Notícias', 'Checagem de fatos', 'Cidadania', 'Cleópatra', 'Clickbait', 'Combustíveis fósseis', 'Complô', 'Contrainformação', 'Câmara de eco', 'Democracia', 'Desinformação', 'Digital object identifier', 'Doação de Constantino', 'Donald Trump', 'EUA', 'Eduardo Gomes', 'Eleição presidencial no Brasil em 1945', 'Embuste', 'Enciclopédia Treccani', 'Encyclopædia Britannica', 'Estados Unidos', 'Eurico Gaspar Dutra', 'Extra (jornal do Rio de Janeiro)', 'Facebook', 'Faceted Application of Subject Terminology', 'Factoide', 'Factos alternativos', 'First Draft News', 'Fofoca', 'Folha de S.Paulo', 'Fraude jornalística', 'Frederick Burr Opper', 'G1', 'Gemeinsame Normdatei', 'GloboNews', 'Google', 'Guarujá', 'Guerra Fria', 'Hannah Arendt', 'Hillary Clinton', 'Hugo Borghi', 'Imprensa', 'Imprensa marrom', 'Instituto de Tecnologia de Massachusetts', 'Inteligência artificial', 'Interferência russa na eleição presidencial nos Estados Unidos em 2016', 'International Standard Book Number', 'International Standard Serial Number', 'Internet', 'Jair Bolsonaro', 'Janine Ribeiro', 'Jim Jones', 'Jornal', 'Jornalismo investigativo', 'Jornalista', 'KGB', 'Linchamento de Fabiane Maria de Jesus', 'Língua inglesa', 'Língua portuguesa', 'MIT', 'Manipulação da mídia', 'Marc Bloch', 'Marco Antônio', 'Medidas ativas', 'Mídia', 'Mídias sociais', 'Negacionismo climático', 'Neologismo', 'Noticiário satírico', 'Notícias falsas no Brasil', 'Número de controle da Biblioteca do Congresso', 'O Globo', 'Ocidente', 'Online', 'Operação INFEKTION', 'Opinião pública', 'Orson Welles', 'Pandemia de COVID-19', 'Papa', 'Paródia', 'Piauí (revista)', 'Plano Cohen', 'Plebiscito', 'Polarização política', 'Preconceito', 'Psique', 'Pós-verdade', 'Radiodifusão', 'Rede Globo', 'Reino Unido', 'Revolução Americana', 'Revolução Francesa', 'Sensacionalismo', 'Serviço de inteligência', 'SoundCloud', 'Spin doctor', 'Sátira', 'São Paulo (estado)', 'Século XXI', 'Teatro Municipal do Rio de Janeiro', 'Templo do Povo', 'Teorias conspiratórias', 'Teorias de conspiração', 'The Guardian', 'The New York Sun', 'Tiradentes', 'Twitter', 'UOL', 'URSS', 'Universidade Federal de Minas Gerais', 'Universidade de São Paulo', 'União Europeia', 'Valor Econômico', 'Verificação de fatos', 'Wikipédia', 'Época (revista)']\n"
     ]
    }
   ],
   "source": [
    "# access page\n",
    "fake = wikipedia.page('Fake News')\n",
    "print('title')\n",
    "print(fake.title)\n",
    "\n",
    "print('url')\n",
    "print(fake.url)\n",
    "\n",
    "print('content')\n",
    "print(fake.content)\n",
    "\n",
    "print('images')\n",
    "print(fake.images)\n",
    "\n",
    "print('links')\n",
    "print(fake.links)"
   ]
  },
  {
   "cell_type": "markdown",
   "metadata": {
    "id": "-mFwCGOkMZUP"
   },
   "source": [
    "## Regex"
   ]
  },
  {
   "cell_type": "code",
   "execution_count": 22,
   "metadata": {
    "id": "YqRnJhV6NEJS"
   },
   "outputs": [],
   "source": [
    "# package regex\n",
    "import re"
   ]
  },
  {
   "cell_type": "code",
   "execution_count": 23,
   "metadata": {
    "id": "FiPltoGeL-9F"
   },
   "outputs": [],
   "source": [
    "content = fake.content"
   ]
  },
  {
   "cell_type": "code",
   "execution_count": 24,
   "metadata": {
    "colab": {
     "base_uri": "https://localhost:8080/"
    },
    "id": "wNAMBIjQMd1J",
    "outputId": "1fb42002-9cb3-4f91-ab95-363bc8764185"
   },
   "outputs": [
    {
     "data": {
      "text/plain": [
       "3064"
      ]
     },
     "execution_count": 24,
     "metadata": {},
     "output_type": "execute_result"
    }
   ],
   "source": [
    "# split words by space\n",
    "spaces = r'\\s+'\n",
    "split_spaces = re.split(spaces, content)\n",
    "len(split_spaces)"
   ]
  },
  {
   "cell_type": "code",
   "execution_count": 26,
   "metadata": {
    "id": "LcOUYRGHNV85"
   },
   "outputs": [
    {
     "data": {
      "text/plain": [
       "['2014',\n",
       " '60',\n",
       " '60',\n",
       " '100',\n",
       " '2017',\n",
       " '58',\n",
       " '43',\n",
       " '39',\n",
       " '27',\n",
       " '14',\n",
       " '3',\n",
       " '4',\n",
       " '70',\n",
       " '1835',\n",
       " '1945',\n",
       " '19',\n",
       " '2',\n",
       " '2017',\n",
       " '19',\n",
       " '2017',\n",
       " '25',\n",
       " '30',\n",
       " '2018',\n",
       " '1',\n",
       " '120',\n",
       " '2006',\n",
       " '2017',\n",
       " '2016',\n",
       " '2018',\n",
       " '2016',\n",
       " '1999',\n",
       " '56',\n",
       " '10134277',\n",
       " '100',\n",
       " '7',\n",
       " '04']"
      ]
     },
     "execution_count": 26,
     "metadata": {},
     "output_type": "execute_result"
    }
   ],
   "source": [
    "# numbers\n",
    "digits = r'\\d+'\n",
    "finded_digits = re.findall(digits, content)\n",
    "finded_digits"
   ]
  },
  {
   "cell_type": "code",
   "execution_count": null,
   "metadata": {
    "id": "7_-hZCBCOK1s"
   },
   "outputs": [],
   "source": [
    "# dots and commas\n",
    "dots_coma = r'[.,]'\n",
    "split_dotcoma = re.split(dots_coma, content)"
   ]
  },
  {
   "cell_type": "code",
   "execution_count": null,
   "metadata": {
    "id": "MW2KkKT7O4mC",
    "scrolled": false
   },
   "outputs": [],
   "source": [
    "comma_space = r'[,]\\s+'\n",
    "split_comma_space = re.split(comma_space, content)"
   ]
  },
  {
   "cell_type": "code",
   "execution_count": 29,
   "metadata": {
    "colab": {
     "base_uri": "https://localhost:8080/"
    },
    "id": "U8JrwfxQPzjN",
    "outputId": "a60ef4f3-c0d8-4b3e-f2ec-4e97f076ae91"
   },
   "outputs": [
    {
     "data": {
      "text/plain": [
       "['fake news',\n",
       " 'fake news',\n",
       " 'fake news',\n",
       " 'fake news',\n",
       " 'fake news',\n",
       " 'fake news',\n",
       " 'fake news',\n",
       " 'fake news']"
      ]
     },
     "execution_count": 29,
     "metadata": {},
     "output_type": "execute_result"
    }
   ],
   "source": [
    "# find all 'fake news'\n",
    "re.findall('fake [A-Za-z]*', content)  # use all letters"
   ]
  },
  {
   "cell_type": "code",
   "execution_count": 30,
   "metadata": {
    "colab": {
     "base_uri": "https://localhost:8080/"
    },
    "id": "rW-9G--HqzuJ",
    "outputId": "05876ed8-1c1c-4398-e069-4581bd0c8ecb"
   },
   "outputs": [
    {
     "name": "stdout",
     "output_type": "stream",
     "text": [
      "None\n",
      "<re.Match object; span=(72, 76), match='news'>\n",
      "<re.Match object; span=(11797, 11805), match='politico'>\n"
     ]
    }
   ],
   "source": [
    "# re.match: return the first match of a substring found, but re.match searches only from the beginning of the string\n",
    "# re.search: _same_, but searches for the whole string\n",
    "print(re.match('news', content))\n",
    "print(re.search('news', content))\n",
    "print(re.search('politico', content))"
   ]
  },
  {
   "cell_type": "code",
   "execution_count": 31,
   "metadata": {
    "colab": {
     "base_uri": "https://localhost:8080/"
    },
    "id": "yno7n3Lbr9zB",
    "outputId": "ab3c5fbf-0dc9-4223-d15e-f3341e9d33ac"
   },
   "outputs": [
    {
     "name": "stdout",
     "output_type": "stream",
     "text": [
      "72 76\n"
     ]
    }
   ],
   "source": [
    "# start and end method\n",
    "news = re.search('news', content)\n",
    "print(news.start(), news.end())"
   ]
  },
  {
   "cell_type": "code",
   "execution_count": 33,
   "metadata": {
    "colab": {
     "base_uri": "https://localhost:8080/"
    },
    "id": "_U-nx7ZdsMwG",
    "outputId": "00101a44-25c4-4fe6-84dc-bf71d14892f1"
   },
   "outputs": [
    {
     "name": "stdout",
     "output_type": "stream",
     "text": [
      "re.search: <re.Match object; span=(16, 77), match='(sendo também muito comum o uso do termo em inglê>\n",
      "re.findall: ['(sendo também muito comum o uso do termo em inglês fake news)', '(\"notícia falsa\", em português)', '(\"sem intenção de fazer mal, mas tem potencial para enganar\")', '(\"quando as manchetes, visuais das legendas não dão suporte a conteúdo\")', '(\"má utilização da informação para moldar um problema ou de um indivíduo\")', '(\"quando o verdadeiro conteúdo é compartilhado com informações falsas contextuais\")', '(\"quando fontes verdadeiras são forjadas\" com conteúdo falso)', '(\"quando informação genuína ou imagens são manipuladas para enganar\", como fotos \"adulteradas\")', '(\"conteúdo novo é 100% falso, projetado para enganar e fazer mal\")', '(fake news, no termo em inglês popularizado pelo presidente dos EUA, Donald Trump)', '(IFLA)', '(imagem da versão em português do diagrama a direita)', '(IFCN)', '(menos de um mês antes do pleito, ocorrido em 2 de dezembro)', '(Brexit)', '(Cód: 10134277)', '(Interaja)', '(#Pirula 100)', '(canal do Pirula)', '(canal Primata Falante)', '(canal Acidez Feminina)']\n"
     ]
    }
   ],
   "source": [
    "# search for anything in parenteses\n",
    "pattern = r'\\(.*?\\)'\n",
    "print('re.search:', re.search(pattern, content))\n",
    "print('re.findall:', re.findall(pattern, content)) "
   ]
  },
  {
   "cell_type": "code",
   "execution_count": 34,
   "metadata": {
    "colab": {
     "base_uri": "https://localhost:8080/",
     "height": 35
    },
    "id": "PAtRhO6FvjYF",
    "outputId": "1303b98d-7ed3-41c3-8ee9-6898daf9ddce"
   },
   "outputs": [
    {
     "data": {
      "text/plain": [
       "'(sendo também muito comum o uso do termo em inglês fake news)'"
      ]
     },
     "execution_count": 34,
     "metadata": {},
     "output_type": "execute_result"
    }
   ],
   "source": [
    "content[16:77]"
   ]
  },
  {
   "cell_type": "code",
   "execution_count": 35,
   "metadata": {
    "colab": {
     "base_uri": "https://localhost:8080/"
    },
    "id": "11DjE2sbwMU3",
    "outputId": "d87697a2-3d42-4111-dda9-1d80d76321e5"
   },
   "outputs": [
    {
     "name": "stdout",
     "output_type": "stream",
     "text": [
      "re.search: <re.Match object; span=(776, 787), match='\"clickbait\"'>\n",
      "re.findall: ['clickbait', 'pós-verdade', 'vacina', 'notícia falsa', 'histórias que são comprovadamente falsas, têm um enorme tração [apelo popular] na cultura, e são consumidas por milhões de pessoas', 'invocadas por políticos contra os meios de comunicação sobre as histórias ou comentários que eles não gostam ', 'Estamos falando de histórias que são fabricadas do nada. De forma geral, criadas deliberadamente e que qualquer por qualquer definição sejam mentira.', 'sem intenção de fazer mal, mas tem potencial para enganar', 'quando as manchetes, visuais das legendas não dão suporte a conteúdo', 'má utilização da informação para moldar um problema ou de um indivíduo', 'quando o verdadeiro conteúdo é compartilhado com informações falsas contextuais', 'quando fontes verdadeiras são forjadas', 'quando informação genuína ou imagens são manipuladas para enganar', 'adulteradas', 'conteúdo novo é 100% falso, projetado para enganar e fazer mal', 'uma história deliberadamente fabricada por um meio de comunicação', 'história divulgada por alguém que finge ser um meio de comunicação', 'uma história que contém erro de informação', 'história tendenciosa', 'imitações fraudulentas de gêneros jornalísticos, cujo objetivo é emprestar as marcas discursivas de uma instituição social dos Estados democráticos para levar o leitor a conferir maior credibilidade a seu conteúdo', 'Aos Fatos', 'Não necessito dos votos dessa malta de desocupados que apoia o ditador para eleger-me presidente da República', 'criação', 'industria de cliques', 'desinformação passível de causar danos físicos às pessoas', 'conteúdos que se opõem às instruções vindas de fontes oficiais e que poderiam aumentar o risco de transmissão', 'quem as cria promove a mentira e manipula os cidadãos em torno de interesses particulares e desonestos', 'comportamento de manada', 'se muitas pessoas compartilham uma ideia, outras tendem a segui-la. É semelhante à escolha de um restaurante quando você não tem informação. Você vê que um está vazio e que outro tem três casais. Escolhe qual? O que tem gente. Você escolhe porque acredita que, se outros já escolheram, deve ter algum fundamento nisso', 'verdade', \"essa tendência traz um elemento triste. Não é apenas falar uma mentira. Ao dizer 'pós', é como se a verdade tivesse acabado e não importa mais. Essa é a diferença entre pós-verdade e todas as formas de manipulação das informações que tivemos antes\", 'a ideia contida aí é relativamente simples: a política teria rompido definitivamente com a verdade factual e passa a se valer de outros recursos para amalgamar os seguidores de suas correntes. É como se a política tivesse sucumbido ao discurso do tipo religioso e se conformado com isso.']\n"
     ]
    }
   ],
   "source": [
    "# search for anything in quotations marks\n",
    "pattern_qm = r'\"(.*?)\"'\n",
    "print('re.search:', re.search(pattern_qm, content))\n",
    "print('re.findall:', re.findall(pattern_qm, content)) "
   ]
  },
  {
   "cell_type": "code",
   "execution_count": 36,
   "metadata": {
    "colab": {
     "base_uri": "https://localhost:8080/"
    },
    "id": "CMNYu4ozyonn",
    "outputId": "d6deabb4-e386-4a1d-dc9b-6d500b6611bd"
   },
   "outputs": [
    {
     "name": "stdout",
     "output_type": "stream",
     "text": [
      "re.search: <re.Match object; span=(2064, 2079), match='== Definição =='>\n",
      "re.findall sections: [' Definição ', ' Identificação ', ' Detecção automática ', ' História ', ' Século XXI ', ' Impactos ', ' Ver também ', ' Referências ', ' Bibliografia ', ' Ligações externas ']\n"
     ]
    }
   ],
   "source": [
    "# seach for sections between \"==\"\n",
    "pattern_qm = r'\\==(\\s.*\\s)\\=='                    # () define groups of patterns, [] define explicity characters\n",
    "print('re.search:', re.search(pattern_qm, content))\n",
    "print('re.findall sections:', re.findall(pattern_qm, content)) "
   ]
  },
  {
   "cell_type": "markdown",
   "metadata": {
    "id": "45RL4H1HXs-A"
   },
   "source": [
    "## Tokenization\n",
    " Transformar strings e documentos into tokens (smaller chunks)\n",
    "\n",
    " Library: NLTK - Natural Language Toolkit\n"
   ]
  },
  {
   "cell_type": "code",
   "execution_count": 37,
   "metadata": {
    "id": "B0b7FSjqXvbT"
   },
   "outputs": [],
   "source": [
    "import nltk"
   ]
  },
  {
   "cell_type": "code",
   "execution_count": 38,
   "metadata": {
    "colab": {
     "base_uri": "https://localhost:8080/"
    },
    "id": "xSF5kugfobpQ",
    "outputId": "3d94c2cd-a446-4349-964a-3bc90f499dfd"
   },
   "outputs": [
    {
     "name": "stderr",
     "output_type": "stream",
     "text": [
      "[nltk_data] Downloading package punkt to /home/douglas/nltk_data...\n",
      "[nltk_data]   Package punkt is already up-to-date!\n"
     ]
    },
    {
     "data": {
      "text/plain": [
       "True"
      ]
     },
     "execution_count": 38,
     "metadata": {},
     "output_type": "execute_result"
    }
   ],
   "source": [
    "nltk.download('punkt')"
   ]
  },
  {
   "cell_type": "code",
   "execution_count": 39,
   "metadata": {
    "id": "NA5DUNrtoLOD"
   },
   "outputs": [],
   "source": [
    "# tokenize sentences\n",
    "sentences = nltk.tokenize.sent_tokenize(content, 'portuguese')"
   ]
  },
  {
   "cell_type": "code",
   "execution_count": 40,
   "metadata": {
    "colab": {
     "base_uri": "https://localhost:8080/"
    },
    "id": "j6nBX7s5pWS8",
    "outputId": "5d4dd3bc-8125-4d21-e2ec-c45b6e490a9c"
   },
   "outputs": [
    {
     "data": {
      "text/plain": [
       "100"
      ]
     },
     "execution_count": 40,
     "metadata": {},
     "output_type": "execute_result"
    }
   ],
   "source": [
    "len(sentences)"
   ]
  },
  {
   "cell_type": "code",
   "execution_count": 41,
   "metadata": {
    "id": "HuW3HWfNo9gz"
   },
   "outputs": [],
   "source": [
    "# tokenize wordds\n",
    "first_tokens = nltk.word_tokenize(sentences[0], 'portuguese')   "
   ]
  },
  {
   "cell_type": "code",
   "execution_count": 42,
   "metadata": {
    "colab": {
     "base_uri": "https://localhost:8080/"
    },
    "id": "rcDSDSsspIN8",
    "outputId": "f4fb9c82-d864-4911-c9b2-c6bda13017cb"
   },
   "outputs": [
    {
     "data": {
      "text/plain": [
       "48"
      ]
     },
     "execution_count": 42,
     "metadata": {},
     "output_type": "execute_result"
    }
   ],
   "source": [
    "len(first_tokens)"
   ]
  },
  {
   "cell_type": "code",
   "execution_count": 43,
   "metadata": {
    "colab": {
     "base_uri": "https://localhost:8080/"
    },
    "id": "811lV2GOp35T",
    "outputId": "6285d3c8-1b28-4657-cb86-a9d1f3abc983"
   },
   "outputs": [
    {
     "data": {
      "text/plain": [
       "1324"
      ]
     },
     "execution_count": 43,
     "metadata": {},
     "output_type": "execute_result"
    }
   ],
   "source": [
    "# tokenize all text - unique\n",
    "len(set(nltk.word_tokenize(content)))"
   ]
  },
  {
   "cell_type": "markdown",
   "metadata": {
    "id": "pYzPpdlp5SG6"
   },
   "source": [
    "## Charts"
   ]
  },
  {
   "cell_type": "code",
   "execution_count": 44,
   "metadata": {
    "id": "Kz1er7Ea7lZf"
   },
   "outputs": [],
   "source": [
    "import matplotlib.pyplot as plt\n",
    "plt.style.use('ggplot')"
   ]
  },
  {
   "cell_type": "code",
   "execution_count": 45,
   "metadata": {
    "colab": {
     "base_uri": "https://localhost:8080/"
    },
    "id": "EXF7DuBXpkL1",
    "outputId": "275250db-e8bf-40e2-a926-75ecaddacd4a"
   },
   "outputs": [
    {
     "data": {
      "text/plain": [
       "3076"
      ]
     },
     "execution_count": 45,
     "metadata": {},
     "output_type": "execute_result"
    }
   ],
   "source": [
    "len(nltk.regexp_tokenize(content, '\\w+'))"
   ]
  },
  {
   "cell_type": "code",
   "execution_count": 46,
   "metadata": {
    "id": "OoXISt417D8s"
   },
   "outputs": [],
   "source": [
    "len_words = [len(w) for w in set(nltk.regexp_tokenize(content, '\\w+'))]"
   ]
  },
  {
   "cell_type": "code",
   "execution_count": 47,
   "metadata": {
    "colab": {
     "base_uri": "https://localhost:8080/",
     "height": 317
    },
    "id": "e0tL9DZf7i0a",
    "outputId": "5f5239ae-12c1-4779-e410-6a00c5d7262b"
   },
   "outputs": [
    {
     "data": {
      "text/plain": [
       "(array([ 62., 180., 345., 329., 116., 169.,  75.,  22.,   6.,   1.]),\n",
       " array([ 1. ,  2.8,  4.6,  6.4,  8.2, 10. , 11.8, 13.6, 15.4, 17.2, 19. ]),\n",
       " <BarContainer object of 10 artists>)"
      ]
     },
     "execution_count": 47,
     "metadata": {},
     "output_type": "execute_result"
    },
    {
     "data": {
      "image/png": "[encoded data removed]",
      "text/plain": [
       "<Figure size 432x288 with 1 Axes>"
      ]
     },
     "metadata": {},
     "output_type": "display_data"
    }
   ],
   "source": [
    "plt.hist(len_words)"
   ]
  },
  {
   "cell_type": "markdown",
   "metadata": {},
   "source": [
    "# Bag of Words\n",
    "\n",
    "- basic method for finding topics in a text "
   ]
  },
  {
   "cell_type": "code",
   "execution_count": 52,
   "metadata": {
    "collapsed": true
   },
   "outputs": [
    {
     "name": "stdout",
     "output_type": "stream",
     "text": [
      "Variable            Type             Data/Info\n",
      "----------------------------------------------\n",
      "comma_space         str              [,]\\s+\n",
      "content             str              Notícias falsas (sendo ta<...>idez Feminina) no YouTube\n",
      "digits              str              \\d+\n",
      "dots_coma           str              [.,]\n",
      "fake                WikipediaPage    <WikipediaPage 'Notícia falsa'>\n",
      "finded_digits       list             n=36\n",
      "first_tokens        list             n=48\n",
      "len_words           list             n=1305\n",
      "news                Match            <re.Match object; span=(72, 76), match='news'>\n",
      "nltk                module           <module 'nltk' from '/hom<...>ckages/nltk/__init__.py'>\n",
      "pattern             str              \\(.*?\\)\n",
      "pattern_qm          str              \\==(\\s.*\\s)\\==\n",
      "plt                 module           <module 'matplotlib.pyplo<...>es/matplotlib/pyplot.py'>\n",
      "re                  module           <module 're' from '/usr/lib/python3.8/re.py'>\n",
      "sentences           list             n=100\n",
      "spaces              str              \\s+\n",
      "split_comma_space   list             n=169\n",
      "split_dotcoma       list             n=280\n",
      "split_spaces        list             n=3064\n",
      "wikipedia           module           <module 'wikipedia' from <...>s/wikipedia/__init__.py'>\n"
     ]
    }
   ],
   "source": [
    "# variables in environment\n",
    "whos"
   ]
  },
  {
   "cell_type": "code",
   "execution_count": null,
   "metadata": {},
   "outputs": [],
   "source": [
    "# import Counter\n",
    "from collections import Counter\n",
    "\n",
    "# tokens\n",
    "tokens = nltk.word_tokenize(content)\n",
    "\n",
    "# creating a counter\n",
    "count_tokens = Counter(tokens)\n",
    "\n",
    "# all elements of counter\n",
    "count_tokens.elements\n",
    "\n",
    "# remove zero and negative counts\n",
    "+count_tokens\n",
    "\n",
    "# most commons\n",
    "count_tokens.most_common(10)\n"
   ]
  },
  {
   "cell_type": "markdown",
   "metadata": {},
   "source": [
    "## Simple preprocessing\n",
    "\n",
    "- tokenization\n",
    "- lowercasing \n",
    "- lemmatization/stemming\n",
    "- removing stopwords, punctuation, or unwanted tokens"
   ]
  },
  {
   "cell_type": "code",
   "execution_count": null,
   "metadata": {},
   "outputs": [],
   "source": [
    "nltk.download('stopwords')"
   ]
  },
  {
   "cell_type": "code",
   "execution_count": 92,
   "metadata": {},
   "outputs": [],
   "source": [
    "# module for stopwords\n",
    "from nltk.corpus import stopwords\n",
    "\n",
    "# only portuguse stopwords\n",
    "pt_stopwords = set(stopwords.words('portuguese'))"
   ]
  },
  {
   "cell_type": "code",
   "execution_count": 72,
   "metadata": {},
   "outputs": [],
   "source": [
    "# tokenization and lowercasing at same time\n",
    "tokens_lower = [w for w in nltk.word_tokenize(content.lower()) if w.isalpha()]"
   ]
  },
  {
   "cell_type": "code",
   "execution_count": 74,
   "metadata": {},
   "outputs": [],
   "source": [
    "# remove stop words\n",
    "no_stops = [t for t in tokens_lower if t not in pt_stopwords]"
   ]
  },
  {
   "cell_type": "code",
   "execution_count": 75,
   "metadata": {},
   "outputs": [
    {
     "data": {
      "text/plain": [
       "[('notícias', 61), ('falsas', 47), ('ser', 13), ('news', 12), ('sobre', 11)]"
      ]
     },
     "execution_count": 75,
     "metadata": {},
     "output_type": "execute_result"
    }
   ],
   "source": [
    "# counter\n",
    "no_stops_counter = Counter(no_stops)\n",
    "no_stops_counter.most_common(5)"
   ]
  },
  {
   "cell_type": "code",
   "execution_count": 81,
   "metadata": {},
   "outputs": [
    {
     "name": "stderr",
     "output_type": "stream",
     "text": [
      "[nltk_data] Downloading package wordnet to /home/douglas/nltk_data...\n",
      "[nltk_data]   Unzipping corpora/wordnet.zip.\n"
     ]
    },
    {
     "data": {
      "text/plain": [
       "True"
      ]
     },
     "execution_count": 81,
     "metadata": {},
     "output_type": "execute_result"
    }
   ],
   "source": [
    "# download wordnet\n",
    "nltk.download('wordnet')"
   ]
  },
  {
   "cell_type": "code",
   "execution_count": 82,
   "metadata": {},
   "outputs": [
    {
     "data": {
      "text/plain": [
       "[('notícias', 61), ('falsas', 47), ('ser', 13), ('news', 12), ('fake', 11)]"
      ]
     },
     "execution_count": 82,
     "metadata": {},
     "output_type": "execute_result"
    }
   ],
   "source": [
    "# stemming instance\n",
    "wordnet_lemmatizer = nltk.stem.WordNetLemmatizer()\n",
    "\n",
    "# act\n",
    "lemmatized = [wordnet_lemmatizer.lemmatize(t) for t in no_stops]\n",
    "\n",
    "# new counter with words lemmatized\n",
    "stem_counter = Counter(lemmatized)\n",
    "stem_counter.most_common(5)"
   ]
  },
  {
   "cell_type": "code",
   "execution_count": 94,
   "metadata": {},
   "outputs": [
    {
     "data": {
      "text/plain": [
       "[('notícias', 61),\n",
       " ('falsas', 47),\n",
       " ('news', 12),\n",
       " ('fake', 11),\n",
       " ('história', 11)]"
      ]
     },
     "execution_count": 94,
     "metadata": {},
     "output_type": "execute_result"
    }
   ],
   "source": [
    "# update stopwords without 'ser', 'sobre'\n",
    "pt_stopwords.update(['ser', 'sobre'])\n",
    "\n",
    "# again\n",
    "no_stops = [t for t in tokens_lower if t not in pt_stopwords]\n",
    "\n",
    "# again update\n",
    "lemmatized = [wordnet_lemmatizer.lemmatize(t) for t in no_stops]\n",
    "\n",
    "# new counter with words lemmatized - update no_stops\n",
    "stem_counter = Counter(lemmatized)\n",
    "stem_counter.most_common(5)"
   ]
  },
  {
   "cell_type": "markdown",
   "metadata": {
    "id": "rha5X71t4yLY"
   },
   "source": [
    "# Twitter Analysis\n"
   ]
  },
  {
   "cell_type": "code",
   "execution_count": 49,
   "metadata": {
    "id": "J-FI85oM40W6"
   },
   "outputs": [
    {
     "data": {
      "text/plain": [
       "'\\n# Import the necessary modules\\nfrom nltk.tokenize import regexp_tokenize\\nfrom nltk.tokenize import TweetTokenizer\\n# Define a regex pattern to find hashtags: pattern1\\npattern1 = r\"#\\\\w+\"\\n# Use the pattern on the first tweet in the tweets list\\nhashtags = regexp_tokenize(tweets[0], pattern1)\\nprint(hashtags)\\n'"
      ]
     },
     "execution_count": 49,
     "metadata": {},
     "output_type": "execute_result"
    }
   ],
   "source": [
    "'''\n",
    "# Import the necessary modules\n",
    "from nltk.tokenize import regexp_tokenize\n",
    "from nltk.tokenize import TweetTokenizer\n",
    "# Define a regex pattern to find hashtags: pattern1\n",
    "pattern1 = r\"#\\w+\"\n",
    "# Use the pattern on the first tweet in the tweets list\n",
    "hashtags = regexp_tokenize(tweets[0], pattern1)\n",
    "print(hashtags)\n",
    "'''\n"
   ]
  },
  {
   "cell_type": "code",
   "execution_count": 50,
   "metadata": {
    "id": "3Pq-RqUd45dm"
   },
   "outputs": [
    {
     "data": {
      "text/plain": [
       "'\\n# Write a pattern that matches both mentions (@) and hashtags\\npattern2 = r\"([@#]\\\\w+)\"\\n# Use the pattern on the last tweet in the tweets list\\nmentions_hashtags = regexp_tokenize(tweets[-1], pattern2)\\nprint(mentions_hashtags)\\n'"
      ]
     },
     "execution_count": 50,
     "metadata": {},
     "output_type": "execute_result"
    }
   ],
   "source": [
    "'''\n",
    "# Write a pattern that matches both mentions (@) and hashtags\n",
    "pattern2 = r\"([@#]\\w+)\"\n",
    "# Use the pattern on the last tweet in the tweets list\n",
    "mentions_hashtags = regexp_tokenize(tweets[-1], pattern2)\n",
    "print(mentions_hashtags)\n",
    "'''"
   ]
  },
  {
   "cell_type": "code",
   "execution_count": 51,
   "metadata": {
    "id": "ViXZYxjL49Jl"
   },
   "outputs": [
    {
     "data": {
      "text/plain": [
       "'\\n# Use the TweetTokenizer to tokenize all tweets into one list\\ntknzr = TweetTokenizer()\\nall_tokens = [tknzr.tokenize(t) for t in tweets]\\nprint(all_tokens)\\n'"
      ]
     },
     "execution_count": 51,
     "metadata": {},
     "output_type": "execute_result"
    }
   ],
   "source": [
    "'''\n",
    "# Use the TweetTokenizer to tokenize all tweets into one list\n",
    "tknzr = TweetTokenizer()\n",
    "all_tokens = [tknzr.tokenize(t) for t in tweets]\n",
    "print(all_tokens)\n",
    "'''\n"
   ]
  }
 ],
 "metadata": {
  "colab": {
   "collapsed_sections": [],
   "name": "PNL.ipynb",
   "provenance": []
  },
  "kernelspec": {
   "display_name": "Python 3",
   "language": "python",
   "name": "python3"
  },
  "language_info": {
   "codemirror_mode": {
    "name": "ipython",
    "version": 3
   },
   "file_extension": ".py",
   "mimetype": "text/x-python",
   "name": "python",
   "nbconvert_exporter": "python",
   "pygments_lexer": "ipython3",
   "version": "3.8.5"
  }
 },
 "nbformat": 4,
 "nbformat_minor": 1
}
