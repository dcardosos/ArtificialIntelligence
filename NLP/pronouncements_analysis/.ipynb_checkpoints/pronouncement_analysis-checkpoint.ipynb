{
 "cells": [
  {
   "cell_type": "markdown",
   "metadata": {
    "colab_type": "text",
    "id": "view-in-github"
   },
   "source": [
    "<a href=\"https://colab.research.google.com/github/douglacardoso/artificial_intelligence/blob/master/pronouncement_analysis.ipynb\" target=\"_parent\"><img src=\"https://colab.research.google.com/assets/colab-badge.svg\" alt=\"Open In Colab\"/></a>"
   ]
  },
  {
   "cell_type": "markdown",
   "metadata": {},
   "source": [
    "# Librarys"
   ]
  },
  {
   "cell_type": "code",
   "execution_count": 4,
   "metadata": {
    "id": "vQPx2E5w8l1x"
   },
   "outputs": [],
   "source": [
    "import requests\n",
    "import os\n",
    "import numpy as np\n",
    "import json\n",
    "from bs4 import BeautifulSoup\n",
    "import nltk\n",
    "import re\n",
    "import matplotlib.pyplot as plt\n",
    "from wordcloud import WordCloud, STOPWORDS, ImageColorGenerator\n",
    "from PIL import Image\n",
    "plt.style.use('ggplot')"
   ]
  },
  {
   "cell_type": "markdown",
   "metadata": {},
   "source": [
    "# Getting pronouncements\n",
    "\n",
    "Function based on the video of the \"Programação Dinâmica\" channel: https://www.youtube.com/watch?v=UlBlbDXh9mc"
   ]
  },
  {
   "cell_type": "code",
   "execution_count": 5,
   "metadata": {
    "id": "7WMc_7JB97ft"
   },
   "outputs": [],
   "source": [
    "BASE_URL = 'https://www.gov.br/planalto/pt-br/acompanhe-o-planalto/pronunciamentos/pronunciamentos-do-presidente-da-republica'\n",
    "DATA_DIR = 'pronunciamentos'"
   ]
  },
  {
   "cell_type": "code",
   "execution_count": 4,
   "metadata": {
    "colab": {
     "base_uri": "https://localhost:8080/"
    },
    "id": "YEEqjlJx-EU2",
    "outputId": "2b4e796f-95cf-4765-ffb6-8f8f21443e63"
   },
   "outputs": [
    {
     "data": {
      "text/plain": [
       "<Response [200]>"
      ]
     },
     "execution_count": 4,
     "metadata": {},
     "output_type": "execute_result"
    }
   ],
   "source": [
    "requests.get(BASE_URL)"
   ]
  },
  {
   "cell_type": "code",
   "execution_count": null,
   "metadata": {
    "colab": {
     "base_uri": "https://localhost:8080/",
     "height": 159
    },
    "id": "sWNAd86y-UEU",
    "outputId": "5d17d160-c85a-4803-f791-b1109c9d0fd6"
   },
   "outputs": [],
   "source": [
    "response = requests.get(BASE_URL)"
   ]
  },
  {
   "cell_type": "code",
   "execution_count": 6,
   "metadata": {
    "id": "X9j2lKnx-byC"
   },
   "outputs": [],
   "source": [
    "bs = BeautifulSoup(response.text)"
   ]
  },
  {
   "cell_type": "code",
   "execution_count": 7,
   "metadata": {
    "id": "HVkAwkF2-8YY"
   },
   "outputs": [],
   "source": [
    "articles = bs.find_all('article')"
   ]
  },
  {
   "cell_type": "code",
   "execution_count": 6,
   "metadata": {
    "id": "9t_jfbP7BbXv"
   },
   "outputs": [],
   "source": [
    "# canonical date, transform date for yearmonthday for easier comparisions\n",
    "def canonical_date(datestr):\n",
    "    return \"\".join(reversed(datestr.split('/')))"
   ]
  },
  {
   "cell_type": "code",
   "execution_count": 7,
   "metadata": {
    "id": "0WQa5VZTQEPL"
   },
   "outputs": [],
   "source": [
    "class Pronouncement:\n",
    "    def __init__(self, bs_article=None):\n",
    "\n",
    "        if bs_article is not None:\n",
    "            self.url = bs_article.find(class_=\"summary url\")[\"href\"]\n",
    "            self.tags = [t.text for t in bs_article.find_all(rel=\"tag\")] \n",
    "\n",
    "            datetime = bs_article.find_all(class_=\"summary-view-icon\")\n",
    "            self.date = canonical_date(datetime[0].text.strip())\n",
    "            self.time =  datetime[1].text.strip()\n",
    "\n",
    "            self.text = self._extract_text()\n",
    "\n",
    "    def _extract_text(self):\n",
    "        r = requests.get(self.url)\n",
    "        bs = BeautifulSoup(r.text)\n",
    "        return bs.find(id=\"parent-fieldname-text\").text.strip()\n",
    "\n",
    "    def save_tojson(p, savedir, name=None):\n",
    "        if name is None:\n",
    "            name = f\"{p.date}-{p.time}.json\"\n",
    "            path = os.path.join(savedir, name)\n",
    "            \n",
    "        with open(path, \"w\") as jsonfile:\n",
    "            json.dump(p.__dict__, jsonfile)\n",
    "\n",
    "    def load_fromjson(filepath):\n",
    "        with open(filepath, \"r\") as jsonfile:\n",
    "            data = json.load(jsonfile)\n",
    "            p = Pronouncement()\n",
    "            p.date = data[\"date\"]\n",
    "            p.time = data[\"time\"]\n",
    "            p.tags = data[\"tags\"]\n",
    "            p.url = data[\"url\"]\n",
    "            p.text = data[\"text\"]\n",
    "        return p"
   ]
  },
  {
   "cell_type": "code",
   "execution_count": 11,
   "metadata": {
    "id": "AdJn82rcNfBR",
    "scrolled": false
   },
   "outputs": [],
   "source": [
    "pronouncements = [Pronouncement(art) for art in articles]"
   ]
  },
  {
   "cell_type": "code",
   "execution_count": 12,
   "metadata": {
    "id": "SNGHjxI5N84y"
   },
   "outputs": [
    {
     "data": {
      "text/plain": [
       "'\\nfor p in pronouncements:\\n    Pronouncement.save_tojson(p, DATA_DIR)\\n'"
      ]
     },
     "execution_count": 12,
     "metadata": {},
     "output_type": "execute_result"
    }
   ],
   "source": [
    "'''\n",
    "for p in pronouncements:\n",
    "    Pronouncement.save_tojson(p, DATA_DIR)\n",
    "'''"
   ]
  },
  {
   "cell_type": "code",
   "execution_count": 9,
   "metadata": {
    "id": "OgdejkyNOR93"
   },
   "outputs": [],
   "source": [
    "filenames = os.listdir(DATA_DIR)"
   ]
  },
  {
   "cell_type": "code",
   "execution_count": 10,
   "metadata": {
    "id": "2GyEXjYTPBiJ"
   },
   "outputs": [],
   "source": [
    "pronunciamentos = []\n",
    "for name in filenames:\n",
    "    path = os.path.join(DATA_DIR, name)\n",
    "    pronunciamentos.append(Pronouncement.load_fromjson(path))"
   ]
  },
  {
   "cell_type": "markdown",
   "metadata": {},
   "source": [
    "# Analysis\n",
    "\n",
    "My own analysis"
   ]
  },
  {
   "cell_type": "code",
   "execution_count": 11,
   "metadata": {},
   "outputs": [],
   "source": [
    "first_p = pronunciamentos[0].text"
   ]
  },
  {
   "cell_type": "code",
   "execution_count": 12,
   "metadata": {},
   "outputs": [
    {
     "name": "stdout",
     "output_type": "stream",
     "text": [
      "Palácio da Alvorada, 01 de setembro de 2020\n",
      " \n",
      "Bom dia.\n",
      "Acabamos uma reunião muito produtiva com os líderes e tomamos duas decisões. \n",
      "A primeira, encaminhar, na quinta-feira, a Reforma Administrativa, que fique bem claro, não atingirá nenhum dos atuais servidores. Ela se aplicará apenas os futuros servidores concursados.\n",
      " E a segunda medida, depois que nós criamos há praticamente 5 meses o Auxílio Emergencial de 600 reais, ele validou-se por 3 meses. Por Decreto nós o prorrogamos por mais 2 meses e agora resolvemos prorrogá-lo por Medida Provisória, até o final do ano. \n",
      "E o valor, com vínhamos dizendo, 600 é muito para quem paga, no caso o Brasil e podemos dizer que não é um valor o suficiente muitas vezes, para todas as necessidades, mas basicamente atende. Até porque o valor definido agora há pouco, ele é um pouco superior a 50% do valor do salário mínimo, ou melhor do Bolsa Família. Obrigado aí, do Bolsa Família. Então, nós decidimos aqui, até atendendo a economia em cima da responsabilidade fiscal, fixado em 300 reais.\n"
     ]
    }
   ],
   "source": [
    "print(first_p)"
   ]
  },
  {
   "cell_type": "code",
   "execution_count": 13,
   "metadata": {},
   "outputs": [
    {
     "data": {
      "text/plain": [
       "['01', '2020', '5', '600', '3', '2', '600', '50', '300']"
      ]
     },
     "execution_count": 13,
     "metadata": {},
     "output_type": "execute_result"
    }
   ],
   "source": [
    "# digits\n",
    "re.findall(r'\\d+',first_p)"
   ]
  },
  {
   "cell_type": "code",
   "execution_count": 14,
   "metadata": {},
   "outputs": [
    {
     "name": "stderr",
     "output_type": "stream",
     "text": [
      "[nltk_data] Downloading package punkt to /home/douglas/nltk_data...\n",
      "[nltk_data]   Package punkt is already up-to-date!\n"
     ]
    },
    {
     "data": {
      "text/plain": [
       "True"
      ]
     },
     "execution_count": 14,
     "metadata": {},
     "output_type": "execute_result"
    }
   ],
   "source": [
    "nltk.download('punkt')"
   ]
  },
  {
   "cell_type": "code",
   "execution_count": 15,
   "metadata": {},
   "outputs": [],
   "source": [
    "sentences = nltk.tokenize.sent_tokenize(first_p)"
   ]
  },
  {
   "cell_type": "code",
   "execution_count": 16,
   "metadata": {},
   "outputs": [
    {
     "name": "stdout",
     "output_type": "stream",
     "text": [
      "Palácio da Alvorada, 01 de setembro de 2020\n",
      " \n",
      "Bom dia.\n",
      "Acabamos uma reunião muito produtiva com os líderes e tomamos duas decisões.\n",
      "A primeira, encaminhar, na quinta-feira, a Reforma Administrativa, que fique bem claro, não atingirá nenhum dos atuais servidores.\n",
      "Ela se aplicará apenas os futuros servidores concursados.\n",
      "E a segunda medida, depois que nós criamos há praticamente 5 meses o Auxílio Emergencial de 600 reais, ele validou-se por 3 meses.\n",
      "Por Decreto nós o prorrogamos por mais 2 meses e agora resolvemos prorrogá-lo por Medida Provisória, até o final do ano.\n",
      "E o valor, com vínhamos dizendo, 600 é muito para quem paga, no caso o Brasil e podemos dizer que não é um valor o suficiente muitas vezes, para todas as necessidades, mas basicamente atende.\n",
      "Até porque o valor definido agora há pouco, ele é um pouco superior a 50% do valor do salário mínimo, ou melhor do Bolsa Família.\n",
      "Obrigado aí, do Bolsa Família.\n",
      "Então, nós decidimos aqui, até atendendo a economia em cima da responsabilidade fiscal, fixado em 300 reais.\n"
     ]
    }
   ],
   "source": [
    "for s in sentences:\n",
    "    print(s)"
   ]
  },
  {
   "cell_type": "code",
   "execution_count": 17,
   "metadata": {},
   "outputs": [],
   "source": [
    "first_tokens = nltk.word_tokenize(sentences[1]) "
   ]
  },
  {
   "cell_type": "code",
   "execution_count": 18,
   "metadata": {},
   "outputs": [
    {
     "data": {
      "text/plain": [
       "['Acabamos',\n",
       " 'uma',\n",
       " 'reunião',\n",
       " 'muito',\n",
       " 'produtiva',\n",
       " 'com',\n",
       " 'os',\n",
       " 'líderes',\n",
       " 'e',\n",
       " 'tomamos',\n",
       " 'duas',\n",
       " 'decisões',\n",
       " '.']"
      ]
     },
     "execution_count": 18,
     "metadata": {},
     "output_type": "execute_result"
    }
   ],
   "source": [
    "first_tokens"
   ]
  },
  {
   "cell_type": "code",
   "execution_count": 19,
   "metadata": {},
   "outputs": [],
   "source": [
    "words_len = [len(w) for w in set(nltk.regexp_tokenize(first_p, '\\w+'))]"
   ]
  },
  {
   "cell_type": "code",
   "execution_count": 25,
   "metadata": {},
   "outputs": [
    {
     "data": {
      "text/plain": [
       "(array([25., 19., 24., 15., 28.,  3.,  9.,  2.,  1.,  1.]),\n",
       " array([ 1. ,  2.5,  4. ,  5.5,  7. ,  8.5, 10. , 11.5, 13. , 14.5, 16. ]),\n",
       " <BarContainer object of 10 artists>)"
      ]
     },
     "execution_count": 25,
     "metadata": {},
     "output_type": "execute_result"
    },
    {
     "data": {
      "image/png": "[encoded data removed]",
      "text/plain": [
       "<Figure size 432x288 with 1 Axes>"
      ]
     },
     "metadata": {},
     "output_type": "display_data"
    }
   ],
   "source": [
    "plt.hist(words_len)"
   ]
  },
  {
   "cell_type": "code",
   "execution_count": 20,
   "metadata": {},
   "outputs": [
    {
     "data": {
      "text/plain": [
       "53489"
      ]
     },
     "execution_count": 20,
     "metadata": {},
     "output_type": "execute_result"
    }
   ],
   "source": [
    "# join all pronouncements\n",
    "text = \"\".join(p.text for p in pronunciamentos)\n",
    "len(text)"
   ]
  },
  {
   "cell_type": "markdown",
   "metadata": {},
   "source": [
    "# Wordcloud of the most common words"
   ]
  },
  {
   "cell_type": "code",
   "execution_count": 21,
   "metadata": {},
   "outputs": [
    {
     "name": "stderr",
     "output_type": "stream",
     "text": [
      "[nltk_data] Downloading package stopwords to\n",
      "[nltk_data]     /home/douglas/nltk_data...\n",
      "[nltk_data]   Package stopwords is already up-to-date!\n"
     ]
    },
    {
     "data": {
      "text/plain": [
       "True"
      ]
     },
     "execution_count": 21,
     "metadata": {},
     "output_type": "execute_result"
    }
   ],
   "source": [
    "# stopwords\n",
    "nltk.download('stopwords')"
   ]
  },
  {
   "cell_type": "code",
   "execution_count": 27,
   "metadata": {},
   "outputs": [],
   "source": [
    "stopwords = set(nltk.corpus.stopwords.words('portuguese'))\n",
    "stopwords.update(['Palacio', 'Palácio', 'Alvorada', 'Brasília', 'ser', 'todo', 'todos', 'presidente', \n",
    "                  'ano', 'então', 'outra', 'apenas', 'bem'])"
   ]
  },
  {
   "cell_type": "code",
   "execution_count": 39,
   "metadata": {},
   "outputs": [
    {
     "data": {
      "text/plain": [
       "array([[[255, 255, 255, 255],\n",
       "        [255, 255, 255, 255],\n",
       "        [255, 255, 255, 255],\n",
       "        ...,\n",
       "        [255, 255, 255, 255],\n",
       "        [255, 255, 255, 255],\n",
       "        [255, 255, 255, 255]],\n",
       "\n",
       "       [[255, 255, 255, 255],\n",
       "        [255, 255, 255, 255],\n",
       "        [255, 255, 255, 255],\n",
       "        ...,\n",
       "        [255, 255, 255, 255],\n",
       "        [255, 255, 255, 255],\n",
       "        [255, 255, 255, 255]],\n",
       "\n",
       "       [[255, 255, 255, 255],\n",
       "        [255, 255, 255, 255],\n",
       "        [255, 255, 255, 255],\n",
       "        ...,\n",
       "        [255, 255, 255, 255],\n",
       "        [255, 255, 255, 255],\n",
       "        [255, 255, 255, 255]],\n",
       "\n",
       "       ...,\n",
       "\n",
       "       [[255, 255, 255, 255],\n",
       "        [255, 255, 255, 255],\n",
       "        [255, 255, 255, 255],\n",
       "        ...,\n",
       "        [255, 255, 255, 255],\n",
       "        [255, 255, 255, 255],\n",
       "        [255, 255, 255, 255]],\n",
       "\n",
       "       [[255, 255, 255, 255],\n",
       "        [255, 255, 255, 255],\n",
       "        [255, 255, 255, 255],\n",
       "        ...,\n",
       "        [255, 255, 255, 255],\n",
       "        [255, 255, 255, 255],\n",
       "        [255, 255, 255, 255]],\n",
       "\n",
       "       [[255, 255, 255, 255],\n",
       "        [255, 255, 255, 255],\n",
       "        [255, 255, 255, 255],\n",
       "        ...,\n",
       "        [255, 255, 255, 255],\n",
       "        [255, 255, 255, 255],\n",
       "        [255, 255, 255, 255]]], dtype=uint8)"
      ]
     },
     "execution_count": 39,
     "metadata": {},
     "output_type": "execute_result"
    }
   ],
   "source": [
    "mask = np.array(Image.open('img/br.png'))\n",
    "mask"
   ]
  },
  {
   "cell_type": "code",
   "execution_count": 40,
   "metadata": {},
   "outputs": [],
   "source": [
    "def transform_format(val):\n",
    "    if val == 0:\n",
    "        return 255\n",
    "    else:\n",
    "        return val"
   ]
  },
  {
   "cell_type": "code",
   "execution_count": 44,
   "metadata": {},
   "outputs": [
    {
     "data": {
      "text/plain": [
       "'\\n# Transform your mask into a new one that will work with the function:\\ntransformed_mask = np.ndarray((mask.shape[0],mask.shape[1]), np.int32)\\n\\nfor i in range(len(mask)):\\n    transformed_mask[i] = list(map(transform_format, mask[i]))\\n'"
      ]
     },
     "execution_count": 44,
     "metadata": {},
     "output_type": "execute_result"
    }
   ],
   "source": [
    "'''\n",
    "# Transform your mask into a new one that will work with the function:\n",
    "transformed_mask = np.ndarray((mask.shape[0],mask.shape[1]), np.int32)\n",
    "\n",
    "for i in range(len(mask)):\n",
    "    transformed_mask[i] = list(map(transform_format, mask[i]))\n",
    "'''"
   ]
  },
  {
   "cell_type": "code",
   "execution_count": 42,
   "metadata": {},
   "outputs": [],
   "source": [
    "wordcloud = WordCloud(background_color='white', max_words=200,\n",
    "                      stopwords=stopwords, collocations=False, mask=mask)\n",
    "wordcloud = wordcloud.generate(text)"
   ]
  },
  {
   "cell_type": "code",
   "execution_count": 43,
   "metadata": {
    "scrolled": true
   },
   "outputs": [
    {
     "data": {
      "image/png": "[encoded data removed]",
      "text/plain": [
       "<Figure size 432x288 with 1 Axes>"
      ]
     },
     "metadata": {},
     "output_type": "display_data"
    }
   ],
   "source": [
    "#fig, ax = plt.subplots(figsize=(12,17))\n",
    "#ax.imshow(wordcloud, interpolation='bilinear')\n",
    "#ax.set_axis_off()\n",
    "plt.imshow(wordcloud, interpolation='bilinear')\n",
    "plt.axis('off')\n",
    "plt.show()"
   ]
  },
  {
   "cell_type": "code",
   "execution_count": 38,
   "metadata": {},
   "outputs": [
    {
     "data": {
      "text/plain": [
       "<wordcloud.wordcloud.WordCloud at 0x7f80c2785400>"
      ]
     },
     "execution_count": 38,
     "metadata": {},
     "output_type": "execute_result"
    }
   ],
   "source": [
    "#save file\n",
    "wordcloud.to_file('img/bolsonaro_words.png')"
   ]
  }
 ],
 "metadata": {
  "colab": {
   "authorship_tag": "ABX9TyPKoT49KLTs3BvSsZWYau8f",
   "include_colab_link": true,
   "name": "pronouncement_analysis.ipynb",
   "provenance": []
  },
  "kernelspec": {
   "display_name": "Python 3",
   "language": "python",
   "name": "python3"
  },
  "language_info": {
   "codemirror_mode": {
    "name": "ipython",
    "version": 3
   },
   "file_extension": ".py",
   "mimetype": "text/x-python",
   "name": "python",
   "nbconvert_exporter": "python",
   "pygments_lexer": "ipython3",
   "version": "3.8.5"
  }
 },
 "nbformat": 4,
 "nbformat_minor": 1
}
