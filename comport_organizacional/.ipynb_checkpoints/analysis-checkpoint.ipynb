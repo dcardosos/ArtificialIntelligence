{
 "cells": [
  {
   "cell_type": "code",
   "execution_count": 149,
   "id": "a46fab5a",
   "metadata": {},
   "outputs": [],
   "source": [
    "import pandas as pd\n",
    "import numpy as np\n",
    "import csv\n",
    "import seaborn as sns\n",
    "import matplotlib.pyplot as plt\n",
    "from sklearn.cluster import KMeans\n",
    "from sklearn.preprocessing import MinMaxScaler\n",
    "import plotly.graph_objects as go\n",
    "import plotly.express as px\n",
    "import psutil\n",
    "import re\n",
    "plt.style.use('ggplot')"
   ]
  },
  {
   "cell_type": "code",
   "execution_count": 2,
   "id": "d144748c",
   "metadata": {},
   "outputs": [],
   "source": [
    "df = pd.read_csv('pesquisa_valores.csv', skiprows=1, index_col=0)"
   ]
  },
  {
   "cell_type": "code",
   "execution_count": 3,
   "id": "1f48d11c",
   "metadata": {},
   "outputs": [],
   "source": [
    "with open('pesquisa_valores.csv', newline='') as f:\n",
    "    reader = csv.reader(f)\n",
    "    header_legend = next(reader)"
   ]
  },
  {
   "cell_type": "code",
   "execution_count": 4,
   "id": "36cb6512",
   "metadata": {},
   "outputs": [
    {
     "data": {
      "text/html": [
       "<div>\n",
       "<style scoped>\n",
       "    .dataframe tbody tr th:only-of-type {\n",
       "        vertical-align: middle;\n",
       "    }\n",
       "\n",
       "    .dataframe tbody tr th {\n",
       "        vertical-align: top;\n",
       "    }\n",
       "\n",
       "    .dataframe thead th {\n",
       "        text-align: right;\n",
       "    }\n",
       "</style>\n",
       "<table border=\"1\" class=\"dataframe\">\n",
       "  <thead>\n",
       "    <tr style=\"text-align: right;\">\n",
       "      <th></th>\n",
       "      <th>Ter prazer no que faço</th>\n",
       "      <th>Ajudar os outros</th>\n",
       "      <th>Supervisionar outras pessoas</th>\n",
       "      <th>Ter melhores condições de vida</th>\n",
       "      <th>Ser feliz com o trabalho que realizo</th>\n",
       "      <th>Colaborar para o desenvolvimento da sociedade</th>\n",
       "      <th>Obter posição de destaque</th>\n",
       "      <th>Estabilidade financeira</th>\n",
       "      <th>Identificar-me com o trabalho</th>\n",
       "      <th>Ser útil para a sociedade</th>\n",
       "      <th>...</th>\n",
       "      <th>Enfrentar desafios</th>\n",
       "      <th>Realizar um trabalho significativo para mim</th>\n",
       "      <th>Preservar minha saúde</th>\n",
       "      <th>Crescimento intelectual</th>\n",
       "      <th>Trabalho variado</th>\n",
       "      <th>Aprimorar conhecimentos da minha profissão</th>\n",
       "      <th>Atualmente, o setor que prefiro me inserir para trabalhar é:</th>\n",
       "      <th>Minha atual organização é:</th>\n",
       "      <th>Idade</th>\n",
       "      <th>Disponibilizar dados</th>\n",
       "    </tr>\n",
       "  </thead>\n",
       "  <tbody>\n",
       "    <tr>\n",
       "      <th>1</th>\n",
       "      <td>6</td>\n",
       "      <td>6</td>\n",
       "      <td>4</td>\n",
       "      <td>7</td>\n",
       "      <td>6</td>\n",
       "      <td>7</td>\n",
       "      <td>3</td>\n",
       "      <td>7</td>\n",
       "      <td>5</td>\n",
       "      <td>6</td>\n",
       "      <td>...</td>\n",
       "      <td>2</td>\n",
       "      <td>6</td>\n",
       "      <td>7</td>\n",
       "      <td>5</td>\n",
       "      <td>7</td>\n",
       "      <td>5</td>\n",
       "      <td>Ambos</td>\n",
       "      <td>Não estou trabalhando</td>\n",
       "      <td>19</td>\n",
       "      <td>Não</td>\n",
       "    </tr>\n",
       "    <tr>\n",
       "      <th>2</th>\n",
       "      <td>6</td>\n",
       "      <td>7</td>\n",
       "      <td>4</td>\n",
       "      <td>7</td>\n",
       "      <td>6</td>\n",
       "      <td>7</td>\n",
       "      <td>6</td>\n",
       "      <td>5</td>\n",
       "      <td>5</td>\n",
       "      <td>7</td>\n",
       "      <td>...</td>\n",
       "      <td>5</td>\n",
       "      <td>5</td>\n",
       "      <td>7</td>\n",
       "      <td>5</td>\n",
       "      <td>6</td>\n",
       "      <td>7</td>\n",
       "      <td>Setor privado</td>\n",
       "      <td>Não estou trabalhando</td>\n",
       "      <td>18</td>\n",
       "      <td>Sim</td>\n",
       "    </tr>\n",
       "    <tr>\n",
       "      <th>3</th>\n",
       "      <td>6</td>\n",
       "      <td>6</td>\n",
       "      <td>4</td>\n",
       "      <td>5</td>\n",
       "      <td>6</td>\n",
       "      <td>5</td>\n",
       "      <td>4</td>\n",
       "      <td>6</td>\n",
       "      <td>7</td>\n",
       "      <td>5</td>\n",
       "      <td>...</td>\n",
       "      <td>4</td>\n",
       "      <td>7</td>\n",
       "      <td>7</td>\n",
       "      <td>6</td>\n",
       "      <td>6</td>\n",
       "      <td>6</td>\n",
       "      <td>Setor privado</td>\n",
       "      <td>Não estou trabalhando</td>\n",
       "      <td>19</td>\n",
       "      <td>Sim</td>\n",
       "    </tr>\n",
       "    <tr>\n",
       "      <th>4</th>\n",
       "      <td>6</td>\n",
       "      <td>6</td>\n",
       "      <td>4</td>\n",
       "      <td>7</td>\n",
       "      <td>6</td>\n",
       "      <td>6</td>\n",
       "      <td>5</td>\n",
       "      <td>7</td>\n",
       "      <td>7</td>\n",
       "      <td>7</td>\n",
       "      <td>...</td>\n",
       "      <td>5</td>\n",
       "      <td>6</td>\n",
       "      <td>6</td>\n",
       "      <td>6</td>\n",
       "      <td>4</td>\n",
       "      <td>5</td>\n",
       "      <td>Setor privado</td>\n",
       "      <td>Não estou trabalhando</td>\n",
       "      <td>19</td>\n",
       "      <td>Sim</td>\n",
       "    </tr>\n",
       "    <tr>\n",
       "      <th>5</th>\n",
       "      <td>7</td>\n",
       "      <td>7</td>\n",
       "      <td>3</td>\n",
       "      <td>4</td>\n",
       "      <td>7</td>\n",
       "      <td>7</td>\n",
       "      <td>5</td>\n",
       "      <td>7</td>\n",
       "      <td>7</td>\n",
       "      <td>7</td>\n",
       "      <td>...</td>\n",
       "      <td>7</td>\n",
       "      <td>7</td>\n",
       "      <td>7</td>\n",
       "      <td>7</td>\n",
       "      <td>7</td>\n",
       "      <td>7</td>\n",
       "      <td>Ambos</td>\n",
       "      <td>Não estou trabalhando</td>\n",
       "      <td>19</td>\n",
       "      <td>Sim</td>\n",
       "    </tr>\n",
       "  </tbody>\n",
       "</table>\n",
       "<p>5 rows × 49 columns</p>\n",
       "</div>"
      ],
      "text/plain": [
       "   Ter prazer no que faço  Ajudar os outros  Supervisionar outras pessoas  \\\n",
       "1                       6                 6                             4   \n",
       "2                       6                 7                             4   \n",
       "3                       6                 6                             4   \n",
       "4                       6                 6                             4   \n",
       "5                       7                 7                             3   \n",
       "\n",
       "   Ter melhores condições de vida  Ser feliz com o trabalho que realizo  \\\n",
       "1                               7                                     6   \n",
       "2                               7                                     6   \n",
       "3                               5                                     6   \n",
       "4                               7                                     6   \n",
       "5                               4                                     7   \n",
       "\n",
       "   Colaborar para o desenvolvimento da sociedade  Obter posição de destaque  \\\n",
       "1                                              7                          3   \n",
       "2                                              7                          6   \n",
       "3                                              5                          4   \n",
       "4                                              6                          5   \n",
       "5                                              7                          5   \n",
       "\n",
       "   Estabilidade financeira  Identificar-me com o trabalho  \\\n",
       "1                        7                              5   \n",
       "2                        5                              5   \n",
       "3                        6                              7   \n",
       "4                        7                              7   \n",
       "5                        7                              7   \n",
       "\n",
       "   Ser útil para a sociedade  ...  Enfrentar desafios  \\\n",
       "1                          6  ...                   2   \n",
       "2                          7  ...                   5   \n",
       "3                          5  ...                   4   \n",
       "4                          7  ...                   5   \n",
       "5                          7  ...                   7   \n",
       "\n",
       "   Realizar um trabalho significativo para mim  Preservar minha saúde  \\\n",
       "1                                            6                      7   \n",
       "2                                            5                      7   \n",
       "3                                            7                      7   \n",
       "4                                            6                      6   \n",
       "5                                            7                      7   \n",
       "\n",
       "   Crescimento intelectual  Trabalho variado  \\\n",
       "1                        5                 7   \n",
       "2                        5                 6   \n",
       "3                        6                 6   \n",
       "4                        6                 4   \n",
       "5                        7                 7   \n",
       "\n",
       "   Aprimorar conhecimentos da minha profissão  \\\n",
       "1                                           5   \n",
       "2                                           7   \n",
       "3                                           6   \n",
       "4                                           5   \n",
       "5                                           7   \n",
       "\n",
       "   Atualmente, o setor que prefiro me inserir para trabalhar é:   \\\n",
       "1                                              Ambos               \n",
       "2                                      Setor privado               \n",
       "3                                      Setor privado               \n",
       "4                                      Setor privado               \n",
       "5                                              Ambos               \n",
       "\n",
       "   Minha atual organização é:  Idade  Disponibilizar dados  \n",
       "1       Não estou trabalhando     19                   Não  \n",
       "2       Não estou trabalhando     18                   Sim  \n",
       "3       Não estou trabalhando     19                   Sim  \n",
       "4       Não estou trabalhando     19                   Sim  \n",
       "5       Não estou trabalhando     19                   Sim  \n",
       "\n",
       "[5 rows x 49 columns]"
      ]
     },
     "execution_count": 4,
     "metadata": {},
     "output_type": "execute_result"
    }
   ],
   "source": [
    "df.head()"
   ]
  },
  {
   "cell_type": "code",
   "execution_count": 5,
   "id": "570049d3",
   "metadata": {
    "scrolled": true
   },
   "outputs": [
    {
     "name": "stdout",
     "output_type": "stream",
     "text": [
      "rows: 94\n",
      "columns: 49\n"
     ]
    }
   ],
   "source": [
    "print(f'rows: {df.shape[0]}\\ncolumns: {df.shape[1]}')"
   ]
  },
  {
   "cell_type": "markdown",
   "id": "50af8957",
   "metadata": {},
   "source": [
    "#### colocando a coluna de mediana no dataframe estatístico"
   ]
  },
  {
   "cell_type": "code",
   "execution_count": 6,
   "id": "8cf45080",
   "metadata": {},
   "outputs": [],
   "source": [
    "median_row = df.median().values.tolist()\n",
    "median_row.insert(0, 'median')"
   ]
  },
  {
   "cell_type": "code",
   "execution_count": 7,
   "id": "9531b646",
   "metadata": {},
   "outputs": [],
   "source": [
    "b_stats = df.describe()[1:3]"
   ]
  },
  {
   "cell_type": "code",
   "execution_count": 8,
   "id": "45adab1b",
   "metadata": {
    "scrolled": true
   },
   "outputs": [],
   "source": [
    "b_stats = b_stats.reset_index()"
   ]
  },
  {
   "cell_type": "code",
   "execution_count": 9,
   "id": "b00e4c63",
   "metadata": {},
   "outputs": [],
   "source": [
    "b_stats.loc[-1] = median_row\n",
    "b_stats.index += 1\n",
    "b_stats = b_stats.set_index('index')"
   ]
  },
  {
   "cell_type": "code",
   "execution_count": 10,
   "id": "f6313449",
   "metadata": {},
   "outputs": [],
   "source": [
    "b_stats = b_stats.transpose()"
   ]
  },
  {
   "cell_type": "code",
   "execution_count": 11,
   "id": "b346cd4b",
   "metadata": {},
   "outputs": [
    {
     "data": {
      "text/html": [
       "<div>\n",
       "<style scoped>\n",
       "    .dataframe tbody tr th:only-of-type {\n",
       "        vertical-align: middle;\n",
       "    }\n",
       "\n",
       "    .dataframe tbody tr th {\n",
       "        vertical-align: top;\n",
       "    }\n",
       "\n",
       "    .dataframe thead th {\n",
       "        text-align: right;\n",
       "    }\n",
       "</style>\n",
       "<table border=\"1\" class=\"dataframe\">\n",
       "  <thead>\n",
       "    <tr style=\"text-align: right;\">\n",
       "      <th>index</th>\n",
       "      <th>mean</th>\n",
       "      <th>std</th>\n",
       "      <th>median</th>\n",
       "    </tr>\n",
       "  </thead>\n",
       "  <tbody>\n",
       "    <tr>\n",
       "      <th>Ter prazer no que faço</th>\n",
       "      <td>5.851064</td>\n",
       "      <td>1.243974</td>\n",
       "      <td>6.0</td>\n",
       "    </tr>\n",
       "    <tr>\n",
       "      <th>Ajudar os outros</th>\n",
       "      <td>5.106383</td>\n",
       "      <td>1.363645</td>\n",
       "      <td>5.0</td>\n",
       "    </tr>\n",
       "    <tr>\n",
       "      <th>Supervisionar outras pessoas</th>\n",
       "      <td>3.276596</td>\n",
       "      <td>1.347273</td>\n",
       "      <td>3.0</td>\n",
       "    </tr>\n",
       "    <tr>\n",
       "      <th>Ter melhores condições de vida</th>\n",
       "      <td>6.255319</td>\n",
       "      <td>1.015325</td>\n",
       "      <td>7.0</td>\n",
       "    </tr>\n",
       "    <tr>\n",
       "      <th>Ser feliz com o trabalho que realizo</th>\n",
       "      <td>6.053191</td>\n",
       "      <td>1.148791</td>\n",
       "      <td>6.0</td>\n",
       "    </tr>\n",
       "  </tbody>\n",
       "</table>\n",
       "</div>"
      ],
      "text/plain": [
       "index                                     mean       std  median\n",
       "Ter prazer no que faço                5.851064  1.243974     6.0\n",
       "Ajudar os outros                      5.106383  1.363645     5.0\n",
       "Supervisionar outras pessoas          3.276596  1.347273     3.0\n",
       "Ter melhores condições de vida        6.255319  1.015325     7.0\n",
       "Ser feliz com o trabalho que realizo  6.053191  1.148791     6.0"
      ]
     },
     "execution_count": 11,
     "metadata": {},
     "output_type": "execute_result"
    }
   ],
   "source": [
    "b_stats.head()"
   ]
  },
  {
   "cell_type": "markdown",
   "id": "ddf04f96",
   "metadata": {},
   "source": [
    "### Quais as maiores média  e mediana?"
   ]
  },
  {
   "cell_type": "code",
   "execution_count": 12,
   "id": "674fe672",
   "metadata": {},
   "outputs": [
    {
     "data": {
      "text/plain": [
       "Ser independente financeiramente                 6.595745\n",
       "Poder me sustentar                               6.510638\n",
       "Estabilidade financeira                          6.319149\n",
       "Ter melhores condições de vida                   6.255319\n",
       "Melhorar a qualidade de vida da minha família    6.095745\n",
       "Ser feliz com o trabalho que realizo             6.053191\n",
       "Realização pessoal                               6.053191\n",
       "Realização profissional                          5.978723\n",
       "Satisfação Pessoal                               5.968085\n",
       "Crescimento intelectual                          5.925532\n",
       "Name: mean, dtype: float64"
      ]
     },
     "execution_count": 12,
     "metadata": {},
     "output_type": "execute_result"
    }
   ],
   "source": [
    "b_stats['mean'].sort_values(ascending=False)[1:11]"
   ]
  },
  {
   "cell_type": "code",
   "execution_count": 13,
   "id": "948e4cc7",
   "metadata": {},
   "outputs": [
    {
     "data": {
      "text/plain": [
       "Estabilidade financeira                          7.0\n",
       "Ser independente financeiramente                 7.0\n",
       "Poder me sustentar                               7.0\n",
       "Melhorar a qualidade de vida da minha família    7.0\n",
       "Ter melhores condições de vida                   7.0\n",
       "Ter prazer no que faço                           6.0\n",
       "Realizar um trabalho significativo para mim      6.0\n",
       "Realização profissional                          6.0\n",
       "Trabalho Interessante                            6.0\n",
       "Gostar do que faço                               6.0\n",
       "Name: median, dtype: float64"
      ]
     },
     "execution_count": 13,
     "metadata": {},
     "output_type": "execute_result"
    }
   ],
   "source": [
    "b_stats['median'].sort_values(ascending=False)[1:11]"
   ]
  },
  {
   "cell_type": "markdown",
   "id": "70227446",
   "metadata": {},
   "source": [
    "### Quais as piores médias e medianas?"
   ]
  },
  {
   "cell_type": "code",
   "execution_count": 14,
   "id": "bd06c0e4",
   "metadata": {},
   "outputs": [
    {
     "data": {
      "text/plain": [
       "Mudar o mundo                                                                4.361702\n",
       "Ter prestígio                                                                3.968085\n",
       "Ter notoriedade                                                              3.797872\n",
       "Ter superioridade baseada no êxito do meu trabalho                           3.691489\n",
       "Status no trabalho                                                           3.531915\n",
       "Supervisionar outras pessoas                                                 3.276596\n",
       "Competitividade                                                              3.010638\n",
       "Competir com colegas de trabalho para alcançar minhas metas profissionais    2.351064\n",
       "Ter fama                                                                     2.138298\n",
       "Seguir a profissão da família                                                1.521277\n",
       "Name: mean, dtype: float64"
      ]
     },
     "execution_count": 14,
     "metadata": {},
     "output_type": "execute_result"
    }
   ],
   "source": [
    "b_stats['mean'].sort_values(ascending=False)[-10:]"
   ]
  },
  {
   "cell_type": "code",
   "execution_count": 15,
   "id": "451cd196",
   "metadata": {
    "scrolled": true
   },
   "outputs": [
    {
     "data": {
      "text/plain": [
       "Mudar o mundo                                                                4.5\n",
       "Ter prestígio                                                                4.0\n",
       "Ter superioridade baseada no êxito do meu trabalho                           4.0\n",
       "Ter notoriedade                                                              4.0\n",
       "Status no trabalho                                                           3.5\n",
       "Competitividade                                                              3.0\n",
       "Supervisionar outras pessoas                                                 3.0\n",
       "Ter fama                                                                     2.0\n",
       "Competir com colegas de trabalho para alcançar minhas metas profissionais    2.0\n",
       "Seguir a profissão da família                                                1.0\n",
       "Name: median, dtype: float64"
      ]
     },
     "execution_count": 15,
     "metadata": {},
     "output_type": "execute_result"
    }
   ],
   "source": [
    "b_stats['median'].sort_values(ascending=False)[-10:]"
   ]
  },
  {
   "cell_type": "markdown",
   "id": "0efbfb2d",
   "metadata": {},
   "source": [
    "### Feature engineering\n",
    "\n",
    "Setores:\n",
    " - Privado: 0\n",
    " - Publico: 1\n",
    " - Ambos: 2\n",
    " \n",
    "Trabalho:\n",
    " - Não estou trabalhando: 0\n",
    " - Privada: 1\n",
    " - Pública: 2\n",
    "\n",
    "Disponibilizar dados:\n",
    " - Não: 0\n",
    " - Sim: 1"
   ]
  },
  {
   "cell_type": "code",
   "execution_count": 118,
   "id": "a3c89b86",
   "metadata": {},
   "outputs": [],
   "source": [
    "def mapping(df_col1, df_col2, df_col3):\n",
    "    map_setor = {'Ambos': 2, 'Setor privado': 0, 'Setor público':1}\n",
    "    map_trabalho = {'Não estou trabalhando': 0, 'Privada': 1, 'Pública':2}\n",
    "    map_dados = {'Não': 0, 'Sim': 1}\n",
    "\n",
    "    df_col1 = df_col1.map(map_setor)\n",
    "    df_col2 = df_col2.map(map_trabalho)\n",
    "    df_col3 = df_col3.map(map_dados)\n",
    "    \n",
    "    return df_col1, df_col2, df_col3"
   ]
  },
  {
   "cell_type": "code",
   "execution_count": 121,
   "id": "2ebe96ae",
   "metadata": {},
   "outputs": [],
   "source": [
    "df['Atualmente, o setor que prefiro me inserir para trabalhar é: '], \n",
    "df['Minha atual organização é:'], \n",
    "df['Disponibilizar dados'] = mapping(df['Atualmente, o setor que prefiro me inserir para trabalhar é: '],\n",
    "                                     df['Minha atual organização é:'],\n",
    "                                     df['Disponibilizar dados'])"
   ]
  },
  {
   "cell_type": "markdown",
   "id": "90aa183d",
   "metadata": {},
   "source": [
    "### correlação"
   ]
  },
  {
   "cell_type": "code",
   "execution_count": 19,
   "id": "1bf34e23",
   "metadata": {},
   "outputs": [],
   "source": [
    "#sns.pairplot(df)  # rodou rodou e não deu em nada, averiguar depois"
   ]
  },
  {
   "cell_type": "code",
   "execution_count": 20,
   "id": "51ba78e2",
   "metadata": {},
   "outputs": [
    {
     "data": {
      "image/png": "[encoded data removed]",
      "text/plain": [
       "<Figure size 1440x1224 with 2 Axes>"
      ]
     },
     "metadata": {},
     "output_type": "display_data"
    }
   ],
   "source": [
    "plt.rcParams.update({'font.size': 20})\n",
    "fig, ax = plt.subplots(figsize=(20,17))   \n",
    "sns.heatmap(df.corr(), ax=ax)\n",
    "plt.savefig('heatmap.png', bbox_inches = \"tight\")"
   ]
  },
  {
   "cell_type": "code",
   "execution_count": 23,
   "id": "4d37939c",
   "metadata": {},
   "outputs": [],
   "source": [
    "corr_matrix = df.corr().abs()\n",
    "upper = corr_matrix.where(np.triu(np.triu(np.ones(corr_matrix.shape), k=1).astype(np.bool_)))"
   ]
  },
  {
   "cell_type": "code",
   "execution_count": 24,
   "id": "573cad64",
   "metadata": {},
   "outputs": [],
   "source": [
    "#to_drop = [column for column in upper.columns if any(upper[column] < 0.50)]"
   ]
  },
  {
   "cell_type": "code",
   "execution_count": 25,
   "id": "da504106",
   "metadata": {},
   "outputs": [],
   "source": [
    "most_correlated_series = upper.unstack().sort_values(ascending=False)"
   ]
  },
  {
   "cell_type": "code",
   "execution_count": 30,
   "id": "fb3fe39b",
   "metadata": {},
   "outputs": [],
   "source": [
    "df_most_correlated = pd.DataFrame(most_correlated_series).dropna()\n",
    "df_most_correlated.columns = ['corr']"
   ]
  },
  {
   "cell_type": "code",
   "execution_count": 31,
   "id": "1ff8420b",
   "metadata": {},
   "outputs": [],
   "source": [
    "boolean_query = df_most_correlated > 0.6\n",
    "df_maior_60_corr = df_most_correlated[boolean_query['corr']]"
   ]
  },
  {
   "cell_type": "code",
   "execution_count": 102,
   "id": "0ca2e414",
   "metadata": {
    "scrolled": true
   },
   "outputs": [
    {
     "data": {
      "text/html": [
       "<div>\n",
       "<style scoped>\n",
       "    .dataframe tbody tr th:only-of-type {\n",
       "        vertical-align: middle;\n",
       "    }\n",
       "\n",
       "    .dataframe tbody tr th {\n",
       "        vertical-align: top;\n",
       "    }\n",
       "\n",
       "    .dataframe thead th {\n",
       "        text-align: right;\n",
       "    }\n",
       "</style>\n",
       "<table border=\"1\" class=\"dataframe\">\n",
       "  <thead>\n",
       "    <tr style=\"text-align: right;\">\n",
       "      <th></th>\n",
       "      <th></th>\n",
       "      <th>corr</th>\n",
       "    </tr>\n",
       "  </thead>\n",
       "  <tbody>\n",
       "    <tr>\n",
       "      <th>Gostar do que faço</th>\n",
       "      <th>Ter prazer no que faço</th>\n",
       "      <td>0.793852</td>\n",
       "    </tr>\n",
       "    <tr>\n",
       "      <th>Bom relacionamento com colegas de trabalho</th>\n",
       "      <th>Amizade com colegas de trabalho</th>\n",
       "      <td>0.778148</td>\n",
       "    </tr>\n",
       "    <tr>\n",
       "      <th>Ser útil para a sociedade</th>\n",
       "      <th>Colaborar para o desenvolvimento da sociedade</th>\n",
       "      <td>0.745196</td>\n",
       "    </tr>\n",
       "    <tr>\n",
       "      <th>Ter compromisso social</th>\n",
       "      <th>Combater injustiças sociais</th>\n",
       "      <td>0.740485</td>\n",
       "    </tr>\n",
       "    <tr>\n",
       "      <th>Ser independente financeiramente</th>\n",
       "      <th>Poder me sustentar</th>\n",
       "      <td>0.737014</td>\n",
       "    </tr>\n",
       "    <tr>\n",
       "      <th>Ter notoriedade</th>\n",
       "      <th>Ter prestígio</th>\n",
       "      <td>0.735582</td>\n",
       "    </tr>\n",
       "    <tr>\n",
       "      <th>Satisfação Pessoal</th>\n",
       "      <th>Realização pessoal</th>\n",
       "      <td>0.728784</td>\n",
       "    </tr>\n",
       "    <tr>\n",
       "      <th>Realização profissional</th>\n",
       "      <th>Satisfação Pessoal</th>\n",
       "      <td>0.716228</td>\n",
       "    </tr>\n",
       "    <tr>\n",
       "      <th>Identificar-me com o trabalho</th>\n",
       "      <th>Ser feliz com o trabalho que realizo</th>\n",
       "      <td>0.714947</td>\n",
       "    </tr>\n",
       "    <tr>\n",
       "      <th>Ter compromisso social</th>\n",
       "      <th>Ser útil para a sociedade</th>\n",
       "      <td>0.699284</td>\n",
       "    </tr>\n",
       "    <tr>\n",
       "      <th>Satisfação Pessoal</th>\n",
       "      <th>Ter prazer no que faço</th>\n",
       "      <td>0.694993</td>\n",
       "    </tr>\n",
       "    <tr>\n",
       "      <th>Realização profissional</th>\n",
       "      <th>Realização pessoal</th>\n",
       "      <td>0.686805</td>\n",
       "    </tr>\n",
       "    <tr>\n",
       "      <th>Ser feliz com o trabalho que realizo</th>\n",
       "      <th>Ter prazer no que faço</th>\n",
       "      <td>0.682788</td>\n",
       "    </tr>\n",
       "    <tr>\n",
       "      <th>Gostar do que faço</th>\n",
       "      <th>Satisfação Pessoal</th>\n",
       "      <td>0.681401</td>\n",
       "    </tr>\n",
       "    <tr>\n",
       "      <th>Competitividade</th>\n",
       "      <th>Competir com colegas de trabalho para alcançar minhas metas profissionais</th>\n",
       "      <td>0.675138</td>\n",
       "    </tr>\n",
       "    <tr>\n",
       "      <th>Gostar do que faço</th>\n",
       "      <th>Ser feliz com o trabalho que realizo</th>\n",
       "      <td>0.663215</td>\n",
       "    </tr>\n",
       "    <tr>\n",
       "      <th>Ter compromisso social</th>\n",
       "      <th>Colaborar para o desenvolvimento da sociedade</th>\n",
       "      <td>0.646464</td>\n",
       "    </tr>\n",
       "    <tr>\n",
       "      <th>Combater injustiças sociais</th>\n",
       "      <th>Colaborar para o desenvolvimento da sociedade</th>\n",
       "      <td>0.644301</td>\n",
       "    </tr>\n",
       "    <tr>\n",
       "      <th>Status no trabalho</th>\n",
       "      <th>Ter prestígio</th>\n",
       "      <td>0.642798</td>\n",
       "    </tr>\n",
       "    <tr>\n",
       "      <th>Conhecer pessoas</th>\n",
       "      <th>Trabalho que requer originalidade/criatividade</th>\n",
       "      <td>0.636925</td>\n",
       "    </tr>\n",
       "    <tr>\n",
       "      <th>Crescimento intelectual</th>\n",
       "      <th>Trabalho intelectualmente estimulante</th>\n",
       "      <td>0.631005</td>\n",
       "    </tr>\n",
       "    <tr>\n",
       "      <th>Poder me sustentar</th>\n",
       "      <th>Estabilidade financeira</th>\n",
       "      <td>0.629338</td>\n",
       "    </tr>\n",
       "    <tr>\n",
       "      <th>Status no trabalho</th>\n",
       "      <th>Obter posição de destaque</th>\n",
       "      <td>0.628223</td>\n",
       "    </tr>\n",
       "    <tr>\n",
       "      <th>Realizar um trabalho significativo para mim</th>\n",
       "      <th>Gostar do que faço</th>\n",
       "      <td>0.625128</td>\n",
       "    </tr>\n",
       "    <tr>\n",
       "      <th>Ter notoriedade</th>\n",
       "      <th>Status no trabalho</th>\n",
       "      <td>0.624140</td>\n",
       "    </tr>\n",
       "    <tr>\n",
       "      <th>Satisfação Pessoal</th>\n",
       "      <th>Identificar-me com o trabalho</th>\n",
       "      <td>0.619123</td>\n",
       "    </tr>\n",
       "    <tr>\n",
       "      <th>Auxiliar os colegas de trabalho</th>\n",
       "      <th>Colaborar com colegas para atingir metas do grupo</th>\n",
       "      <td>0.613921</td>\n",
       "    </tr>\n",
       "    <tr>\n",
       "      <th>Ter notoriedade</th>\n",
       "      <th>Obter posição de destaque</th>\n",
       "      <td>0.613622</td>\n",
       "    </tr>\n",
       "    <tr>\n",
       "      <th>Gostar do que faço</th>\n",
       "      <th>Trabalho Interessante</th>\n",
       "      <td>0.605066</td>\n",
       "    </tr>\n",
       "  </tbody>\n",
       "</table>\n",
       "</div>"
      ],
      "text/plain": [
       "                                                                                                    corr\n",
       "Gostar do que faço                          Ter prazer no que faço                              0.793852\n",
       "Bom relacionamento com colegas de trabalho  Amizade com colegas de trabalho                     0.778148\n",
       "Ser útil para a sociedade                   Colaborar para o desenvolvimento da sociedade       0.745196\n",
       "Ter compromisso social                      Combater injustiças sociais                         0.740485\n",
       "Ser independente financeiramente            Poder me sustentar                                  0.737014\n",
       "Ter notoriedade                             Ter prestígio                                       0.735582\n",
       "Satisfação Pessoal                          Realização pessoal                                  0.728784\n",
       "Realização profissional                     Satisfação Pessoal                                  0.716228\n",
       "Identificar-me com o trabalho               Ser feliz com o trabalho que realizo                0.714947\n",
       "Ter compromisso social                      Ser útil para a sociedade                           0.699284\n",
       "Satisfação Pessoal                          Ter prazer no que faço                              0.694993\n",
       "Realização profissional                     Realização pessoal                                  0.686805\n",
       "Ser feliz com o trabalho que realizo        Ter prazer no que faço                              0.682788\n",
       "Gostar do que faço                          Satisfação Pessoal                                  0.681401\n",
       "Competitividade                             Competir com colegas de trabalho para alcançar ...  0.675138\n",
       "Gostar do que faço                          Ser feliz com o trabalho que realizo                0.663215\n",
       "Ter compromisso social                      Colaborar para o desenvolvimento da sociedade       0.646464\n",
       "Combater injustiças sociais                 Colaborar para o desenvolvimento da sociedade       0.644301\n",
       "Status no trabalho                          Ter prestígio                                       0.642798\n",
       "Conhecer pessoas                            Trabalho que requer originalidade/criatividade      0.636925\n",
       "Crescimento intelectual                     Trabalho intelectualmente estimulante               0.631005\n",
       "Poder me sustentar                          Estabilidade financeira                             0.629338\n",
       "Status no trabalho                          Obter posição de destaque                           0.628223\n",
       "Realizar um trabalho significativo para mim Gostar do que faço                                  0.625128\n",
       "Ter notoriedade                             Status no trabalho                                  0.624140\n",
       "Satisfação Pessoal                          Identificar-me com o trabalho                       0.619123\n",
       "Auxiliar os colegas de trabalho             Colaborar com colegas para atingir metas do grupo   0.613921\n",
       "Ter notoriedade                             Obter posição de destaque                           0.613622\n",
       "Gostar do que faço                          Trabalho Interessante                               0.605066"
      ]
     },
     "execution_count": 102,
     "metadata": {},
     "output_type": "execute_result"
    }
   ],
   "source": [
    "df_maior_60_corr"
   ]
  },
  {
   "cell_type": "markdown",
   "id": "8c9181c7",
   "metadata": {},
   "source": [
    "# cluster\n",
    "\n",
    "https://towardsdatascience.com/clustering-with-more-than-two-features-try-this-to-explain-your-findings-b053007d680a\n",
    "\n",
    "https://towardsdatascience.com/an-introduction-to-clustering-algorithms-in-python-123438574097"
   ]
  },
  {
   "cell_type": "code",
   "execution_count": 107,
   "id": "7e5ac548",
   "metadata": {},
   "outputs": [],
   "source": [
    "df_dropado = df.drop(columns=['Idade', 'Disponibilizar dados'])\n",
    "X = df_dropado.values"
   ]
  },
  {
   "cell_type": "markdown",
   "id": "0e2df090",
   "metadata": {},
   "source": [
    "Vamos ver quantos números de clusters é o melhor a se fazer, no caso aqui dado, foram 3!"
   ]
  },
  {
   "cell_type": "code",
   "execution_count": 108,
   "id": "d2807867",
   "metadata": {
    "scrolled": true
   },
   "outputs": [
    {
     "data": {
      "application/vnd.plotly.v1+json": {
       "config": {
        "plotlyServerURL": "https://plot.ly"
       },
       "data": [
        {
         "type": "scatter",
         "x": [
          1,
          2,
          3,
          4,
          5,
          6,
          7,
          8,
          9,
          10
         ],
         "y": [
          272.82695035460983,
          228.26842777493317,
          205.8123395061728,
          191.8523942534427,
          181.68160503346954,
          177.72699637939212,
          169.17451344797178,
          165.00874122174113,
          159.63959311059307,
          158.10088890745692
         ]
        }
       ],
       "layout": {
        "annotations": [
         {
          "arrowhead": 7,
          "ax": 20,
          "ay": -40,
          "showarrow": true,
          "text": "Elbow!",
          "x": 3,
          "xref": "x",
          "y": 205.8123395061728,
          "yref": "y"
         }
        ],
        "template": {
         "data": {
          "bar": [
           {
            "error_x": {
             "color": "#2a3f5f"
            },
            "error_y": {
             "color": "#2a3f5f"
            },
            "marker": {
             "line": {
              "color": "#E5ECF6",
              "width": 0.5
             }
            },
            "type": "bar"
           }
          ],
          "barpolar": [
           {
            "marker": {
             "line": {
              "color": "#E5ECF6",
              "width": 0.5
             }
            },
            "type": "barpolar"
           }
          ],
          "carpet": [
           {
            "aaxis": {
             "endlinecolor": "#2a3f5f",
             "gridcolor": "white",
             "linecolor": "white",
             "minorgridcolor": "white",
             "startlinecolor": "#2a3f5f"
            },
            "baxis": {
             "endlinecolor": "#2a3f5f",
             "gridcolor": "white",
             "linecolor": "white",
             "minorgridcolor": "white",
             "startlinecolor": "#2a3f5f"
            },
            "type": "carpet"
           }
          ],
          "choropleth": [
           {
            "colorbar": {
             "outlinewidth": 0,
             "ticks": ""
            },
            "type": "choropleth"
           }
          ],
          "contour": [
           {
            "colorbar": {
             "outlinewidth": 0,
             "ticks": ""
            },
            "colorscale": [
             [
              0,
              "#0d0887"
             ],
             [
              0.1111111111111111,
              "#46039f"
             ],
             [
              0.2222222222222222,
              "#7201a8"
             ],
             [
              0.3333333333333333,
              "#9c179e"
             ],
             [
              0.4444444444444444,
              "#bd3786"
             ],
             [
              0.5555555555555556,
              "#d8576b"
             ],
             [
              0.6666666666666666,
              "#ed7953"
             ],
             [
              0.7777777777777778,
              "#fb9f3a"
             ],
             [
              0.8888888888888888,
              "#fdca26"
             ],
             [
              1,
              "#f0f921"
             ]
            ],
            "type": "contour"
           }
          ],
          "contourcarpet": [
           {
            "colorbar": {
             "outlinewidth": 0,
             "ticks": ""
            },
            "type": "contourcarpet"
           }
          ],
          "heatmap": [
           {
            "colorbar": {
             "outlinewidth": 0,
             "ticks": ""
            },
            "colorscale": [
             [
              0,
              "#0d0887"
             ],
             [
              0.1111111111111111,
              "#46039f"
             ],
             [
              0.2222222222222222,
              "#7201a8"
             ],
             [
              0.3333333333333333,
              "#9c179e"
             ],
             [
              0.4444444444444444,
              "#bd3786"
             ],
             [
              0.5555555555555556,
              "#d8576b"
             ],
             [
              0.6666666666666666,
              "#ed7953"
             ],
             [
              0.7777777777777778,
              "#fb9f3a"
             ],
             [
              0.8888888888888888,
              "#fdca26"
             ],
             [
              1,
              "#f0f921"
             ]
            ],
            "type": "heatmap"
           }
          ],
          "heatmapgl": [
           {
            "colorbar": {
             "outlinewidth": 0,
             "ticks": ""
            },
            "colorscale": [
             [
              0,
              "#0d0887"
             ],
             [
              0.1111111111111111,
              "#46039f"
             ],
             [
              0.2222222222222222,
              "#7201a8"
             ],
             [
              0.3333333333333333,
              "#9c179e"
             ],
             [
              0.4444444444444444,
              "#bd3786"
             ],
             [
              0.5555555555555556,
              "#d8576b"
             ],
             [
              0.6666666666666666,
              "#ed7953"
             ],
             [
              0.7777777777777778,
              "#fb9f3a"
             ],
             [
              0.8888888888888888,
              "#fdca26"
             ],
             [
              1,
              "#f0f921"
             ]
            ],
            "type": "heatmapgl"
           }
          ],
          "histogram": [
           {
            "marker": {
             "colorbar": {
              "outlinewidth": 0,
              "ticks": ""
             }
            },
            "type": "histogram"
           }
          ],
          "histogram2d": [
           {
            "colorbar": {
             "outlinewidth": 0,
             "ticks": ""
            },
            "colorscale": [
             [
              0,
              "#0d0887"
             ],
             [
              0.1111111111111111,
              "#46039f"
             ],
             [
              0.2222222222222222,
              "#7201a8"
             ],
             [
              0.3333333333333333,
              "#9c179e"
             ],
             [
              0.4444444444444444,
              "#bd3786"
             ],
             [
              0.5555555555555556,
              "#d8576b"
             ],
             [
              0.6666666666666666,
              "#ed7953"
             ],
             [
              0.7777777777777778,
              "#fb9f3a"
             ],
             [
              0.8888888888888888,
              "#fdca26"
             ],
             [
              1,
              "#f0f921"
             ]
            ],
            "type": "histogram2d"
           }
          ],
          "histogram2dcontour": [
           {
            "colorbar": {
             "outlinewidth": 0,
             "ticks": ""
            },
            "colorscale": [
             [
              0,
              "#0d0887"
             ],
             [
              0.1111111111111111,
              "#46039f"
             ],
             [
              0.2222222222222222,
              "#7201a8"
             ],
             [
              0.3333333333333333,
              "#9c179e"
             ],
             [
              0.4444444444444444,
              "#bd3786"
             ],
             [
              0.5555555555555556,
              "#d8576b"
             ],
             [
              0.6666666666666666,
              "#ed7953"
             ],
             [
              0.7777777777777778,
              "#fb9f3a"
             ],
             [
              0.8888888888888888,
              "#fdca26"
             ],
             [
              1,
              "#f0f921"
             ]
            ],
            "type": "histogram2dcontour"
           }
          ],
          "mesh3d": [
           {
            "colorbar": {
             "outlinewidth": 0,
             "ticks": ""
            },
            "type": "mesh3d"
           }
          ],
          "parcoords": [
           {
            "line": {
             "colorbar": {
              "outlinewidth": 0,
              "ticks": ""
             }
            },
            "type": "parcoords"
           }
          ],
          "pie": [
           {
            "automargin": true,
            "type": "pie"
           }
          ],
          "scatter": [
           {
            "marker": {
             "colorbar": {
              "outlinewidth": 0,
              "ticks": ""
             }
            },
            "type": "scatter"
           }
          ],
          "scatter3d": [
           {
            "line": {
             "colorbar": {
              "outlinewidth": 0,
              "ticks": ""
             }
            },
            "marker": {
             "colorbar": {
              "outlinewidth": 0,
              "ticks": ""
             }
            },
            "type": "scatter3d"
           }
          ],
          "scattercarpet": [
           {
            "marker": {
             "colorbar": {
              "outlinewidth": 0,
              "ticks": ""
             }
            },
            "type": "scattercarpet"
           }
          ],
          "scattergeo": [
           {
            "marker": {
             "colorbar": {
              "outlinewidth": 0,
              "ticks": ""
             }
            },
            "type": "scattergeo"
           }
          ],
          "scattergl": [
           {
            "marker": {
             "colorbar": {
              "outlinewidth": 0,
              "ticks": ""
             }
            },
            "type": "scattergl"
           }
          ],
          "scattermapbox": [
           {
            "marker": {
             "colorbar": {
              "outlinewidth": 0,
              "ticks": ""
             }
            },
            "type": "scattermapbox"
           }
          ],
          "scatterpolar": [
           {
            "marker": {
             "colorbar": {
              "outlinewidth": 0,
              "ticks": ""
             }
            },
            "type": "scatterpolar"
           }
          ],
          "scatterpolargl": [
           {
            "marker": {
             "colorbar": {
              "outlinewidth": 0,
              "ticks": ""
             }
            },
            "type": "scatterpolargl"
           }
          ],
          "scatterternary": [
           {
            "marker": {
             "colorbar": {
              "outlinewidth": 0,
              "ticks": ""
             }
            },
            "type": "scatterternary"
           }
          ],
          "surface": [
           {
            "colorbar": {
             "outlinewidth": 0,
             "ticks": ""
            },
            "colorscale": [
             [
              0,
              "#0d0887"
             ],
             [
              0.1111111111111111,
              "#46039f"
             ],
             [
              0.2222222222222222,
              "#7201a8"
             ],
             [
              0.3333333333333333,
              "#9c179e"
             ],
             [
              0.4444444444444444,
              "#bd3786"
             ],
             [
              0.5555555555555556,
              "#d8576b"
             ],
             [
              0.6666666666666666,
              "#ed7953"
             ],
             [
              0.7777777777777778,
              "#fb9f3a"
             ],
             [
              0.8888888888888888,
              "#fdca26"
             ],
             [
              1,
              "#f0f921"
             ]
            ],
            "type": "surface"
           }
          ],
          "table": [
           {
            "cells": {
             "fill": {
              "color": "#EBF0F8"
             },
             "line": {
              "color": "white"
             }
            },
            "header": {
             "fill": {
              "color": "#C8D4E3"
             },
             "line": {
              "color": "white"
             }
            },
            "type": "table"
           }
          ]
         },
         "layout": {
          "annotationdefaults": {
           "arrowcolor": "#2a3f5f",
           "arrowhead": 0,
           "arrowwidth": 1
          },
          "autotypenumbers": "strict",
          "coloraxis": {
           "colorbar": {
            "outlinewidth": 0,
            "ticks": ""
           }
          },
          "colorscale": {
           "diverging": [
            [
             0,
             "#8e0152"
            ],
            [
             0.1,
             "#c51b7d"
            ],
            [
             0.2,
             "#de77ae"
            ],
            [
             0.3,
             "#f1b6da"
            ],
            [
             0.4,
             "#fde0ef"
            ],
            [
             0.5,
             "#f7f7f7"
            ],
            [
             0.6,
             "#e6f5d0"
            ],
            [
             0.7,
             "#b8e186"
            ],
            [
             0.8,
             "#7fbc41"
            ],
            [
             0.9,
             "#4d9221"
            ],
            [
             1,
             "#276419"
            ]
           ],
           "sequential": [
            [
             0,
             "#0d0887"
            ],
            [
             0.1111111111111111,
             "#46039f"
            ],
            [
             0.2222222222222222,
             "#7201a8"
            ],
            [
             0.3333333333333333,
             "#9c179e"
            ],
            [
             0.4444444444444444,
             "#bd3786"
            ],
            [
             0.5555555555555556,
             "#d8576b"
            ],
            [
             0.6666666666666666,
             "#ed7953"
            ],
            [
             0.7777777777777778,
             "#fb9f3a"
            ],
            [
             0.8888888888888888,
             "#fdca26"
            ],
            [
             1,
             "#f0f921"
            ]
           ],
           "sequentialminus": [
            [
             0,
             "#0d0887"
            ],
            [
             0.1111111111111111,
             "#46039f"
            ],
            [
             0.2222222222222222,
             "#7201a8"
            ],
            [
             0.3333333333333333,
             "#9c179e"
            ],
            [
             0.4444444444444444,
             "#bd3786"
            ],
            [
             0.5555555555555556,
             "#d8576b"
            ],
            [
             0.6666666666666666,
             "#ed7953"
            ],
            [
             0.7777777777777778,
             "#fb9f3a"
            ],
            [
             0.8888888888888888,
             "#fdca26"
            ],
            [
             1,
             "#f0f921"
            ]
           ]
          },
          "colorway": [
           "#636efa",
           "#EF553B",
           "#00cc96",
           "#ab63fa",
           "#FFA15A",
           "#19d3f3",
           "#FF6692",
           "#B6E880",
           "#FF97FF",
           "#FECB52"
          ],
          "font": {
           "color": "#2a3f5f"
          },
          "geo": {
           "bgcolor": "white",
           "lakecolor": "white",
           "landcolor": "#E5ECF6",
           "showlakes": true,
           "showland": true,
           "subunitcolor": "white"
          },
          "hoverlabel": {
           "align": "left"
          },
          "hovermode": "closest",
          "mapbox": {
           "style": "light"
          },
          "paper_bgcolor": "white",
          "plot_bgcolor": "#E5ECF6",
          "polar": {
           "angularaxis": {
            "gridcolor": "white",
            "linecolor": "white",
            "ticks": ""
           },
           "bgcolor": "#E5ECF6",
           "radialaxis": {
            "gridcolor": "white",
            "linecolor": "white",
            "ticks": ""
           }
          },
          "scene": {
           "xaxis": {
            "backgroundcolor": "#E5ECF6",
            "gridcolor": "white",
            "gridwidth": 2,
            "linecolor": "white",
            "showbackground": true,
            "ticks": "",
            "zerolinecolor": "white"
           },
           "yaxis": {
            "backgroundcolor": "#E5ECF6",
            "gridcolor": "white",
            "gridwidth": 2,
            "linecolor": "white",
            "showbackground": true,
            "ticks": "",
            "zerolinecolor": "white"
           },
           "zaxis": {
            "backgroundcolor": "#E5ECF6",
            "gridcolor": "white",
            "gridwidth": 2,
            "linecolor": "white",
            "showbackground": true,
            "ticks": "",
            "zerolinecolor": "white"
           }
          },
          "shapedefaults": {
           "line": {
            "color": "#2a3f5f"
           }
          },
          "ternary": {
           "aaxis": {
            "gridcolor": "white",
            "linecolor": "white",
            "ticks": ""
           },
           "baxis": {
            "gridcolor": "white",
            "linecolor": "white",
            "ticks": ""
           },
           "bgcolor": "#E5ECF6",
           "caxis": {
            "gridcolor": "white",
            "linecolor": "white",
            "ticks": ""
           }
          },
          "title": {
           "x": 0.05
          },
          "xaxis": {
           "automargin": true,
           "gridcolor": "white",
           "linecolor": "white",
           "ticks": "",
           "title": {
            "standoff": 15
           },
           "zerolinecolor": "white",
           "zerolinewidth": 2
          },
          "yaxis": {
           "automargin": true,
           "gridcolor": "white",
           "linecolor": "white",
           "ticks": "",
           "title": {
            "standoff": 15
           },
           "zerolinecolor": "white",
           "zerolinewidth": 2
          }
         }
        },
        "title": {
         "text": "Inertia vs Cluster Number"
        },
        "xaxis": {
         "range": [
          0,
          11
         ],
         "title": {
          "text": "Cluster Number"
         }
        },
        "yaxis": {
         "title": {
          "text": "Inertia"
         }
        }
       }
      },
      "text/html": [
       "<div>                            <div id=\"e276d313-f969-4a9a-8881-bf620e61ae09\" class=\"plotly-graph-div\" style=\"height:525px; width:100%;\"></div>            <script type=\"text/javascript\">                require([\"plotly\"], function(Plotly) {                    window.PLOTLYENV=window.PLOTLYENV || {};                                    if (document.getElementById(\"e276d313-f969-4a9a-8881-bf620e61ae09\")) {                    Plotly.newPlot(                        \"e276d313-f969-4a9a-8881-bf620e61ae09\",                        [{\"type\": \"scatter\", \"x\": [1, 2, 3, 4, 5, 6, 7, 8, 9, 10], \"y\": [272.82695035460983, 228.26842777493317, 205.8123395061728, 191.8523942534427, 181.68160503346954, 177.72699637939212, 169.17451344797178, 165.00874122174113, 159.63959311059307, 158.10088890745692]}],                        {\"annotations\": [{\"arrowhead\": 7, \"ax\": 20, \"ay\": -40, \"showarrow\": true, \"text\": \"Elbow!\", \"x\": 3, \"xref\": \"x\", \"y\": 205.8123395061728, \"yref\": \"y\"}], \"template\": {\"data\": {\"bar\": [{\"error_x\": {\"color\": \"#2a3f5f\"}, \"error_y\": {\"color\": \"#2a3f5f\"}, \"marker\": {\"line\": {\"color\": \"#E5ECF6\", \"width\": 0.5}}, \"type\": \"bar\"}], \"barpolar\": [{\"marker\": {\"line\": {\"color\": \"#E5ECF6\", \"width\": 0.5}}, \"type\": \"barpolar\"}], \"carpet\": [{\"aaxis\": {\"endlinecolor\": \"#2a3f5f\", \"gridcolor\": \"white\", \"linecolor\": \"white\", \"minorgridcolor\": \"white\", \"startlinecolor\": \"#2a3f5f\"}, \"baxis\": {\"endlinecolor\": \"#2a3f5f\", \"gridcolor\": \"white\", \"linecolor\": \"white\", \"minorgridcolor\": \"white\", \"startlinecolor\": \"#2a3f5f\"}, \"type\": \"carpet\"}], \"choropleth\": [{\"colorbar\": {\"outlinewidth\": 0, \"ticks\": \"\"}, \"type\": \"choropleth\"}], \"contour\": [{\"colorbar\": {\"outlinewidth\": 0, \"ticks\": \"\"}, \"colorscale\": [[0.0, \"#0d0887\"], [0.1111111111111111, \"#46039f\"], [0.2222222222222222, \"#7201a8\"], [0.3333333333333333, \"#9c179e\"], [0.4444444444444444, \"#bd3786\"], [0.5555555555555556, \"#d8576b\"], [0.6666666666666666, \"#ed7953\"], [0.7777777777777778, \"#fb9f3a\"], [0.8888888888888888, \"#fdca26\"], [1.0, \"#f0f921\"]], \"type\": \"contour\"}], \"contourcarpet\": [{\"colorbar\": {\"outlinewidth\": 0, \"ticks\": \"\"}, \"type\": \"contourcarpet\"}], \"heatmap\": [{\"colorbar\": {\"outlinewidth\": 0, \"ticks\": \"\"}, \"colorscale\": [[0.0, \"#0d0887\"], [0.1111111111111111, \"#46039f\"], [0.2222222222222222, \"#7201a8\"], [0.3333333333333333, \"#9c179e\"], [0.4444444444444444, \"#bd3786\"], [0.5555555555555556, \"#d8576b\"], [0.6666666666666666, \"#ed7953\"], [0.7777777777777778, \"#fb9f3a\"], [0.8888888888888888, \"#fdca26\"], [1.0, \"#f0f921\"]], \"type\": \"heatmap\"}], \"heatmapgl\": [{\"colorbar\": {\"outlinewidth\": 0, \"ticks\": \"\"}, \"colorscale\": [[0.0, \"#0d0887\"], [0.1111111111111111, \"#46039f\"], [0.2222222222222222, \"#7201a8\"], [0.3333333333333333, \"#9c179e\"], [0.4444444444444444, \"#bd3786\"], [0.5555555555555556, \"#d8576b\"], [0.6666666666666666, \"#ed7953\"], [0.7777777777777778, \"#fb9f3a\"], [0.8888888888888888, \"#fdca26\"], [1.0, \"#f0f921\"]], \"type\": \"heatmapgl\"}], \"histogram\": [{\"marker\": {\"colorbar\": {\"outlinewidth\": 0, \"ticks\": \"\"}}, \"type\": \"histogram\"}], \"histogram2d\": [{\"colorbar\": {\"outlinewidth\": 0, \"ticks\": \"\"}, \"colorscale\": [[0.0, \"#0d0887\"], [0.1111111111111111, \"#46039f\"], [0.2222222222222222, \"#7201a8\"], [0.3333333333333333, \"#9c179e\"], [0.4444444444444444, \"#bd3786\"], [0.5555555555555556, \"#d8576b\"], [0.6666666666666666, \"#ed7953\"], [0.7777777777777778, \"#fb9f3a\"], [0.8888888888888888, \"#fdca26\"], [1.0, \"#f0f921\"]], \"type\": \"histogram2d\"}], \"histogram2dcontour\": [{\"colorbar\": {\"outlinewidth\": 0, \"ticks\": \"\"}, \"colorscale\": [[0.0, \"#0d0887\"], [0.1111111111111111, \"#46039f\"], [0.2222222222222222, \"#7201a8\"], [0.3333333333333333, \"#9c179e\"], [0.4444444444444444, \"#bd3786\"], [0.5555555555555556, \"#d8576b\"], [0.6666666666666666, \"#ed7953\"], [0.7777777777777778, \"#fb9f3a\"], [0.8888888888888888, \"#fdca26\"], [1.0, \"#f0f921\"]], \"type\": \"histogram2dcontour\"}], \"mesh3d\": [{\"colorbar\": {\"outlinewidth\": 0, \"ticks\": \"\"}, \"type\": \"mesh3d\"}], \"parcoords\": [{\"line\": {\"colorbar\": {\"outlinewidth\": 0, \"ticks\": \"\"}}, \"type\": \"parcoords\"}], \"pie\": [{\"automargin\": true, \"type\": \"pie\"}], \"scatter\": [{\"marker\": {\"colorbar\": {\"outlinewidth\": 0, \"ticks\": \"\"}}, \"type\": \"scatter\"}], \"scatter3d\": [{\"line\": {\"colorbar\": {\"outlinewidth\": 0, \"ticks\": \"\"}}, \"marker\": {\"colorbar\": {\"outlinewidth\": 0, \"ticks\": \"\"}}, \"type\": \"scatter3d\"}], \"scattercarpet\": [{\"marker\": {\"colorbar\": {\"outlinewidth\": 0, \"ticks\": \"\"}}, \"type\": \"scattercarpet\"}], \"scattergeo\": [{\"marker\": {\"colorbar\": {\"outlinewidth\": 0, \"ticks\": \"\"}}, \"type\": \"scattergeo\"}], \"scattergl\": [{\"marker\": {\"colorbar\": {\"outlinewidth\": 0, \"ticks\": \"\"}}, \"type\": \"scattergl\"}], \"scattermapbox\": [{\"marker\": {\"colorbar\": {\"outlinewidth\": 0, \"ticks\": \"\"}}, \"type\": \"scattermapbox\"}], \"scatterpolar\": [{\"marker\": {\"colorbar\": {\"outlinewidth\": 0, \"ticks\": \"\"}}, \"type\": \"scatterpolar\"}], \"scatterpolargl\": [{\"marker\": {\"colorbar\": {\"outlinewidth\": 0, \"ticks\": \"\"}}, \"type\": \"scatterpolargl\"}], \"scatterternary\": [{\"marker\": {\"colorbar\": {\"outlinewidth\": 0, \"ticks\": \"\"}}, \"type\": \"scatterternary\"}], \"surface\": [{\"colorbar\": {\"outlinewidth\": 0, \"ticks\": \"\"}, \"colorscale\": [[0.0, \"#0d0887\"], [0.1111111111111111, \"#46039f\"], [0.2222222222222222, \"#7201a8\"], [0.3333333333333333, \"#9c179e\"], [0.4444444444444444, \"#bd3786\"], [0.5555555555555556, \"#d8576b\"], [0.6666666666666666, \"#ed7953\"], [0.7777777777777778, \"#fb9f3a\"], [0.8888888888888888, \"#fdca26\"], [1.0, \"#f0f921\"]], \"type\": \"surface\"}], \"table\": [{\"cells\": {\"fill\": {\"color\": \"#EBF0F8\"}, \"line\": {\"color\": \"white\"}}, \"header\": {\"fill\": {\"color\": \"#C8D4E3\"}, \"line\": {\"color\": \"white\"}}, \"type\": \"table\"}]}, \"layout\": {\"annotationdefaults\": {\"arrowcolor\": \"#2a3f5f\", \"arrowhead\": 0, \"arrowwidth\": 1}, \"autotypenumbers\": \"strict\", \"coloraxis\": {\"colorbar\": {\"outlinewidth\": 0, \"ticks\": \"\"}}, \"colorscale\": {\"diverging\": [[0, \"#8e0152\"], [0.1, \"#c51b7d\"], [0.2, \"#de77ae\"], [0.3, \"#f1b6da\"], [0.4, \"#fde0ef\"], [0.5, \"#f7f7f7\"], [0.6, \"#e6f5d0\"], [0.7, \"#b8e186\"], [0.8, \"#7fbc41\"], [0.9, \"#4d9221\"], [1, \"#276419\"]], \"sequential\": [[0.0, \"#0d0887\"], [0.1111111111111111, \"#46039f\"], [0.2222222222222222, \"#7201a8\"], [0.3333333333333333, \"#9c179e\"], [0.4444444444444444, \"#bd3786\"], [0.5555555555555556, \"#d8576b\"], [0.6666666666666666, \"#ed7953\"], [0.7777777777777778, \"#fb9f3a\"], [0.8888888888888888, \"#fdca26\"], [1.0, \"#f0f921\"]], \"sequentialminus\": [[0.0, \"#0d0887\"], [0.1111111111111111, \"#46039f\"], [0.2222222222222222, \"#7201a8\"], [0.3333333333333333, \"#9c179e\"], [0.4444444444444444, \"#bd3786\"], [0.5555555555555556, \"#d8576b\"], [0.6666666666666666, \"#ed7953\"], [0.7777777777777778, \"#fb9f3a\"], [0.8888888888888888, \"#fdca26\"], [1.0, \"#f0f921\"]]}, \"colorway\": [\"#636efa\", \"#EF553B\", \"#00cc96\", \"#ab63fa\", \"#FFA15A\", \"#19d3f3\", \"#FF6692\", \"#B6E880\", \"#FF97FF\", \"#FECB52\"], \"font\": {\"color\": \"#2a3f5f\"}, \"geo\": {\"bgcolor\": \"white\", \"lakecolor\": \"white\", \"landcolor\": \"#E5ECF6\", \"showlakes\": true, \"showland\": true, \"subunitcolor\": \"white\"}, \"hoverlabel\": {\"align\": \"left\"}, \"hovermode\": \"closest\", \"mapbox\": {\"style\": \"light\"}, \"paper_bgcolor\": \"white\", \"plot_bgcolor\": \"#E5ECF6\", \"polar\": {\"angularaxis\": {\"gridcolor\": \"white\", \"linecolor\": \"white\", \"ticks\": \"\"}, \"bgcolor\": \"#E5ECF6\", \"radialaxis\": {\"gridcolor\": \"white\", \"linecolor\": \"white\", \"ticks\": \"\"}}, \"scene\": {\"xaxis\": {\"backgroundcolor\": \"#E5ECF6\", \"gridcolor\": \"white\", \"gridwidth\": 2, \"linecolor\": \"white\", \"showbackground\": true, \"ticks\": \"\", \"zerolinecolor\": \"white\"}, \"yaxis\": {\"backgroundcolor\": \"#E5ECF6\", \"gridcolor\": \"white\", \"gridwidth\": 2, \"linecolor\": \"white\", \"showbackground\": true, \"ticks\": \"\", \"zerolinecolor\": \"white\"}, \"zaxis\": {\"backgroundcolor\": \"#E5ECF6\", \"gridcolor\": \"white\", \"gridwidth\": 2, \"linecolor\": \"white\", \"showbackground\": true, \"ticks\": \"\", \"zerolinecolor\": \"white\"}}, \"shapedefaults\": {\"line\": {\"color\": \"#2a3f5f\"}}, \"ternary\": {\"aaxis\": {\"gridcolor\": \"white\", \"linecolor\": \"white\", \"ticks\": \"\"}, \"baxis\": {\"gridcolor\": \"white\", \"linecolor\": \"white\", \"ticks\": \"\"}, \"bgcolor\": \"#E5ECF6\", \"caxis\": {\"gridcolor\": \"white\", \"linecolor\": \"white\", \"ticks\": \"\"}}, \"title\": {\"x\": 0.05}, \"xaxis\": {\"automargin\": true, \"gridcolor\": \"white\", \"linecolor\": \"white\", \"ticks\": \"\", \"title\": {\"standoff\": 15}, \"zerolinecolor\": \"white\", \"zerolinewidth\": 2}, \"yaxis\": {\"automargin\": true, \"gridcolor\": \"white\", \"linecolor\": \"white\", \"ticks\": \"\", \"title\": {\"standoff\": 15}, \"zerolinecolor\": \"white\", \"zerolinewidth\": 2}}}, \"title\": {\"text\": \"Inertia vs Cluster Number\"}, \"xaxis\": {\"range\": [0, 11], \"title\": {\"text\": \"Cluster Number\"}}, \"yaxis\": {\"title\": {\"text\": \"Inertia\"}}},                        {\"responsive\": true}                    ).then(function(){\n",
       "                            \n",
       "var gd = document.getElementById('e276d313-f969-4a9a-8881-bf620e61ae09');\n",
       "var x = new MutationObserver(function (mutations, observer) {{\n",
       "        var display = window.getComputedStyle(gd).display;\n",
       "        if (!display || display === 'none') {{\n",
       "            console.log([gd, 'removed!']);\n",
       "            Plotly.purge(gd);\n",
       "            observer.disconnect();\n",
       "        }}\n",
       "}});\n",
       "\n",
       "// Listen for the removal of the full notebook cells\n",
       "var notebookContainer = gd.closest('#notebook-container');\n",
       "if (notebookContainer) {{\n",
       "    x.observe(notebookContainer, {childList: true});\n",
       "}}\n",
       "\n",
       "// Listen for the clearing of the current output cell\n",
       "var outputEl = gd.closest('.output');\n",
       "if (outputEl) {{\n",
       "    x.observe(outputEl, {childList: true});\n",
       "}}\n",
       "\n",
       "                        })                };                });            </script>        </div>"
      ]
     },
     "metadata": {},
     "output_type": "display_data"
    }
   ],
   "source": [
    "scaler = MinMaxScaler()\n",
    "scaler.fit(X)\n",
    "X=scaler.transform(X)\n",
    "inertia = []\n",
    "for i in range(1,11):\n",
    "    kmeans = KMeans(\n",
    "        n_clusters=i, init=\"k-means++\",\n",
    "        n_init=10,\n",
    "        tol=1e-04, random_state=42\n",
    "    )\n",
    "    kmeans.fit(X)\n",
    "    inertia.append(kmeans.inertia_)\n",
    "    \n",
    "fig = go.Figure(data=go.Scatter(x=np.arange(1,11),y=inertia))\n",
    "fig.update_layout(title=\"Inertia vs Cluster Number\",xaxis=dict(range=[0,11],title=\"Cluster Number\"),\n",
    "                  yaxis={'title':'Inertia'},\n",
    "                 annotations=[\n",
    "        dict(\n",
    "            x=3,\n",
    "            y=inertia[2],\n",
    "            xref=\"x\",\n",
    "            yref=\"y\",\n",
    "            text=\"Elbow!\",\n",
    "            showarrow=True,\n",
    "            arrowhead=7,\n",
    "            ax=20,\n",
    "            ay=-40\n",
    "        )\n",
    "    ])"
   ]
  },
  {
   "cell_type": "code",
   "execution_count": 109,
   "id": "857e08b2",
   "metadata": {
    "scrolled": true
   },
   "outputs": [
    {
     "data": {
      "application/vnd.plotly.v1+json": {
       "config": {
        "plotlyServerURL": "https://plot.ly"
       },
       "data": [
        {
         "hovertemplate": "label=0<br>value=%{r}<br>variable=%{theta}<extra></extra>",
         "legendgroup": "0",
         "line": {
          "color": "#636efa",
          "dash": "solid"
         },
         "mode": "lines",
         "name": "0",
         "r": [
          0.9000000000000001,
          0.7733333333333338,
          0.4407407407407407,
          0.8844444444444444,
          0.8977777777777776,
          0.8814814814814813,
          0.7037037037037036,
          0.9037037037037038,
          0.8814814814814813,
          0.8629629629629628,
          0.26296296296296295,
          0.925925925925926,
          0.9074074074074073,
          0.8185185185185184,
          0.5851851851851851,
          0.9222222222222223,
          0.9111111111111114,
          0.7518518518518515,
          0.24814814814814815,
          0.7866666666666668,
          0.7222222222222221,
          0.7740740740740738,
          0.5407407407407407,
          0.885185185185185,
          0.914814814814815,
          0.7555555555555555,
          0.46666666666666684,
          0.6851851851851851,
          0.7074074074074075,
          0.7703703703703705,
          0.12962962962962962,
          0.8555555555555554,
          0.7888888888888889,
          0.5925925925925926,
          0.8925925925925928,
          0.8555555555555555,
          0.3777777777777777,
          0.8518518518518516,
          0.7666666666666665,
          0.7962962962962964,
          0.9481481481481481,
          0.8259259259259257,
          0.88,
          0.7259259259259259,
          0.8444444444444446,
          0.3888888888888889,
          0.2222222222222222,
          0.9000000000000001
         ],
         "showlegend": true,
         "subplot": "polar",
         "theta": [
          "Ter prazer no que faço",
          "Ajudar os outros",
          "Supervisionar outras pessoas",
          "Ter melhores condições de vida",
          "Ser feliz com o trabalho que realizo",
          "Colaborar para o desenvolvimento da sociedade",
          "Obter posição de destaque",
          "Estabilidade financeira",
          "Identificar-me com o trabalho",
          "Ser útil para a sociedade",
          "Ter fama",
          "Poder me sustentar",
          "Realização pessoal",
          "Colaborar com colegas para atingir metas do grupo",
          "Ter prestígio",
          "Ser independente financeiramente",
          "Satisfação Pessoal",
          "Amizade com colegas de trabalho",
          "Competir com colegas de trabalho para alcançar minhas metas profissionais",
          "Ganhar dinheiro",
          "Trabalho que requer originalidade/criatividade",
          "Conhecer pessoas",
          "Status no trabalho",
          "Melhorar a qualidade de vida da minha família",
          "Realização profissional",
          "Auxiliar os colegas de trabalho",
          "Ter superioridade baseada no êxito do meu trabalho",
          "Suprir necessidades materiais",
          "Autonomia para estabelecer a forma de realização do trabalho",
          "Combater injustiças sociais",
          "Seguir a profissão da família",
          "Trabalho Interessante",
          "Ter compromisso social",
          "Ter notoriedade",
          "Gostar do que faço",
          "Bom relacionamento com colegas de trabalho",
          "Competitividade",
          "Trabalho intelectualmente estimulante",
          "Mudar o mundo",
          "Enfrentar desafios",
          "Realizar um trabalho significativo para mim",
          "Preservar minha saúde",
          "Crescimento intelectual",
          "Trabalho variado",
          "Aprimorar conhecimentos da minha profissão",
          "Atualmente, o setor que prefiro me inserir para trabalhar é: ",
          "Minha atual organização é:",
          "Ter prazer no que faço"
         ],
         "type": "scatterpolar"
        },
        {
         "hovertemplate": "label=1<br>value=%{r}<br>variable=%{theta}<extra></extra>",
         "legendgroup": "1",
         "line": {
          "color": "#EF553B",
          "dash": "solid"
         },
         "mode": "lines",
         "name": "1",
         "r": [
          0.33333333333333337,
          0.15000000000000002,
          0.08333333333333334,
          0.3500000000000001,
          0.2,
          0.125,
          0.2916666666666667,
          0.6666666666666666,
          0.25,
          0.29166666666666663,
          0.041666666666666664,
          0.5833333333333333,
          0.25,
          0.25,
          0.16666666666666669,
          0.5,
          0.25,
          0.20833333333333334,
          0.125,
          0.45000000000000007,
          0.2916666666666667,
          0.125,
          0.16666666666666669,
          0.375,
          0.33333333333333337,
          0.33333333333333337,
          0.16666666666666666,
          0.41666666666666663,
          0.33333333333333337,
          0.125,
          0,
          0.20833333333333334,
          0.29166666666666663,
          0.20833333333333334,
          0.25,
          0.20833333333333334,
          0.16666666666666666,
          0.375,
          0,
          0.29166666666666663,
          0.16666666666666669,
          0.041666666666666664,
          0.2,
          0.08333333333333334,
          0.3500000000000001,
          0,
          0.25,
          0.33333333333333337
         ],
         "showlegend": true,
         "subplot": "polar",
         "theta": [
          "Ter prazer no que faço",
          "Ajudar os outros",
          "Supervisionar outras pessoas",
          "Ter melhores condições de vida",
          "Ser feliz com o trabalho que realizo",
          "Colaborar para o desenvolvimento da sociedade",
          "Obter posição de destaque",
          "Estabilidade financeira",
          "Identificar-me com o trabalho",
          "Ser útil para a sociedade",
          "Ter fama",
          "Poder me sustentar",
          "Realização pessoal",
          "Colaborar com colegas para atingir metas do grupo",
          "Ter prestígio",
          "Ser independente financeiramente",
          "Satisfação Pessoal",
          "Amizade com colegas de trabalho",
          "Competir com colegas de trabalho para alcançar minhas metas profissionais",
          "Ganhar dinheiro",
          "Trabalho que requer originalidade/criatividade",
          "Conhecer pessoas",
          "Status no trabalho",
          "Melhorar a qualidade de vida da minha família",
          "Realização profissional",
          "Auxiliar os colegas de trabalho",
          "Ter superioridade baseada no êxito do meu trabalho",
          "Suprir necessidades materiais",
          "Autonomia para estabelecer a forma de realização do trabalho",
          "Combater injustiças sociais",
          "Seguir a profissão da família",
          "Trabalho Interessante",
          "Ter compromisso social",
          "Ter notoriedade",
          "Gostar do que faço",
          "Bom relacionamento com colegas de trabalho",
          "Competitividade",
          "Trabalho intelectualmente estimulante",
          "Mudar o mundo",
          "Enfrentar desafios",
          "Realizar um trabalho significativo para mim",
          "Preservar minha saúde",
          "Crescimento intelectual",
          "Trabalho variado",
          "Aprimorar conhecimentos da minha profissão",
          "Atualmente, o setor que prefiro me inserir para trabalhar é: ",
          "Minha atual organização é:",
          "Ter prazer no que faço"
         ],
         "type": "scatterpolar"
        },
        {
         "hovertemplate": "label=2<br>value=%{r}<br>variable=%{theta}<extra></extra>",
         "legendgroup": "2",
         "line": {
          "color": "#00cc96",
          "dash": "solid"
         },
         "mode": "lines",
         "name": "2",
         "r": [
          0.7592592592592591,
          0.5111111111111111,
          0.3444444444444445,
          0.8622222222222223,
          0.7777777777777778,
          0.5407407407407406,
          0.5851851851851853,
          0.8888888888888888,
          0.7740740740740739,
          0.5629629629629629,
          0.12962962962962965,
          0.9407407407407407,
          0.8296296296296295,
          0.651851851851852,
          0.4333333333333334,
          0.9111111111111111,
          0.7962962962962962,
          0.6888888888888888,
          0.2111111111111111,
          0.7822222222222222,
          0.48148148148148157,
          0.5703703703703706,
          0.32592592592592595,
          0.8555555555555554,
          0.7888888888888891,
          0.5740740740740742,
          0.45555555555555566,
          0.6296296296296297,
          0.5925925925925924,
          0.41481481481481486,
          0.05185185185185186,
          0.7407407407407409,
          0.5037037037037038,
          0.36296296296296293,
          0.7740740740740739,
          0.7925925925925927,
          0.3074074074074074,
          0.6925925925925925,
          0.40370370370370373,
          0.6111111111111113,
          0.7222222222222222,
          0.7629629629629628,
          0.7422222222222226,
          0.48518518518518516,
          0.7200000000000001,
          0.15555555555555556,
          0.14444444444444443,
          0.7592592592592591
         ],
         "showlegend": true,
         "subplot": "polar",
         "theta": [
          "Ter prazer no que faço",
          "Ajudar os outros",
          "Supervisionar outras pessoas",
          "Ter melhores condições de vida",
          "Ser feliz com o trabalho que realizo",
          "Colaborar para o desenvolvimento da sociedade",
          "Obter posição de destaque",
          "Estabilidade financeira",
          "Identificar-me com o trabalho",
          "Ser útil para a sociedade",
          "Ter fama",
          "Poder me sustentar",
          "Realização pessoal",
          "Colaborar com colegas para atingir metas do grupo",
          "Ter prestígio",
          "Ser independente financeiramente",
          "Satisfação Pessoal",
          "Amizade com colegas de trabalho",
          "Competir com colegas de trabalho para alcançar minhas metas profissionais",
          "Ganhar dinheiro",
          "Trabalho que requer originalidade/criatividade",
          "Conhecer pessoas",
          "Status no trabalho",
          "Melhorar a qualidade de vida da minha família",
          "Realização profissional",
          "Auxiliar os colegas de trabalho",
          "Ter superioridade baseada no êxito do meu trabalho",
          "Suprir necessidades materiais",
          "Autonomia para estabelecer a forma de realização do trabalho",
          "Combater injustiças sociais",
          "Seguir a profissão da família",
          "Trabalho Interessante",
          "Ter compromisso social",
          "Ter notoriedade",
          "Gostar do que faço",
          "Bom relacionamento com colegas de trabalho",
          "Competitividade",
          "Trabalho intelectualmente estimulante",
          "Mudar o mundo",
          "Enfrentar desafios",
          "Realizar um trabalho significativo para mim",
          "Preservar minha saúde",
          "Crescimento intelectual",
          "Trabalho variado",
          "Aprimorar conhecimentos da minha profissão",
          "Atualmente, o setor que prefiro me inserir para trabalhar é: ",
          "Minha atual organização é:",
          "Ter prazer no que faço"
         ],
         "type": "scatterpolar"
        }
       ],
       "layout": {
        "height": 800,
        "legend": {
         "title": {
          "text": "label"
         },
         "tracegroupgap": 0
        },
        "margin": {
         "t": 60
        },
        "polar": {
         "angularaxis": {
          "direction": "clockwise",
          "rotation": 90
         },
         "domain": {
          "x": [
           0,
           1
          ],
          "y": [
           0,
           1
          ]
         }
        },
        "template": {
         "data": {
          "bar": [
           {
            "error_x": {
             "color": "#2a3f5f"
            },
            "error_y": {
             "color": "#2a3f5f"
            },
            "marker": {
             "line": {
              "color": "#E5ECF6",
              "width": 0.5
             }
            },
            "type": "bar"
           }
          ],
          "barpolar": [
           {
            "marker": {
             "line": {
              "color": "#E5ECF6",
              "width": 0.5
             }
            },
            "type": "barpolar"
           }
          ],
          "carpet": [
           {
            "aaxis": {
             "endlinecolor": "#2a3f5f",
             "gridcolor": "white",
             "linecolor": "white",
             "minorgridcolor": "white",
             "startlinecolor": "#2a3f5f"
            },
            "baxis": {
             "endlinecolor": "#2a3f5f",
             "gridcolor": "white",
             "linecolor": "white",
             "minorgridcolor": "white",
             "startlinecolor": "#2a3f5f"
            },
            "type": "carpet"
           }
          ],
          "choropleth": [
           {
            "colorbar": {
             "outlinewidth": 0,
             "ticks": ""
            },
            "type": "choropleth"
           }
          ],
          "contour": [
           {
            "colorbar": {
             "outlinewidth": 0,
             "ticks": ""
            },
            "colorscale": [
             [
              0,
              "#0d0887"
             ],
             [
              0.1111111111111111,
              "#46039f"
             ],
             [
              0.2222222222222222,
              "#7201a8"
             ],
             [
              0.3333333333333333,
              "#9c179e"
             ],
             [
              0.4444444444444444,
              "#bd3786"
             ],
             [
              0.5555555555555556,
              "#d8576b"
             ],
             [
              0.6666666666666666,
              "#ed7953"
             ],
             [
              0.7777777777777778,
              "#fb9f3a"
             ],
             [
              0.8888888888888888,
              "#fdca26"
             ],
             [
              1,
              "#f0f921"
             ]
            ],
            "type": "contour"
           }
          ],
          "contourcarpet": [
           {
            "colorbar": {
             "outlinewidth": 0,
             "ticks": ""
            },
            "type": "contourcarpet"
           }
          ],
          "heatmap": [
           {
            "colorbar": {
             "outlinewidth": 0,
             "ticks": ""
            },
            "colorscale": [
             [
              0,
              "#0d0887"
             ],
             [
              0.1111111111111111,
              "#46039f"
             ],
             [
              0.2222222222222222,
              "#7201a8"
             ],
             [
              0.3333333333333333,
              "#9c179e"
             ],
             [
              0.4444444444444444,
              "#bd3786"
             ],
             [
              0.5555555555555556,
              "#d8576b"
             ],
             [
              0.6666666666666666,
              "#ed7953"
             ],
             [
              0.7777777777777778,
              "#fb9f3a"
             ],
             [
              0.8888888888888888,
              "#fdca26"
             ],
             [
              1,
              "#f0f921"
             ]
            ],
            "type": "heatmap"
           }
          ],
          "heatmapgl": [
           {
            "colorbar": {
             "outlinewidth": 0,
             "ticks": ""
            },
            "colorscale": [
             [
              0,
              "#0d0887"
             ],
             [
              0.1111111111111111,
              "#46039f"
             ],
             [
              0.2222222222222222,
              "#7201a8"
             ],
             [
              0.3333333333333333,
              "#9c179e"
             ],
             [
              0.4444444444444444,
              "#bd3786"
             ],
             [
              0.5555555555555556,
              "#d8576b"
             ],
             [
              0.6666666666666666,
              "#ed7953"
             ],
             [
              0.7777777777777778,
              "#fb9f3a"
             ],
             [
              0.8888888888888888,
              "#fdca26"
             ],
             [
              1,
              "#f0f921"
             ]
            ],
            "type": "heatmapgl"
           }
          ],
          "histogram": [
           {
            "marker": {
             "colorbar": {
              "outlinewidth": 0,
              "ticks": ""
             }
            },
            "type": "histogram"
           }
          ],
          "histogram2d": [
           {
            "colorbar": {
             "outlinewidth": 0,
             "ticks": ""
            },
            "colorscale": [
             [
              0,
              "#0d0887"
             ],
             [
              0.1111111111111111,
              "#46039f"
             ],
             [
              0.2222222222222222,
              "#7201a8"
             ],
             [
              0.3333333333333333,
              "#9c179e"
             ],
             [
              0.4444444444444444,
              "#bd3786"
             ],
             [
              0.5555555555555556,
              "#d8576b"
             ],
             [
              0.6666666666666666,
              "#ed7953"
             ],
             [
              0.7777777777777778,
              "#fb9f3a"
             ],
             [
              0.8888888888888888,
              "#fdca26"
             ],
             [
              1,
              "#f0f921"
             ]
            ],
            "type": "histogram2d"
           }
          ],
          "histogram2dcontour": [
           {
            "colorbar": {
             "outlinewidth": 0,
             "ticks": ""
            },
            "colorscale": [
             [
              0,
              "#0d0887"
             ],
             [
              0.1111111111111111,
              "#46039f"
             ],
             [
              0.2222222222222222,
              "#7201a8"
             ],
             [
              0.3333333333333333,
              "#9c179e"
             ],
             [
              0.4444444444444444,
              "#bd3786"
             ],
             [
              0.5555555555555556,
              "#d8576b"
             ],
             [
              0.6666666666666666,
              "#ed7953"
             ],
             [
              0.7777777777777778,
              "#fb9f3a"
             ],
             [
              0.8888888888888888,
              "#fdca26"
             ],
             [
              1,
              "#f0f921"
             ]
            ],
            "type": "histogram2dcontour"
           }
          ],
          "mesh3d": [
           {
            "colorbar": {
             "outlinewidth": 0,
             "ticks": ""
            },
            "type": "mesh3d"
           }
          ],
          "parcoords": [
           {
            "line": {
             "colorbar": {
              "outlinewidth": 0,
              "ticks": ""
             }
            },
            "type": "parcoords"
           }
          ],
          "pie": [
           {
            "automargin": true,
            "type": "pie"
           }
          ],
          "scatter": [
           {
            "marker": {
             "colorbar": {
              "outlinewidth": 0,
              "ticks": ""
             }
            },
            "type": "scatter"
           }
          ],
          "scatter3d": [
           {
            "line": {
             "colorbar": {
              "outlinewidth": 0,
              "ticks": ""
             }
            },
            "marker": {
             "colorbar": {
              "outlinewidth": 0,
              "ticks": ""
             }
            },
            "type": "scatter3d"
           }
          ],
          "scattercarpet": [
           {
            "marker": {
             "colorbar": {
              "outlinewidth": 0,
              "ticks": ""
             }
            },
            "type": "scattercarpet"
           }
          ],
          "scattergeo": [
           {
            "marker": {
             "colorbar": {
              "outlinewidth": 0,
              "ticks": ""
             }
            },
            "type": "scattergeo"
           }
          ],
          "scattergl": [
           {
            "marker": {
             "colorbar": {
              "outlinewidth": 0,
              "ticks": ""
             }
            },
            "type": "scattergl"
           }
          ],
          "scattermapbox": [
           {
            "marker": {
             "colorbar": {
              "outlinewidth": 0,
              "ticks": ""
             }
            },
            "type": "scattermapbox"
           }
          ],
          "scatterpolar": [
           {
            "marker": {
             "colorbar": {
              "outlinewidth": 0,
              "ticks": ""
             }
            },
            "type": "scatterpolar"
           }
          ],
          "scatterpolargl": [
           {
            "marker": {
             "colorbar": {
              "outlinewidth": 0,
              "ticks": ""
             }
            },
            "type": "scatterpolargl"
           }
          ],
          "scatterternary": [
           {
            "marker": {
             "colorbar": {
              "outlinewidth": 0,
              "ticks": ""
             }
            },
            "type": "scatterternary"
           }
          ],
          "surface": [
           {
            "colorbar": {
             "outlinewidth": 0,
             "ticks": ""
            },
            "colorscale": [
             [
              0,
              "#0d0887"
             ],
             [
              0.1111111111111111,
              "#46039f"
             ],
             [
              0.2222222222222222,
              "#7201a8"
             ],
             [
              0.3333333333333333,
              "#9c179e"
             ],
             [
              0.4444444444444444,
              "#bd3786"
             ],
             [
              0.5555555555555556,
              "#d8576b"
             ],
             [
              0.6666666666666666,
              "#ed7953"
             ],
             [
              0.7777777777777778,
              "#fb9f3a"
             ],
             [
              0.8888888888888888,
              "#fdca26"
             ],
             [
              1,
              "#f0f921"
             ]
            ],
            "type": "surface"
           }
          ],
          "table": [
           {
            "cells": {
             "fill": {
              "color": "#EBF0F8"
             },
             "line": {
              "color": "white"
             }
            },
            "header": {
             "fill": {
              "color": "#C8D4E3"
             },
             "line": {
              "color": "white"
             }
            },
            "type": "table"
           }
          ]
         },
         "layout": {
          "annotationdefaults": {
           "arrowcolor": "#2a3f5f",
           "arrowhead": 0,
           "arrowwidth": 1
          },
          "autotypenumbers": "strict",
          "coloraxis": {
           "colorbar": {
            "outlinewidth": 0,
            "ticks": ""
           }
          },
          "colorscale": {
           "diverging": [
            [
             0,
             "#8e0152"
            ],
            [
             0.1,
             "#c51b7d"
            ],
            [
             0.2,
             "#de77ae"
            ],
            [
             0.3,
             "#f1b6da"
            ],
            [
             0.4,
             "#fde0ef"
            ],
            [
             0.5,
             "#f7f7f7"
            ],
            [
             0.6,
             "#e6f5d0"
            ],
            [
             0.7,
             "#b8e186"
            ],
            [
             0.8,
             "#7fbc41"
            ],
            [
             0.9,
             "#4d9221"
            ],
            [
             1,
             "#276419"
            ]
           ],
           "sequential": [
            [
             0,
             "#0d0887"
            ],
            [
             0.1111111111111111,
             "#46039f"
            ],
            [
             0.2222222222222222,
             "#7201a8"
            ],
            [
             0.3333333333333333,
             "#9c179e"
            ],
            [
             0.4444444444444444,
             "#bd3786"
            ],
            [
             0.5555555555555556,
             "#d8576b"
            ],
            [
             0.6666666666666666,
             "#ed7953"
            ],
            [
             0.7777777777777778,
             "#fb9f3a"
            ],
            [
             0.8888888888888888,
             "#fdca26"
            ],
            [
             1,
             "#f0f921"
            ]
           ],
           "sequentialminus": [
            [
             0,
             "#0d0887"
            ],
            [
             0.1111111111111111,
             "#46039f"
            ],
            [
             0.2222222222222222,
             "#7201a8"
            ],
            [
             0.3333333333333333,
             "#9c179e"
            ],
            [
             0.4444444444444444,
             "#bd3786"
            ],
            [
             0.5555555555555556,
             "#d8576b"
            ],
            [
             0.6666666666666666,
             "#ed7953"
            ],
            [
             0.7777777777777778,
             "#fb9f3a"
            ],
            [
             0.8888888888888888,
             "#fdca26"
            ],
            [
             1,
             "#f0f921"
            ]
           ]
          },
          "colorway": [
           "#636efa",
           "#EF553B",
           "#00cc96",
           "#ab63fa",
           "#FFA15A",
           "#19d3f3",
           "#FF6692",
           "#B6E880",
           "#FF97FF",
           "#FECB52"
          ],
          "font": {
           "color": "#2a3f5f"
          },
          "geo": {
           "bgcolor": "white",
           "lakecolor": "white",
           "landcolor": "#E5ECF6",
           "showlakes": true,
           "showland": true,
           "subunitcolor": "white"
          },
          "hoverlabel": {
           "align": "left"
          },
          "hovermode": "closest",
          "mapbox": {
           "style": "light"
          },
          "paper_bgcolor": "white",
          "plot_bgcolor": "#E5ECF6",
          "polar": {
           "angularaxis": {
            "gridcolor": "white",
            "linecolor": "white",
            "ticks": ""
           },
           "bgcolor": "#E5ECF6",
           "radialaxis": {
            "gridcolor": "white",
            "linecolor": "white",
            "ticks": ""
           }
          },
          "scene": {
           "xaxis": {
            "backgroundcolor": "#E5ECF6",
            "gridcolor": "white",
            "gridwidth": 2,
            "linecolor": "white",
            "showbackground": true,
            "ticks": "",
            "zerolinecolor": "white"
           },
           "yaxis": {
            "backgroundcolor": "#E5ECF6",
            "gridcolor": "white",
            "gridwidth": 2,
            "linecolor": "white",
            "showbackground": true,
            "ticks": "",
            "zerolinecolor": "white"
           },
           "zaxis": {
            "backgroundcolor": "#E5ECF6",
            "gridcolor": "white",
            "gridwidth": 2,
            "linecolor": "white",
            "showbackground": true,
            "ticks": "",
            "zerolinecolor": "white"
           }
          },
          "shapedefaults": {
           "line": {
            "color": "#2a3f5f"
           }
          },
          "ternary": {
           "aaxis": {
            "gridcolor": "white",
            "linecolor": "white",
            "ticks": ""
           },
           "baxis": {
            "gridcolor": "white",
            "linecolor": "white",
            "ticks": ""
           },
           "bgcolor": "#E5ECF6",
           "caxis": {
            "gridcolor": "white",
            "linecolor": "white",
            "ticks": ""
           }
          },
          "title": {
           "x": 0.05
          },
          "xaxis": {
           "automargin": true,
           "gridcolor": "white",
           "linecolor": "white",
           "ticks": "",
           "title": {
            "standoff": 15
           },
           "zerolinecolor": "white",
           "zerolinewidth": 2
          },
          "yaxis": {
           "automargin": true,
           "gridcolor": "white",
           "linecolor": "white",
           "ticks": "",
           "title": {
            "standoff": 15
           },
           "zerolinecolor": "white",
           "zerolinewidth": 2
          }
         }
        },
        "width": 1400
       }
      },
      "text/html": [
       "<div>                            <div id=\"e673b532-3d49-4ceb-8f72-adb0b3d0c647\" class=\"plotly-graph-div\" style=\"height:800px; width:1400px;\"></div>            <script type=\"text/javascript\">                require([\"plotly\"], function(Plotly) {                    window.PLOTLYENV=window.PLOTLYENV || {};                                    if (document.getElementById(\"e673b532-3d49-4ceb-8f72-adb0b3d0c647\")) {                    Plotly.newPlot(                        \"e673b532-3d49-4ceb-8f72-adb0b3d0c647\",                        [{\"hovertemplate\": \"label=0<br>value=%{r}<br>variable=%{theta}<extra></extra>\", \"legendgroup\": \"0\", \"line\": {\"color\": \"#636efa\", \"dash\": \"solid\"}, \"mode\": \"lines\", \"name\": \"0\", \"r\": [0.9000000000000001, 0.7733333333333338, 0.4407407407407407, 0.8844444444444444, 0.8977777777777776, 0.8814814814814813, 0.7037037037037036, 0.9037037037037038, 0.8814814814814813, 0.8629629629629628, 0.26296296296296295, 0.925925925925926, 0.9074074074074073, 0.8185185185185184, 0.5851851851851851, 0.9222222222222223, 0.9111111111111114, 0.7518518518518515, 0.24814814814814815, 0.7866666666666668, 0.7222222222222221, 0.7740740740740738, 0.5407407407407407, 0.885185185185185, 0.914814814814815, 0.7555555555555555, 0.46666666666666684, 0.6851851851851851, 0.7074074074074075, 0.7703703703703705, 0.12962962962962962, 0.8555555555555554, 0.7888888888888889, 0.5925925925925926, 0.8925925925925928, 0.8555555555555555, 0.3777777777777777, 0.8518518518518516, 0.7666666666666665, 0.7962962962962964, 0.9481481481481481, 0.8259259259259257, 0.88, 0.7259259259259259, 0.8444444444444446, 0.3888888888888889, 0.2222222222222222, 0.9000000000000001], \"showlegend\": true, \"subplot\": \"polar\", \"theta\": [\"Ter prazer no que fa\\u00e7o\", \"Ajudar os outros\", \"Supervisionar outras pessoas\", \"Ter melhores condi\\u00e7\\u00f5es de vida\", \"Ser feliz com o trabalho que realizo\", \"Colaborar para o desenvolvimento da sociedade\", \"Obter posi\\u00e7\\u00e3o de destaque\", \"Estabilidade financeira\", \"Identificar-me com o trabalho\", \"Ser \\u00fatil para a sociedade\", \"Ter fama\", \"Poder me sustentar\", \"Realiza\\u00e7\\u00e3o pessoal\", \"Colaborar com colegas para atingir metas do grupo\", \"Ter prest\\u00edgio\", \"Ser independente financeiramente\", \"Satisfa\\u00e7\\u00e3o Pessoal\", \"Amizade com colegas de trabalho\", \"Competir com colegas de trabalho para alcan\\u00e7ar minhas metas profissionais\", \"Ganhar dinheiro\", \"Trabalho que requer originalidade/criatividade\", \"Conhecer pessoas\", \"Status no trabalho\", \"Melhorar a qualidade de vida da minha fam\\u00edlia\", \"Realiza\\u00e7\\u00e3o profissional\", \"Auxiliar os colegas de trabalho\", \"Ter superioridade baseada no \\u00eaxito do meu trabalho\", \"Suprir necessidades materiais\", \"Autonomia para estabelecer a forma de realiza\\u00e7\\u00e3o do trabalho\", \"Combater injusti\\u00e7as sociais\", \"Seguir a profiss\\u00e3o da fam\\u00edlia\", \"Trabalho Interessante\", \"Ter compromisso social\", \"Ter notoriedade\", \"Gostar do que fa\\u00e7o\", \"Bom relacionamento com colegas de trabalho\", \"Competitividade\", \"Trabalho intelectualmente estimulante\", \"Mudar o mundo\", \"Enfrentar desafios\", \"Realizar um trabalho significativo para mim\", \"Preservar minha sa\\u00fade\", \"Crescimento intelectual\", \"Trabalho variado\", \"Aprimorar conhecimentos da minha profiss\\u00e3o\", \"Atualmente, o setor que prefiro me inserir para trabalhar \\u00e9: \", \"Minha atual organiza\\u00e7\\u00e3o \\u00e9:\", \"Ter prazer no que fa\\u00e7o\"], \"type\": \"scatterpolar\"}, {\"hovertemplate\": \"label=1<br>value=%{r}<br>variable=%{theta}<extra></extra>\", \"legendgroup\": \"1\", \"line\": {\"color\": \"#EF553B\", \"dash\": \"solid\"}, \"mode\": \"lines\", \"name\": \"1\", \"r\": [0.33333333333333337, 0.15000000000000002, 0.08333333333333334, 0.3500000000000001, 0.2, 0.125, 0.2916666666666667, 0.6666666666666666, 0.25, 0.29166666666666663, 0.041666666666666664, 0.5833333333333333, 0.25, 0.25, 0.16666666666666669, 0.5, 0.25, 0.20833333333333334, 0.125, 0.45000000000000007, 0.2916666666666667, 0.125, 0.16666666666666669, 0.375, 0.33333333333333337, 0.33333333333333337, 0.16666666666666666, 0.41666666666666663, 0.33333333333333337, 0.125, 0.0, 0.20833333333333334, 0.29166666666666663, 0.20833333333333334, 0.25, 0.20833333333333334, 0.16666666666666666, 0.375, 0.0, 0.29166666666666663, 0.16666666666666669, 0.041666666666666664, 0.2, 0.08333333333333334, 0.3500000000000001, 0.0, 0.25, 0.33333333333333337], \"showlegend\": true, \"subplot\": \"polar\", \"theta\": [\"Ter prazer no que fa\\u00e7o\", \"Ajudar os outros\", \"Supervisionar outras pessoas\", \"Ter melhores condi\\u00e7\\u00f5es de vida\", \"Ser feliz com o trabalho que realizo\", \"Colaborar para o desenvolvimento da sociedade\", \"Obter posi\\u00e7\\u00e3o de destaque\", \"Estabilidade financeira\", \"Identificar-me com o trabalho\", \"Ser \\u00fatil para a sociedade\", \"Ter fama\", \"Poder me sustentar\", \"Realiza\\u00e7\\u00e3o pessoal\", \"Colaborar com colegas para atingir metas do grupo\", \"Ter prest\\u00edgio\", \"Ser independente financeiramente\", \"Satisfa\\u00e7\\u00e3o Pessoal\", \"Amizade com colegas de trabalho\", \"Competir com colegas de trabalho para alcan\\u00e7ar minhas metas profissionais\", \"Ganhar dinheiro\", \"Trabalho que requer originalidade/criatividade\", \"Conhecer pessoas\", \"Status no trabalho\", \"Melhorar a qualidade de vida da minha fam\\u00edlia\", \"Realiza\\u00e7\\u00e3o profissional\", \"Auxiliar os colegas de trabalho\", \"Ter superioridade baseada no \\u00eaxito do meu trabalho\", \"Suprir necessidades materiais\", \"Autonomia para estabelecer a forma de realiza\\u00e7\\u00e3o do trabalho\", \"Combater injusti\\u00e7as sociais\", \"Seguir a profiss\\u00e3o da fam\\u00edlia\", \"Trabalho Interessante\", \"Ter compromisso social\", \"Ter notoriedade\", \"Gostar do que fa\\u00e7o\", \"Bom relacionamento com colegas de trabalho\", \"Competitividade\", \"Trabalho intelectualmente estimulante\", \"Mudar o mundo\", \"Enfrentar desafios\", \"Realizar um trabalho significativo para mim\", \"Preservar minha sa\\u00fade\", \"Crescimento intelectual\", \"Trabalho variado\", \"Aprimorar conhecimentos da minha profiss\\u00e3o\", \"Atualmente, o setor que prefiro me inserir para trabalhar \\u00e9: \", \"Minha atual organiza\\u00e7\\u00e3o \\u00e9:\", \"Ter prazer no que fa\\u00e7o\"], \"type\": \"scatterpolar\"}, {\"hovertemplate\": \"label=2<br>value=%{r}<br>variable=%{theta}<extra></extra>\", \"legendgroup\": \"2\", \"line\": {\"color\": \"#00cc96\", \"dash\": \"solid\"}, \"mode\": \"lines\", \"name\": \"2\", \"r\": [0.7592592592592591, 0.5111111111111111, 0.3444444444444445, 0.8622222222222223, 0.7777777777777778, 0.5407407407407406, 0.5851851851851853, 0.8888888888888888, 0.7740740740740739, 0.5629629629629629, 0.12962962962962965, 0.9407407407407407, 0.8296296296296295, 0.651851851851852, 0.4333333333333334, 0.9111111111111111, 0.7962962962962962, 0.6888888888888888, 0.2111111111111111, 0.7822222222222222, 0.48148148148148157, 0.5703703703703706, 0.32592592592592595, 0.8555555555555554, 0.7888888888888891, 0.5740740740740742, 0.45555555555555566, 0.6296296296296297, 0.5925925925925924, 0.41481481481481486, 0.05185185185185186, 0.7407407407407409, 0.5037037037037038, 0.36296296296296293, 0.7740740740740739, 0.7925925925925927, 0.3074074074074074, 0.6925925925925925, 0.40370370370370373, 0.6111111111111113, 0.7222222222222222, 0.7629629629629628, 0.7422222222222226, 0.48518518518518516, 0.7200000000000001, 0.15555555555555556, 0.14444444444444443, 0.7592592592592591], \"showlegend\": true, \"subplot\": \"polar\", \"theta\": [\"Ter prazer no que fa\\u00e7o\", \"Ajudar os outros\", \"Supervisionar outras pessoas\", \"Ter melhores condi\\u00e7\\u00f5es de vida\", \"Ser feliz com o trabalho que realizo\", \"Colaborar para o desenvolvimento da sociedade\", \"Obter posi\\u00e7\\u00e3o de destaque\", \"Estabilidade financeira\", \"Identificar-me com o trabalho\", \"Ser \\u00fatil para a sociedade\", \"Ter fama\", \"Poder me sustentar\", \"Realiza\\u00e7\\u00e3o pessoal\", \"Colaborar com colegas para atingir metas do grupo\", \"Ter prest\\u00edgio\", \"Ser independente financeiramente\", \"Satisfa\\u00e7\\u00e3o Pessoal\", \"Amizade com colegas de trabalho\", \"Competir com colegas de trabalho para alcan\\u00e7ar minhas metas profissionais\", \"Ganhar dinheiro\", \"Trabalho que requer originalidade/criatividade\", \"Conhecer pessoas\", \"Status no trabalho\", \"Melhorar a qualidade de vida da minha fam\\u00edlia\", \"Realiza\\u00e7\\u00e3o profissional\", \"Auxiliar os colegas de trabalho\", \"Ter superioridade baseada no \\u00eaxito do meu trabalho\", \"Suprir necessidades materiais\", \"Autonomia para estabelecer a forma de realiza\\u00e7\\u00e3o do trabalho\", \"Combater injusti\\u00e7as sociais\", \"Seguir a profiss\\u00e3o da fam\\u00edlia\", \"Trabalho Interessante\", \"Ter compromisso social\", \"Ter notoriedade\", \"Gostar do que fa\\u00e7o\", \"Bom relacionamento com colegas de trabalho\", \"Competitividade\", \"Trabalho intelectualmente estimulante\", \"Mudar o mundo\", \"Enfrentar desafios\", \"Realizar um trabalho significativo para mim\", \"Preservar minha sa\\u00fade\", \"Crescimento intelectual\", \"Trabalho variado\", \"Aprimorar conhecimentos da minha profiss\\u00e3o\", \"Atualmente, o setor que prefiro me inserir para trabalhar \\u00e9: \", \"Minha atual organiza\\u00e7\\u00e3o \\u00e9:\", \"Ter prazer no que fa\\u00e7o\"], \"type\": \"scatterpolar\"}],                        {\"height\": 800, \"legend\": {\"title\": {\"text\": \"label\"}, \"tracegroupgap\": 0}, \"margin\": {\"t\": 60}, \"polar\": {\"angularaxis\": {\"direction\": \"clockwise\", \"rotation\": 90}, \"domain\": {\"x\": [0.0, 1.0], \"y\": [0.0, 1.0]}}, \"template\": {\"data\": {\"bar\": [{\"error_x\": {\"color\": \"#2a3f5f\"}, \"error_y\": {\"color\": \"#2a3f5f\"}, \"marker\": {\"line\": {\"color\": \"#E5ECF6\", \"width\": 0.5}}, \"type\": \"bar\"}], \"barpolar\": [{\"marker\": {\"line\": {\"color\": \"#E5ECF6\", \"width\": 0.5}}, \"type\": \"barpolar\"}], \"carpet\": [{\"aaxis\": {\"endlinecolor\": \"#2a3f5f\", \"gridcolor\": \"white\", \"linecolor\": \"white\", \"minorgridcolor\": \"white\", \"startlinecolor\": \"#2a3f5f\"}, \"baxis\": {\"endlinecolor\": \"#2a3f5f\", \"gridcolor\": \"white\", \"linecolor\": \"white\", \"minorgridcolor\": \"white\", \"startlinecolor\": \"#2a3f5f\"}, \"type\": \"carpet\"}], \"choropleth\": [{\"colorbar\": {\"outlinewidth\": 0, \"ticks\": \"\"}, \"type\": \"choropleth\"}], \"contour\": [{\"colorbar\": {\"outlinewidth\": 0, \"ticks\": \"\"}, \"colorscale\": [[0.0, \"#0d0887\"], [0.1111111111111111, \"#46039f\"], [0.2222222222222222, \"#7201a8\"], [0.3333333333333333, \"#9c179e\"], [0.4444444444444444, \"#bd3786\"], [0.5555555555555556, \"#d8576b\"], [0.6666666666666666, \"#ed7953\"], [0.7777777777777778, \"#fb9f3a\"], [0.8888888888888888, \"#fdca26\"], [1.0, \"#f0f921\"]], \"type\": \"contour\"}], \"contourcarpet\": [{\"colorbar\": {\"outlinewidth\": 0, \"ticks\": \"\"}, \"type\": \"contourcarpet\"}], \"heatmap\": [{\"colorbar\": {\"outlinewidth\": 0, \"ticks\": \"\"}, \"colorscale\": [[0.0, \"#0d0887\"], [0.1111111111111111, \"#46039f\"], [0.2222222222222222, \"#7201a8\"], [0.3333333333333333, \"#9c179e\"], [0.4444444444444444, \"#bd3786\"], [0.5555555555555556, \"#d8576b\"], [0.6666666666666666, \"#ed7953\"], [0.7777777777777778, \"#fb9f3a\"], [0.8888888888888888, \"#fdca26\"], [1.0, \"#f0f921\"]], \"type\": \"heatmap\"}], \"heatmapgl\": [{\"colorbar\": {\"outlinewidth\": 0, \"ticks\": \"\"}, \"colorscale\": [[0.0, \"#0d0887\"], [0.1111111111111111, \"#46039f\"], [0.2222222222222222, \"#7201a8\"], [0.3333333333333333, \"#9c179e\"], [0.4444444444444444, \"#bd3786\"], [0.5555555555555556, \"#d8576b\"], [0.6666666666666666, \"#ed7953\"], [0.7777777777777778, \"#fb9f3a\"], [0.8888888888888888, \"#fdca26\"], [1.0, \"#f0f921\"]], \"type\": \"heatmapgl\"}], \"histogram\": [{\"marker\": {\"colorbar\": {\"outlinewidth\": 0, \"ticks\": \"\"}}, \"type\": \"histogram\"}], \"histogram2d\": [{\"colorbar\": {\"outlinewidth\": 0, \"ticks\": \"\"}, \"colorscale\": [[0.0, \"#0d0887\"], [0.1111111111111111, \"#46039f\"], [0.2222222222222222, \"#7201a8\"], [0.3333333333333333, \"#9c179e\"], [0.4444444444444444, \"#bd3786\"], [0.5555555555555556, \"#d8576b\"], [0.6666666666666666, \"#ed7953\"], [0.7777777777777778, \"#fb9f3a\"], [0.8888888888888888, \"#fdca26\"], [1.0, \"#f0f921\"]], \"type\": \"histogram2d\"}], \"histogram2dcontour\": [{\"colorbar\": {\"outlinewidth\": 0, \"ticks\": \"\"}, \"colorscale\": [[0.0, \"#0d0887\"], [0.1111111111111111, \"#46039f\"], [0.2222222222222222, \"#7201a8\"], [0.3333333333333333, \"#9c179e\"], [0.4444444444444444, \"#bd3786\"], [0.5555555555555556, \"#d8576b\"], [0.6666666666666666, \"#ed7953\"], [0.7777777777777778, \"#fb9f3a\"], [0.8888888888888888, \"#fdca26\"], [1.0, \"#f0f921\"]], \"type\": \"histogram2dcontour\"}], \"mesh3d\": [{\"colorbar\": {\"outlinewidth\": 0, \"ticks\": \"\"}, \"type\": \"mesh3d\"}], \"parcoords\": [{\"line\": {\"colorbar\": {\"outlinewidth\": 0, \"ticks\": \"\"}}, \"type\": \"parcoords\"}], \"pie\": [{\"automargin\": true, \"type\": \"pie\"}], \"scatter\": [{\"marker\": {\"colorbar\": {\"outlinewidth\": 0, \"ticks\": \"\"}}, \"type\": \"scatter\"}], \"scatter3d\": [{\"line\": {\"colorbar\": {\"outlinewidth\": 0, \"ticks\": \"\"}}, \"marker\": {\"colorbar\": {\"outlinewidth\": 0, \"ticks\": \"\"}}, \"type\": \"scatter3d\"}], \"scattercarpet\": [{\"marker\": {\"colorbar\": {\"outlinewidth\": 0, \"ticks\": \"\"}}, \"type\": \"scattercarpet\"}], \"scattergeo\": [{\"marker\": {\"colorbar\": {\"outlinewidth\": 0, \"ticks\": \"\"}}, \"type\": \"scattergeo\"}], \"scattergl\": [{\"marker\": {\"colorbar\": {\"outlinewidth\": 0, \"ticks\": \"\"}}, \"type\": \"scattergl\"}], \"scattermapbox\": [{\"marker\": {\"colorbar\": {\"outlinewidth\": 0, \"ticks\": \"\"}}, \"type\": \"scattermapbox\"}], \"scatterpolar\": [{\"marker\": {\"colorbar\": {\"outlinewidth\": 0, \"ticks\": \"\"}}, \"type\": \"scatterpolar\"}], \"scatterpolargl\": [{\"marker\": {\"colorbar\": {\"outlinewidth\": 0, \"ticks\": \"\"}}, \"type\": \"scatterpolargl\"}], \"scatterternary\": [{\"marker\": {\"colorbar\": {\"outlinewidth\": 0, \"ticks\": \"\"}}, \"type\": \"scatterternary\"}], \"surface\": [{\"colorbar\": {\"outlinewidth\": 0, \"ticks\": \"\"}, \"colorscale\": [[0.0, \"#0d0887\"], [0.1111111111111111, \"#46039f\"], [0.2222222222222222, \"#7201a8\"], [0.3333333333333333, \"#9c179e\"], [0.4444444444444444, \"#bd3786\"], [0.5555555555555556, \"#d8576b\"], [0.6666666666666666, \"#ed7953\"], [0.7777777777777778, \"#fb9f3a\"], [0.8888888888888888, \"#fdca26\"], [1.0, \"#f0f921\"]], \"type\": \"surface\"}], \"table\": [{\"cells\": {\"fill\": {\"color\": \"#EBF0F8\"}, \"line\": {\"color\": \"white\"}}, \"header\": {\"fill\": {\"color\": \"#C8D4E3\"}, \"line\": {\"color\": \"white\"}}, \"type\": \"table\"}]}, \"layout\": {\"annotationdefaults\": {\"arrowcolor\": \"#2a3f5f\", \"arrowhead\": 0, \"arrowwidth\": 1}, \"autotypenumbers\": \"strict\", \"coloraxis\": {\"colorbar\": {\"outlinewidth\": 0, \"ticks\": \"\"}}, \"colorscale\": {\"diverging\": [[0, \"#8e0152\"], [0.1, \"#c51b7d\"], [0.2, \"#de77ae\"], [0.3, \"#f1b6da\"], [0.4, \"#fde0ef\"], [0.5, \"#f7f7f7\"], [0.6, \"#e6f5d0\"], [0.7, \"#b8e186\"], [0.8, \"#7fbc41\"], [0.9, \"#4d9221\"], [1, \"#276419\"]], \"sequential\": [[0.0, \"#0d0887\"], [0.1111111111111111, \"#46039f\"], [0.2222222222222222, \"#7201a8\"], [0.3333333333333333, \"#9c179e\"], [0.4444444444444444, \"#bd3786\"], [0.5555555555555556, \"#d8576b\"], [0.6666666666666666, \"#ed7953\"], [0.7777777777777778, \"#fb9f3a\"], [0.8888888888888888, \"#fdca26\"], [1.0, \"#f0f921\"]], \"sequentialminus\": [[0.0, \"#0d0887\"], [0.1111111111111111, \"#46039f\"], [0.2222222222222222, \"#7201a8\"], [0.3333333333333333, \"#9c179e\"], [0.4444444444444444, \"#bd3786\"], [0.5555555555555556, \"#d8576b\"], [0.6666666666666666, \"#ed7953\"], [0.7777777777777778, \"#fb9f3a\"], [0.8888888888888888, \"#fdca26\"], [1.0, \"#f0f921\"]]}, \"colorway\": [\"#636efa\", \"#EF553B\", \"#00cc96\", \"#ab63fa\", \"#FFA15A\", \"#19d3f3\", \"#FF6692\", \"#B6E880\", \"#FF97FF\", \"#FECB52\"], \"font\": {\"color\": \"#2a3f5f\"}, \"geo\": {\"bgcolor\": \"white\", \"lakecolor\": \"white\", \"landcolor\": \"#E5ECF6\", \"showlakes\": true, \"showland\": true, \"subunitcolor\": \"white\"}, \"hoverlabel\": {\"align\": \"left\"}, \"hovermode\": \"closest\", \"mapbox\": {\"style\": \"light\"}, \"paper_bgcolor\": \"white\", \"plot_bgcolor\": \"#E5ECF6\", \"polar\": {\"angularaxis\": {\"gridcolor\": \"white\", \"linecolor\": \"white\", \"ticks\": \"\"}, \"bgcolor\": \"#E5ECF6\", \"radialaxis\": {\"gridcolor\": \"white\", \"linecolor\": \"white\", \"ticks\": \"\"}}, \"scene\": {\"xaxis\": {\"backgroundcolor\": \"#E5ECF6\", \"gridcolor\": \"white\", \"gridwidth\": 2, \"linecolor\": \"white\", \"showbackground\": true, \"ticks\": \"\", \"zerolinecolor\": \"white\"}, \"yaxis\": {\"backgroundcolor\": \"#E5ECF6\", \"gridcolor\": \"white\", \"gridwidth\": 2, \"linecolor\": \"white\", \"showbackground\": true, \"ticks\": \"\", \"zerolinecolor\": \"white\"}, \"zaxis\": {\"backgroundcolor\": \"#E5ECF6\", \"gridcolor\": \"white\", \"gridwidth\": 2, \"linecolor\": \"white\", \"showbackground\": true, \"ticks\": \"\", \"zerolinecolor\": \"white\"}}, \"shapedefaults\": {\"line\": {\"color\": \"#2a3f5f\"}}, \"ternary\": {\"aaxis\": {\"gridcolor\": \"white\", \"linecolor\": \"white\", \"ticks\": \"\"}, \"baxis\": {\"gridcolor\": \"white\", \"linecolor\": \"white\", \"ticks\": \"\"}, \"bgcolor\": \"#E5ECF6\", \"caxis\": {\"gridcolor\": \"white\", \"linecolor\": \"white\", \"ticks\": \"\"}}, \"title\": {\"x\": 0.05}, \"xaxis\": {\"automargin\": true, \"gridcolor\": \"white\", \"linecolor\": \"white\", \"ticks\": \"\", \"title\": {\"standoff\": 15}, \"zerolinecolor\": \"white\", \"zerolinewidth\": 2}, \"yaxis\": {\"automargin\": true, \"gridcolor\": \"white\", \"linecolor\": \"white\", \"ticks\": \"\", \"title\": {\"standoff\": 15}, \"zerolinecolor\": \"white\", \"zerolinewidth\": 2}}}, \"width\": 1400},                        {\"responsive\": true}                    ).then(function(){\n",
       "                            \n",
       "var gd = document.getElementById('e673b532-3d49-4ceb-8f72-adb0b3d0c647');\n",
       "var x = new MutationObserver(function (mutations, observer) {{\n",
       "        var display = window.getComputedStyle(gd).display;\n",
       "        if (!display || display === 'none') {{\n",
       "            console.log([gd, 'removed!']);\n",
       "            Plotly.purge(gd);\n",
       "            observer.disconnect();\n",
       "        }}\n",
       "}});\n",
       "\n",
       "// Listen for the removal of the full notebook cells\n",
       "var notebookContainer = gd.closest('#notebook-container');\n",
       "if (notebookContainer) {{\n",
       "    x.observe(notebookContainer, {childList: true});\n",
       "}}\n",
       "\n",
       "// Listen for the clearing of the current output cell\n",
       "var outputEl = gd.closest('.output');\n",
       "if (outputEl) {{\n",
       "    x.observe(outputEl, {childList: true});\n",
       "}}\n",
       "\n",
       "                        })                };                });            </script>        </div>"
      ]
     },
     "metadata": {},
     "output_type": "display_data"
    }
   ],
   "source": [
    "kmeans = KMeans(\n",
    "        n_clusters=3, init=\"k-means++\",\n",
    "        n_init=10,\n",
    "        tol=1e-04, random_state=42\n",
    "    )\n",
    "\n",
    "kmeans.fit(X)\n",
    "clusters=pd.DataFrame(X,columns=df_dropado.columns)\n",
    "\n",
    "clusters['label']=kmeans.labels_\n",
    "polar=clusters.groupby(\"label\").mean().reset_index()\n",
    "polar=pd.melt(polar,id_vars=[\"label\"])\n",
    "fig4 = px.line_polar(polar, r=\"value\", theta=\"variable\", color=\"label\", line_close=True,height=800,width=1400)\n",
    "fig4.show()"
   ]
  },
  {
   "cell_type": "code",
   "execution_count": 110,
   "id": "d54413b9",
   "metadata": {},
   "outputs": [],
   "source": [
    "#fig4.write_html(file='cluster_3_kmeans.html')"
   ]
  },
  {
   "cell_type": "markdown",
   "id": "721b29b9",
   "metadata": {},
   "source": [
    "### quantidade em cada cluster"
   ]
  },
  {
   "cell_type": "code",
   "execution_count": 112,
   "id": "e6f0a5b4",
   "metadata": {},
   "outputs": [
    {
     "data": {
      "application/vnd.plotly.v1+json": {
       "config": {
        "plotlyServerURL": "https://plot.ly"
       },
       "data": [
        {
         "customdata": [
          [
           "blue"
          ],
          [
           "red"
          ],
          [
           "green"
          ]
         ],
         "domain": {
          "x": [
           0,
           1
          ],
          "y": [
           0,
           1
          ]
         },
         "hovertemplate": "label=%{label}<br>value=%{value}<br>color=%{customdata[0]}<extra></extra>",
         "labels": [
          0,
          1,
          2
         ],
         "legendgroup": "",
         "marker": {
          "colors": [
           "#636efa",
           "#EF553B",
           "#00cc96"
          ]
         },
         "name": "",
         "showlegend": true,
         "type": "pie",
         "values": [
          45,
          4,
          45
         ]
        }
       ],
       "layout": {
        "legend": {
         "tracegroupgap": 0
        },
        "margin": {
         "t": 60
        },
        "template": {
         "data": {
          "bar": [
           {
            "error_x": {
             "color": "#2a3f5f"
            },
            "error_y": {
             "color": "#2a3f5f"
            },
            "marker": {
             "line": {
              "color": "#E5ECF6",
              "width": 0.5
             }
            },
            "type": "bar"
           }
          ],
          "barpolar": [
           {
            "marker": {
             "line": {
              "color": "#E5ECF6",
              "width": 0.5
             }
            },
            "type": "barpolar"
           }
          ],
          "carpet": [
           {
            "aaxis": {
             "endlinecolor": "#2a3f5f",
             "gridcolor": "white",
             "linecolor": "white",
             "minorgridcolor": "white",
             "startlinecolor": "#2a3f5f"
            },
            "baxis": {
             "endlinecolor": "#2a3f5f",
             "gridcolor": "white",
             "linecolor": "white",
             "minorgridcolor": "white",
             "startlinecolor": "#2a3f5f"
            },
            "type": "carpet"
           }
          ],
          "choropleth": [
           {
            "colorbar": {
             "outlinewidth": 0,
             "ticks": ""
            },
            "type": "choropleth"
           }
          ],
          "contour": [
           {
            "colorbar": {
             "outlinewidth": 0,
             "ticks": ""
            },
            "colorscale": [
             [
              0,
              "#0d0887"
             ],
             [
              0.1111111111111111,
              "#46039f"
             ],
             [
              0.2222222222222222,
              "#7201a8"
             ],
             [
              0.3333333333333333,
              "#9c179e"
             ],
             [
              0.4444444444444444,
              "#bd3786"
             ],
             [
              0.5555555555555556,
              "#d8576b"
             ],
             [
              0.6666666666666666,
              "#ed7953"
             ],
             [
              0.7777777777777778,
              "#fb9f3a"
             ],
             [
              0.8888888888888888,
              "#fdca26"
             ],
             [
              1,
              "#f0f921"
             ]
            ],
            "type": "contour"
           }
          ],
          "contourcarpet": [
           {
            "colorbar": {
             "outlinewidth": 0,
             "ticks": ""
            },
            "type": "contourcarpet"
           }
          ],
          "heatmap": [
           {
            "colorbar": {
             "outlinewidth": 0,
             "ticks": ""
            },
            "colorscale": [
             [
              0,
              "#0d0887"
             ],
             [
              0.1111111111111111,
              "#46039f"
             ],
             [
              0.2222222222222222,
              "#7201a8"
             ],
             [
              0.3333333333333333,
              "#9c179e"
             ],
             [
              0.4444444444444444,
              "#bd3786"
             ],
             [
              0.5555555555555556,
              "#d8576b"
             ],
             [
              0.6666666666666666,
              "#ed7953"
             ],
             [
              0.7777777777777778,
              "#fb9f3a"
             ],
             [
              0.8888888888888888,
              "#fdca26"
             ],
             [
              1,
              "#f0f921"
             ]
            ],
            "type": "heatmap"
           }
          ],
          "heatmapgl": [
           {
            "colorbar": {
             "outlinewidth": 0,
             "ticks": ""
            },
            "colorscale": [
             [
              0,
              "#0d0887"
             ],
             [
              0.1111111111111111,
              "#46039f"
             ],
             [
              0.2222222222222222,
              "#7201a8"
             ],
             [
              0.3333333333333333,
              "#9c179e"
             ],
             [
              0.4444444444444444,
              "#bd3786"
             ],
             [
              0.5555555555555556,
              "#d8576b"
             ],
             [
              0.6666666666666666,
              "#ed7953"
             ],
             [
              0.7777777777777778,
              "#fb9f3a"
             ],
             [
              0.8888888888888888,
              "#fdca26"
             ],
             [
              1,
              "#f0f921"
             ]
            ],
            "type": "heatmapgl"
           }
          ],
          "histogram": [
           {
            "marker": {
             "colorbar": {
              "outlinewidth": 0,
              "ticks": ""
             }
            },
            "type": "histogram"
           }
          ],
          "histogram2d": [
           {
            "colorbar": {
             "outlinewidth": 0,
             "ticks": ""
            },
            "colorscale": [
             [
              0,
              "#0d0887"
             ],
             [
              0.1111111111111111,
              "#46039f"
             ],
             [
              0.2222222222222222,
              "#7201a8"
             ],
             [
              0.3333333333333333,
              "#9c179e"
             ],
             [
              0.4444444444444444,
              "#bd3786"
             ],
             [
              0.5555555555555556,
              "#d8576b"
             ],
             [
              0.6666666666666666,
              "#ed7953"
             ],
             [
              0.7777777777777778,
              "#fb9f3a"
             ],
             [
              0.8888888888888888,
              "#fdca26"
             ],
             [
              1,
              "#f0f921"
             ]
            ],
            "type": "histogram2d"
           }
          ],
          "histogram2dcontour": [
           {
            "colorbar": {
             "outlinewidth": 0,
             "ticks": ""
            },
            "colorscale": [
             [
              0,
              "#0d0887"
             ],
             [
              0.1111111111111111,
              "#46039f"
             ],
             [
              0.2222222222222222,
              "#7201a8"
             ],
             [
              0.3333333333333333,
              "#9c179e"
             ],
             [
              0.4444444444444444,
              "#bd3786"
             ],
             [
              0.5555555555555556,
              "#d8576b"
             ],
             [
              0.6666666666666666,
              "#ed7953"
             ],
             [
              0.7777777777777778,
              "#fb9f3a"
             ],
             [
              0.8888888888888888,
              "#fdca26"
             ],
             [
              1,
              "#f0f921"
             ]
            ],
            "type": "histogram2dcontour"
           }
          ],
          "mesh3d": [
           {
            "colorbar": {
             "outlinewidth": 0,
             "ticks": ""
            },
            "type": "mesh3d"
           }
          ],
          "parcoords": [
           {
            "line": {
             "colorbar": {
              "outlinewidth": 0,
              "ticks": ""
             }
            },
            "type": "parcoords"
           }
          ],
          "pie": [
           {
            "automargin": true,
            "type": "pie"
           }
          ],
          "scatter": [
           {
            "marker": {
             "colorbar": {
              "outlinewidth": 0,
              "ticks": ""
             }
            },
            "type": "scatter"
           }
          ],
          "scatter3d": [
           {
            "line": {
             "colorbar": {
              "outlinewidth": 0,
              "ticks": ""
             }
            },
            "marker": {
             "colorbar": {
              "outlinewidth": 0,
              "ticks": ""
             }
            },
            "type": "scatter3d"
           }
          ],
          "scattercarpet": [
           {
            "marker": {
             "colorbar": {
              "outlinewidth": 0,
              "ticks": ""
             }
            },
            "type": "scattercarpet"
           }
          ],
          "scattergeo": [
           {
            "marker": {
             "colorbar": {
              "outlinewidth": 0,
              "ticks": ""
             }
            },
            "type": "scattergeo"
           }
          ],
          "scattergl": [
           {
            "marker": {
             "colorbar": {
              "outlinewidth": 0,
              "ticks": ""
             }
            },
            "type": "scattergl"
           }
          ],
          "scattermapbox": [
           {
            "marker": {
             "colorbar": {
              "outlinewidth": 0,
              "ticks": ""
             }
            },
            "type": "scattermapbox"
           }
          ],
          "scatterpolar": [
           {
            "marker": {
             "colorbar": {
              "outlinewidth": 0,
              "ticks": ""
             }
            },
            "type": "scatterpolar"
           }
          ],
          "scatterpolargl": [
           {
            "marker": {
             "colorbar": {
              "outlinewidth": 0,
              "ticks": ""
             }
            },
            "type": "scatterpolargl"
           }
          ],
          "scatterternary": [
           {
            "marker": {
             "colorbar": {
              "outlinewidth": 0,
              "ticks": ""
             }
            },
            "type": "scatterternary"
           }
          ],
          "surface": [
           {
            "colorbar": {
             "outlinewidth": 0,
             "ticks": ""
            },
            "colorscale": [
             [
              0,
              "#0d0887"
             ],
             [
              0.1111111111111111,
              "#46039f"
             ],
             [
              0.2222222222222222,
              "#7201a8"
             ],
             [
              0.3333333333333333,
              "#9c179e"
             ],
             [
              0.4444444444444444,
              "#bd3786"
             ],
             [
              0.5555555555555556,
              "#d8576b"
             ],
             [
              0.6666666666666666,
              "#ed7953"
             ],
             [
              0.7777777777777778,
              "#fb9f3a"
             ],
             [
              0.8888888888888888,
              "#fdca26"
             ],
             [
              1,
              "#f0f921"
             ]
            ],
            "type": "surface"
           }
          ],
          "table": [
           {
            "cells": {
             "fill": {
              "color": "#EBF0F8"
             },
             "line": {
              "color": "white"
             }
            },
            "header": {
             "fill": {
              "color": "#C8D4E3"
             },
             "line": {
              "color": "white"
             }
            },
            "type": "table"
           }
          ]
         },
         "layout": {
          "annotationdefaults": {
           "arrowcolor": "#2a3f5f",
           "arrowhead": 0,
           "arrowwidth": 1
          },
          "autotypenumbers": "strict",
          "coloraxis": {
           "colorbar": {
            "outlinewidth": 0,
            "ticks": ""
           }
          },
          "colorscale": {
           "diverging": [
            [
             0,
             "#8e0152"
            ],
            [
             0.1,
             "#c51b7d"
            ],
            [
             0.2,
             "#de77ae"
            ],
            [
             0.3,
             "#f1b6da"
            ],
            [
             0.4,
             "#fde0ef"
            ],
            [
             0.5,
             "#f7f7f7"
            ],
            [
             0.6,
             "#e6f5d0"
            ],
            [
             0.7,
             "#b8e186"
            ],
            [
             0.8,
             "#7fbc41"
            ],
            [
             0.9,
             "#4d9221"
            ],
            [
             1,
             "#276419"
            ]
           ],
           "sequential": [
            [
             0,
             "#0d0887"
            ],
            [
             0.1111111111111111,
             "#46039f"
            ],
            [
             0.2222222222222222,
             "#7201a8"
            ],
            [
             0.3333333333333333,
             "#9c179e"
            ],
            [
             0.4444444444444444,
             "#bd3786"
            ],
            [
             0.5555555555555556,
             "#d8576b"
            ],
            [
             0.6666666666666666,
             "#ed7953"
            ],
            [
             0.7777777777777778,
             "#fb9f3a"
            ],
            [
             0.8888888888888888,
             "#fdca26"
            ],
            [
             1,
             "#f0f921"
            ]
           ],
           "sequentialminus": [
            [
             0,
             "#0d0887"
            ],
            [
             0.1111111111111111,
             "#46039f"
            ],
            [
             0.2222222222222222,
             "#7201a8"
            ],
            [
             0.3333333333333333,
             "#9c179e"
            ],
            [
             0.4444444444444444,
             "#bd3786"
            ],
            [
             0.5555555555555556,
             "#d8576b"
            ],
            [
             0.6666666666666666,
             "#ed7953"
            ],
            [
             0.7777777777777778,
             "#fb9f3a"
            ],
            [
             0.8888888888888888,
             "#fdca26"
            ],
            [
             1,
             "#f0f921"
            ]
           ]
          },
          "colorway": [
           "#636efa",
           "#EF553B",
           "#00cc96",
           "#ab63fa",
           "#FFA15A",
           "#19d3f3",
           "#FF6692",
           "#B6E880",
           "#FF97FF",
           "#FECB52"
          ],
          "font": {
           "color": "#2a3f5f"
          },
          "geo": {
           "bgcolor": "white",
           "lakecolor": "white",
           "landcolor": "#E5ECF6",
           "showlakes": true,
           "showland": true,
           "subunitcolor": "white"
          },
          "hoverlabel": {
           "align": "left"
          },
          "hovermode": "closest",
          "mapbox": {
           "style": "light"
          },
          "paper_bgcolor": "white",
          "plot_bgcolor": "#E5ECF6",
          "polar": {
           "angularaxis": {
            "gridcolor": "white",
            "linecolor": "white",
            "ticks": ""
           },
           "bgcolor": "#E5ECF6",
           "radialaxis": {
            "gridcolor": "white",
            "linecolor": "white",
            "ticks": ""
           }
          },
          "scene": {
           "xaxis": {
            "backgroundcolor": "#E5ECF6",
            "gridcolor": "white",
            "gridwidth": 2,
            "linecolor": "white",
            "showbackground": true,
            "ticks": "",
            "zerolinecolor": "white"
           },
           "yaxis": {
            "backgroundcolor": "#E5ECF6",
            "gridcolor": "white",
            "gridwidth": 2,
            "linecolor": "white",
            "showbackground": true,
            "ticks": "",
            "zerolinecolor": "white"
           },
           "zaxis": {
            "backgroundcolor": "#E5ECF6",
            "gridcolor": "white",
            "gridwidth": 2,
            "linecolor": "white",
            "showbackground": true,
            "ticks": "",
            "zerolinecolor": "white"
           }
          },
          "shapedefaults": {
           "line": {
            "color": "#2a3f5f"
           }
          },
          "ternary": {
           "aaxis": {
            "gridcolor": "white",
            "linecolor": "white",
            "ticks": ""
           },
           "baxis": {
            "gridcolor": "white",
            "linecolor": "white",
            "ticks": ""
           },
           "bgcolor": "#E5ECF6",
           "caxis": {
            "gridcolor": "white",
            "linecolor": "white",
            "ticks": ""
           }
          },
          "title": {
           "x": 0.05
          },
          "xaxis": {
           "automargin": true,
           "gridcolor": "white",
           "linecolor": "white",
           "ticks": "",
           "title": {
            "standoff": 15
           },
           "zerolinecolor": "white",
           "zerolinewidth": 2
          },
          "yaxis": {
           "automargin": true,
           "gridcolor": "white",
           "linecolor": "white",
           "ticks": "",
           "title": {
            "standoff": 15
           },
           "zerolinecolor": "white",
           "zerolinewidth": 2
          }
         }
        }
       }
      },
      "text/html": [
       "<div>                            <div id=\"93873221-7149-4dc2-b076-db3b547facd3\" class=\"plotly-graph-div\" style=\"height:525px; width:100%;\"></div>            <script type=\"text/javascript\">                require([\"plotly\"], function(Plotly) {                    window.PLOTLYENV=window.PLOTLYENV || {};                                    if (document.getElementById(\"93873221-7149-4dc2-b076-db3b547facd3\")) {                    Plotly.newPlot(                        \"93873221-7149-4dc2-b076-db3b547facd3\",                        [{\"customdata\": [[\"blue\"], [\"red\"], [\"green\"]], \"domain\": {\"x\": [0.0, 1.0], \"y\": [0.0, 1.0]}, \"hovertemplate\": \"label=%{label}<br>value=%{value}<br>color=%{customdata[0]}<extra></extra>\", \"labels\": [0, 1, 2], \"legendgroup\": \"\", \"marker\": {\"colors\": [\"#636efa\", \"#EF553B\", \"#00cc96\"]}, \"name\": \"\", \"showlegend\": true, \"type\": \"pie\", \"values\": [45, 4, 45]}],                        {\"legend\": {\"tracegroupgap\": 0}, \"margin\": {\"t\": 60}, \"template\": {\"data\": {\"bar\": [{\"error_x\": {\"color\": \"#2a3f5f\"}, \"error_y\": {\"color\": \"#2a3f5f\"}, \"marker\": {\"line\": {\"color\": \"#E5ECF6\", \"width\": 0.5}}, \"type\": \"bar\"}], \"barpolar\": [{\"marker\": {\"line\": {\"color\": \"#E5ECF6\", \"width\": 0.5}}, \"type\": \"barpolar\"}], \"carpet\": [{\"aaxis\": {\"endlinecolor\": \"#2a3f5f\", \"gridcolor\": \"white\", \"linecolor\": \"white\", \"minorgridcolor\": \"white\", \"startlinecolor\": \"#2a3f5f\"}, \"baxis\": {\"endlinecolor\": \"#2a3f5f\", \"gridcolor\": \"white\", \"linecolor\": \"white\", \"minorgridcolor\": \"white\", \"startlinecolor\": \"#2a3f5f\"}, \"type\": \"carpet\"}], \"choropleth\": [{\"colorbar\": {\"outlinewidth\": 0, \"ticks\": \"\"}, \"type\": \"choropleth\"}], \"contour\": [{\"colorbar\": {\"outlinewidth\": 0, \"ticks\": \"\"}, \"colorscale\": [[0.0, \"#0d0887\"], [0.1111111111111111, \"#46039f\"], [0.2222222222222222, \"#7201a8\"], [0.3333333333333333, \"#9c179e\"], [0.4444444444444444, \"#bd3786\"], [0.5555555555555556, \"#d8576b\"], [0.6666666666666666, \"#ed7953\"], [0.7777777777777778, \"#fb9f3a\"], [0.8888888888888888, \"#fdca26\"], [1.0, \"#f0f921\"]], \"type\": \"contour\"}], \"contourcarpet\": [{\"colorbar\": {\"outlinewidth\": 0, \"ticks\": \"\"}, \"type\": \"contourcarpet\"}], \"heatmap\": [{\"colorbar\": {\"outlinewidth\": 0, \"ticks\": \"\"}, \"colorscale\": [[0.0, \"#0d0887\"], [0.1111111111111111, \"#46039f\"], [0.2222222222222222, \"#7201a8\"], [0.3333333333333333, \"#9c179e\"], [0.4444444444444444, \"#bd3786\"], [0.5555555555555556, \"#d8576b\"], [0.6666666666666666, \"#ed7953\"], [0.7777777777777778, \"#fb9f3a\"], [0.8888888888888888, \"#fdca26\"], [1.0, \"#f0f921\"]], \"type\": \"heatmap\"}], \"heatmapgl\": [{\"colorbar\": {\"outlinewidth\": 0, \"ticks\": \"\"}, \"colorscale\": [[0.0, \"#0d0887\"], [0.1111111111111111, \"#46039f\"], [0.2222222222222222, \"#7201a8\"], [0.3333333333333333, \"#9c179e\"], [0.4444444444444444, \"#bd3786\"], [0.5555555555555556, \"#d8576b\"], [0.6666666666666666, \"#ed7953\"], [0.7777777777777778, \"#fb9f3a\"], [0.8888888888888888, \"#fdca26\"], [1.0, \"#f0f921\"]], \"type\": \"heatmapgl\"}], \"histogram\": [{\"marker\": {\"colorbar\": {\"outlinewidth\": 0, \"ticks\": \"\"}}, \"type\": \"histogram\"}], \"histogram2d\": [{\"colorbar\": {\"outlinewidth\": 0, \"ticks\": \"\"}, \"colorscale\": [[0.0, \"#0d0887\"], [0.1111111111111111, \"#46039f\"], [0.2222222222222222, \"#7201a8\"], [0.3333333333333333, \"#9c179e\"], [0.4444444444444444, \"#bd3786\"], [0.5555555555555556, \"#d8576b\"], [0.6666666666666666, \"#ed7953\"], [0.7777777777777778, \"#fb9f3a\"], [0.8888888888888888, \"#fdca26\"], [1.0, \"#f0f921\"]], \"type\": \"histogram2d\"}], \"histogram2dcontour\": [{\"colorbar\": {\"outlinewidth\": 0, \"ticks\": \"\"}, \"colorscale\": [[0.0, \"#0d0887\"], [0.1111111111111111, \"#46039f\"], [0.2222222222222222, \"#7201a8\"], [0.3333333333333333, \"#9c179e\"], [0.4444444444444444, \"#bd3786\"], [0.5555555555555556, \"#d8576b\"], [0.6666666666666666, \"#ed7953\"], [0.7777777777777778, \"#fb9f3a\"], [0.8888888888888888, \"#fdca26\"], [1.0, \"#f0f921\"]], \"type\": \"histogram2dcontour\"}], \"mesh3d\": [{\"colorbar\": {\"outlinewidth\": 0, \"ticks\": \"\"}, \"type\": \"mesh3d\"}], \"parcoords\": [{\"line\": {\"colorbar\": {\"outlinewidth\": 0, \"ticks\": \"\"}}, \"type\": \"parcoords\"}], \"pie\": [{\"automargin\": true, \"type\": \"pie\"}], \"scatter\": [{\"marker\": {\"colorbar\": {\"outlinewidth\": 0, \"ticks\": \"\"}}, \"type\": \"scatter\"}], \"scatter3d\": [{\"line\": {\"colorbar\": {\"outlinewidth\": 0, \"ticks\": \"\"}}, \"marker\": {\"colorbar\": {\"outlinewidth\": 0, \"ticks\": \"\"}}, \"type\": \"scatter3d\"}], \"scattercarpet\": [{\"marker\": {\"colorbar\": {\"outlinewidth\": 0, \"ticks\": \"\"}}, \"type\": \"scattercarpet\"}], \"scattergeo\": [{\"marker\": {\"colorbar\": {\"outlinewidth\": 0, \"ticks\": \"\"}}, \"type\": \"scattergeo\"}], \"scattergl\": [{\"marker\": {\"colorbar\": {\"outlinewidth\": 0, \"ticks\": \"\"}}, \"type\": \"scattergl\"}], \"scattermapbox\": [{\"marker\": {\"colorbar\": {\"outlinewidth\": 0, \"ticks\": \"\"}}, \"type\": \"scattermapbox\"}], \"scatterpolar\": [{\"marker\": {\"colorbar\": {\"outlinewidth\": 0, \"ticks\": \"\"}}, \"type\": \"scatterpolar\"}], \"scatterpolargl\": [{\"marker\": {\"colorbar\": {\"outlinewidth\": 0, \"ticks\": \"\"}}, \"type\": \"scatterpolargl\"}], \"scatterternary\": [{\"marker\": {\"colorbar\": {\"outlinewidth\": 0, \"ticks\": \"\"}}, \"type\": \"scatterternary\"}], \"surface\": [{\"colorbar\": {\"outlinewidth\": 0, \"ticks\": \"\"}, \"colorscale\": [[0.0, \"#0d0887\"], [0.1111111111111111, \"#46039f\"], [0.2222222222222222, \"#7201a8\"], [0.3333333333333333, \"#9c179e\"], [0.4444444444444444, \"#bd3786\"], [0.5555555555555556, \"#d8576b\"], [0.6666666666666666, \"#ed7953\"], [0.7777777777777778, \"#fb9f3a\"], [0.8888888888888888, \"#fdca26\"], [1.0, \"#f0f921\"]], \"type\": \"surface\"}], \"table\": [{\"cells\": {\"fill\": {\"color\": \"#EBF0F8\"}, \"line\": {\"color\": \"white\"}}, \"header\": {\"fill\": {\"color\": \"#C8D4E3\"}, \"line\": {\"color\": \"white\"}}, \"type\": \"table\"}]}, \"layout\": {\"annotationdefaults\": {\"arrowcolor\": \"#2a3f5f\", \"arrowhead\": 0, \"arrowwidth\": 1}, \"autotypenumbers\": \"strict\", \"coloraxis\": {\"colorbar\": {\"outlinewidth\": 0, \"ticks\": \"\"}}, \"colorscale\": {\"diverging\": [[0, \"#8e0152\"], [0.1, \"#c51b7d\"], [0.2, \"#de77ae\"], [0.3, \"#f1b6da\"], [0.4, \"#fde0ef\"], [0.5, \"#f7f7f7\"], [0.6, \"#e6f5d0\"], [0.7, \"#b8e186\"], [0.8, \"#7fbc41\"], [0.9, \"#4d9221\"], [1, \"#276419\"]], \"sequential\": [[0.0, \"#0d0887\"], [0.1111111111111111, \"#46039f\"], [0.2222222222222222, \"#7201a8\"], [0.3333333333333333, \"#9c179e\"], [0.4444444444444444, \"#bd3786\"], [0.5555555555555556, \"#d8576b\"], [0.6666666666666666, \"#ed7953\"], [0.7777777777777778, \"#fb9f3a\"], [0.8888888888888888, \"#fdca26\"], [1.0, \"#f0f921\"]], \"sequentialminus\": [[0.0, \"#0d0887\"], [0.1111111111111111, \"#46039f\"], [0.2222222222222222, \"#7201a8\"], [0.3333333333333333, \"#9c179e\"], [0.4444444444444444, \"#bd3786\"], [0.5555555555555556, \"#d8576b\"], [0.6666666666666666, \"#ed7953\"], [0.7777777777777778, \"#fb9f3a\"], [0.8888888888888888, \"#fdca26\"], [1.0, \"#f0f921\"]]}, \"colorway\": [\"#636efa\", \"#EF553B\", \"#00cc96\", \"#ab63fa\", \"#FFA15A\", \"#19d3f3\", \"#FF6692\", \"#B6E880\", \"#FF97FF\", \"#FECB52\"], \"font\": {\"color\": \"#2a3f5f\"}, \"geo\": {\"bgcolor\": \"white\", \"lakecolor\": \"white\", \"landcolor\": \"#E5ECF6\", \"showlakes\": true, \"showland\": true, \"subunitcolor\": \"white\"}, \"hoverlabel\": {\"align\": \"left\"}, \"hovermode\": \"closest\", \"mapbox\": {\"style\": \"light\"}, \"paper_bgcolor\": \"white\", \"plot_bgcolor\": \"#E5ECF6\", \"polar\": {\"angularaxis\": {\"gridcolor\": \"white\", \"linecolor\": \"white\", \"ticks\": \"\"}, \"bgcolor\": \"#E5ECF6\", \"radialaxis\": {\"gridcolor\": \"white\", \"linecolor\": \"white\", \"ticks\": \"\"}}, \"scene\": {\"xaxis\": {\"backgroundcolor\": \"#E5ECF6\", \"gridcolor\": \"white\", \"gridwidth\": 2, \"linecolor\": \"white\", \"showbackground\": true, \"ticks\": \"\", \"zerolinecolor\": \"white\"}, \"yaxis\": {\"backgroundcolor\": \"#E5ECF6\", \"gridcolor\": \"white\", \"gridwidth\": 2, \"linecolor\": \"white\", \"showbackground\": true, \"ticks\": \"\", \"zerolinecolor\": \"white\"}, \"zaxis\": {\"backgroundcolor\": \"#E5ECF6\", \"gridcolor\": \"white\", \"gridwidth\": 2, \"linecolor\": \"white\", \"showbackground\": true, \"ticks\": \"\", \"zerolinecolor\": \"white\"}}, \"shapedefaults\": {\"line\": {\"color\": \"#2a3f5f\"}}, \"ternary\": {\"aaxis\": {\"gridcolor\": \"white\", \"linecolor\": \"white\", \"ticks\": \"\"}, \"baxis\": {\"gridcolor\": \"white\", \"linecolor\": \"white\", \"ticks\": \"\"}, \"bgcolor\": \"#E5ECF6\", \"caxis\": {\"gridcolor\": \"white\", \"linecolor\": \"white\", \"ticks\": \"\"}}, \"title\": {\"x\": 0.05}, \"xaxis\": {\"automargin\": true, \"gridcolor\": \"white\", \"linecolor\": \"white\", \"ticks\": \"\", \"title\": {\"standoff\": 15}, \"zerolinecolor\": \"white\", \"zerolinewidth\": 2}, \"yaxis\": {\"automargin\": true, \"gridcolor\": \"white\", \"linecolor\": \"white\", \"ticks\": \"\", \"title\": {\"standoff\": 15}, \"zerolinecolor\": \"white\", \"zerolinewidth\": 2}}}},                        {\"responsive\": true}                    ).then(function(){\n",
       "                            \n",
       "var gd = document.getElementById('93873221-7149-4dc2-b076-db3b547facd3');\n",
       "var x = new MutationObserver(function (mutations, observer) {{\n",
       "        var display = window.getComputedStyle(gd).display;\n",
       "        if (!display || display === 'none') {{\n",
       "            console.log([gd, 'removed!']);\n",
       "            Plotly.purge(gd);\n",
       "            observer.disconnect();\n",
       "        }}\n",
       "}});\n",
       "\n",
       "// Listen for the removal of the full notebook cells\n",
       "var notebookContainer = gd.closest('#notebook-container');\n",
       "if (notebookContainer) {{\n",
       "    x.observe(notebookContainer, {childList: true});\n",
       "}}\n",
       "\n",
       "// Listen for the clearing of the current output cell\n",
       "var outputEl = gd.closest('.output');\n",
       "if (outputEl) {{\n",
       "    x.observe(outputEl, {childList: true});\n",
       "}}\n",
       "\n",
       "                        })                };                });            </script>        </div>"
      ]
     },
     "metadata": {},
     "output_type": "display_data"
    }
   ],
   "source": [
    "pie=clusters.groupby('label').size().reset_index()\n",
    "pie.columns=['label','value']\n",
    "px.pie(pie,values='value',names='label',color=['blue','red','green'])"
   ]
  },
  {
   "cell_type": "markdown",
   "id": "2a909167",
   "metadata": {},
   "source": [
    "# considerando apenas os simbolos \n",
    "|Simbolo | Significado|\n",
    "|-|------------|\n",
    "|R | Realização |\n",
    "|P | Prestígio  |\n",
    "|E | Estabilidade|\n",
    "|S | Social |"
   ]
  },
  {
   "cell_type": "code",
   "execution_count": 136,
   "id": "d3427ab9",
   "metadata": {},
   "outputs": [],
   "source": [
    "df_sy = pd.read_csv('pesquisa_valores.csv')\n",
    "df_sy = df_sy[1:]"
   ]
  },
  {
   "cell_type": "code",
   "execution_count": 147,
   "id": "26559b8d",
   "metadata": {},
   "outputs": [],
   "source": [
    "df_sy = df_sy.drop(columns=['Unnamed: 0', 'Unnamed: 46', 'Unnamed: 47', \n",
    "                    'Unnamed: 48', 'Unnamed: 49'])"
   ]
  },
  {
   "cell_type": "code",
   "execution_count": 148,
   "id": "61b39f87",
   "metadata": {
    "scrolled": true
   },
   "outputs": [
    {
     "data": {
      "text/html": [
       "<div>\n",
       "<style scoped>\n",
       "    .dataframe tbody tr th:only-of-type {\n",
       "        vertical-align: middle;\n",
       "    }\n",
       "\n",
       "    .dataframe tbody tr th {\n",
       "        vertical-align: top;\n",
       "    }\n",
       "\n",
       "    .dataframe thead th {\n",
       "        text-align: right;\n",
       "    }\n",
       "</style>\n",
       "<table border=\"1\" class=\"dataframe\">\n",
       "  <thead>\n",
       "    <tr style=\"text-align: right;\">\n",
       "      <th></th>\n",
       "      <th>R1</th>\n",
       "      <th>S1</th>\n",
       "      <th>P1</th>\n",
       "      <th>E1</th>\n",
       "      <th>R2</th>\n",
       "      <th>S2</th>\n",
       "      <th>P2</th>\n",
       "      <th>E2</th>\n",
       "      <th>R3</th>\n",
       "      <th>S3</th>\n",
       "      <th>...</th>\n",
       "      <th>S10</th>\n",
       "      <th>P10</th>\n",
       "      <th>R11</th>\n",
       "      <th>S11</th>\n",
       "      <th>P11</th>\n",
       "      <th>R12</th>\n",
       "      <th>S12</th>\n",
       "      <th>R13</th>\n",
       "      <th>R14</th>\n",
       "      <th>R15</th>\n",
       "    </tr>\n",
       "  </thead>\n",
       "  <tbody>\n",
       "    <tr>\n",
       "      <th>1</th>\n",
       "      <td>6</td>\n",
       "      <td>6</td>\n",
       "      <td>4</td>\n",
       "      <td>7</td>\n",
       "      <td>6</td>\n",
       "      <td>7</td>\n",
       "      <td>3</td>\n",
       "      <td>7</td>\n",
       "      <td>5</td>\n",
       "      <td>6</td>\n",
       "      <td>...</td>\n",
       "      <td>7</td>\n",
       "      <td>1</td>\n",
       "      <td>3</td>\n",
       "      <td>6</td>\n",
       "      <td>2</td>\n",
       "      <td>6</td>\n",
       "      <td>7</td>\n",
       "      <td>5</td>\n",
       "      <td>7</td>\n",
       "      <td>5</td>\n",
       "    </tr>\n",
       "    <tr>\n",
       "      <th>2</th>\n",
       "      <td>6</td>\n",
       "      <td>7</td>\n",
       "      <td>4</td>\n",
       "      <td>7</td>\n",
       "      <td>6</td>\n",
       "      <td>7</td>\n",
       "      <td>6</td>\n",
       "      <td>5</td>\n",
       "      <td>5</td>\n",
       "      <td>7</td>\n",
       "      <td>...</td>\n",
       "      <td>5</td>\n",
       "      <td>5</td>\n",
       "      <td>3</td>\n",
       "      <td>4</td>\n",
       "      <td>5</td>\n",
       "      <td>5</td>\n",
       "      <td>7</td>\n",
       "      <td>5</td>\n",
       "      <td>6</td>\n",
       "      <td>7</td>\n",
       "    </tr>\n",
       "    <tr>\n",
       "      <th>3</th>\n",
       "      <td>6</td>\n",
       "      <td>6</td>\n",
       "      <td>4</td>\n",
       "      <td>5</td>\n",
       "      <td>6</td>\n",
       "      <td>5</td>\n",
       "      <td>4</td>\n",
       "      <td>6</td>\n",
       "      <td>7</td>\n",
       "      <td>5</td>\n",
       "      <td>...</td>\n",
       "      <td>7</td>\n",
       "      <td>4</td>\n",
       "      <td>7</td>\n",
       "      <td>7</td>\n",
       "      <td>4</td>\n",
       "      <td>7</td>\n",
       "      <td>7</td>\n",
       "      <td>6</td>\n",
       "      <td>6</td>\n",
       "      <td>6</td>\n",
       "    </tr>\n",
       "    <tr>\n",
       "      <th>4</th>\n",
       "      <td>6</td>\n",
       "      <td>6</td>\n",
       "      <td>4</td>\n",
       "      <td>7</td>\n",
       "      <td>6</td>\n",
       "      <td>6</td>\n",
       "      <td>5</td>\n",
       "      <td>7</td>\n",
       "      <td>7</td>\n",
       "      <td>7</td>\n",
       "      <td>...</td>\n",
       "      <td>6</td>\n",
       "      <td>3</td>\n",
       "      <td>6</td>\n",
       "      <td>5</td>\n",
       "      <td>5</td>\n",
       "      <td>6</td>\n",
       "      <td>6</td>\n",
       "      <td>6</td>\n",
       "      <td>4</td>\n",
       "      <td>5</td>\n",
       "    </tr>\n",
       "    <tr>\n",
       "      <th>5</th>\n",
       "      <td>7</td>\n",
       "      <td>7</td>\n",
       "      <td>3</td>\n",
       "      <td>4</td>\n",
       "      <td>7</td>\n",
       "      <td>7</td>\n",
       "      <td>5</td>\n",
       "      <td>7</td>\n",
       "      <td>7</td>\n",
       "      <td>7</td>\n",
       "      <td>...</td>\n",
       "      <td>7</td>\n",
       "      <td>1</td>\n",
       "      <td>7</td>\n",
       "      <td>7</td>\n",
       "      <td>7</td>\n",
       "      <td>7</td>\n",
       "      <td>7</td>\n",
       "      <td>7</td>\n",
       "      <td>7</td>\n",
       "      <td>7</td>\n",
       "    </tr>\n",
       "  </tbody>\n",
       "</table>\n",
       "<p>5 rows × 45 columns</p>\n",
       "</div>"
      ],
      "text/plain": [
       "  R1 S1 P1 E1 R2 S2 P2 E2 R3 S3  ... S10 P10 R11 S11 P11 R12 S12 R13 R14 R15\n",
       "1  6  6  4  7  6  7  3  7  5  6  ...   7   1   3   6   2   6   7   5   7   5\n",
       "2  6  7  4  7  6  7  6  5  5  7  ...   5   5   3   4   5   5   7   5   6   7\n",
       "3  6  6  4  5  6  5  4  6  7  5  ...   7   4   7   7   4   7   7   6   6   6\n",
       "4  6  6  4  7  6  6  5  7  7  7  ...   6   3   6   5   5   6   6   6   4   5\n",
       "5  7  7  3  4  7  7  5  7  7  7  ...   7   1   7   7   7   7   7   7   7   7\n",
       "\n",
       "[5 rows x 45 columns]"
      ]
     },
     "execution_count": 148,
     "metadata": {},
     "output_type": "execute_result"
    }
   ],
   "source": [
    "def remove_number_col():\n",
    "    \n",
    "df_sy.head()"
   ]
  },
  {
   "cell_type": "code",
   "execution_count": 153,
   "id": "280eaa61",
   "metadata": {},
   "outputs": [
    {
     "data": {
      "text/plain": [
       "\"['R1' 'S1' 'P1' 'E1' 'R2' 'S2' 'P2' 'E2' 'R3' 'S3' 'P3' 'E3' 'R4' 'S4'\\n 'P4' 'E4' 'R5' 'S5' 'P5' 'E5' 'R6' 'S6' 'P6' 'E6' 'R7' 'S7' 'P7' 'E7'\\n 'R8' 'S8' 'P8' 'R9' 'S9' 'P9' 'R10' 'S10' 'P10' 'R11' 'S11' 'P11' 'R12'\\n 'S12' 'R13' 'R14' 'R15']\""
      ]
     },
     "execution_count": 153,
     "metadata": {},
     "output_type": "execute_result"
    }
   ],
   "source": [
    "str(df_sy.columns.values)"
   ]
  },
  {
   "cell_type": "code",
   "execution_count": 161,
   "id": "5282b280",
   "metadata": {},
   "outputs": [],
   "source": [
    "letters = re.findall('[RPSE]', str(df_sy.columns.values))\n",
    "df_sy.columns = letters"
   ]
  },
  {
   "cell_type": "code",
   "execution_count": 162,
   "id": "8f0f97a5",
   "metadata": {},
   "outputs": [
    {
     "data": {
      "text/html": [
       "<div>\n",
       "<style scoped>\n",
       "    .dataframe tbody tr th:only-of-type {\n",
       "        vertical-align: middle;\n",
       "    }\n",
       "\n",
       "    .dataframe tbody tr th {\n",
       "        vertical-align: top;\n",
       "    }\n",
       "\n",
       "    .dataframe thead th {\n",
       "        text-align: right;\n",
       "    }\n",
       "</style>\n",
       "<table border=\"1\" class=\"dataframe\">\n",
       "  <thead>\n",
       "    <tr style=\"text-align: right;\">\n",
       "      <th></th>\n",
       "      <th>R</th>\n",
       "      <th>S</th>\n",
       "      <th>P</th>\n",
       "      <th>E</th>\n",
       "      <th>R</th>\n",
       "      <th>S</th>\n",
       "      <th>P</th>\n",
       "      <th>E</th>\n",
       "      <th>R</th>\n",
       "      <th>S</th>\n",
       "      <th>...</th>\n",
       "      <th>S</th>\n",
       "      <th>P</th>\n",
       "      <th>R</th>\n",
       "      <th>S</th>\n",
       "      <th>P</th>\n",
       "      <th>R</th>\n",
       "      <th>S</th>\n",
       "      <th>R</th>\n",
       "      <th>R</th>\n",
       "      <th>R</th>\n",
       "    </tr>\n",
       "  </thead>\n",
       "  <tbody>\n",
       "    <tr>\n",
       "      <th>1</th>\n",
       "      <td>6</td>\n",
       "      <td>6</td>\n",
       "      <td>4</td>\n",
       "      <td>7</td>\n",
       "      <td>6</td>\n",
       "      <td>7</td>\n",
       "      <td>3</td>\n",
       "      <td>7</td>\n",
       "      <td>5</td>\n",
       "      <td>6</td>\n",
       "      <td>...</td>\n",
       "      <td>7</td>\n",
       "      <td>1</td>\n",
       "      <td>3</td>\n",
       "      <td>6</td>\n",
       "      <td>2</td>\n",
       "      <td>6</td>\n",
       "      <td>7</td>\n",
       "      <td>5</td>\n",
       "      <td>7</td>\n",
       "      <td>5</td>\n",
       "    </tr>\n",
       "    <tr>\n",
       "      <th>2</th>\n",
       "      <td>6</td>\n",
       "      <td>7</td>\n",
       "      <td>4</td>\n",
       "      <td>7</td>\n",
       "      <td>6</td>\n",
       "      <td>7</td>\n",
       "      <td>6</td>\n",
       "      <td>5</td>\n",
       "      <td>5</td>\n",
       "      <td>7</td>\n",
       "      <td>...</td>\n",
       "      <td>5</td>\n",
       "      <td>5</td>\n",
       "      <td>3</td>\n",
       "      <td>4</td>\n",
       "      <td>5</td>\n",
       "      <td>5</td>\n",
       "      <td>7</td>\n",
       "      <td>5</td>\n",
       "      <td>6</td>\n",
       "      <td>7</td>\n",
       "    </tr>\n",
       "    <tr>\n",
       "      <th>3</th>\n",
       "      <td>6</td>\n",
       "      <td>6</td>\n",
       "      <td>4</td>\n",
       "      <td>5</td>\n",
       "      <td>6</td>\n",
       "      <td>5</td>\n",
       "      <td>4</td>\n",
       "      <td>6</td>\n",
       "      <td>7</td>\n",
       "      <td>5</td>\n",
       "      <td>...</td>\n",
       "      <td>7</td>\n",
       "      <td>4</td>\n",
       "      <td>7</td>\n",
       "      <td>7</td>\n",
       "      <td>4</td>\n",
       "      <td>7</td>\n",
       "      <td>7</td>\n",
       "      <td>6</td>\n",
       "      <td>6</td>\n",
       "      <td>6</td>\n",
       "    </tr>\n",
       "    <tr>\n",
       "      <th>4</th>\n",
       "      <td>6</td>\n",
       "      <td>6</td>\n",
       "      <td>4</td>\n",
       "      <td>7</td>\n",
       "      <td>6</td>\n",
       "      <td>6</td>\n",
       "      <td>5</td>\n",
       "      <td>7</td>\n",
       "      <td>7</td>\n",
       "      <td>7</td>\n",
       "      <td>...</td>\n",
       "      <td>6</td>\n",
       "      <td>3</td>\n",
       "      <td>6</td>\n",
       "      <td>5</td>\n",
       "      <td>5</td>\n",
       "      <td>6</td>\n",
       "      <td>6</td>\n",
       "      <td>6</td>\n",
       "      <td>4</td>\n",
       "      <td>5</td>\n",
       "    </tr>\n",
       "    <tr>\n",
       "      <th>5</th>\n",
       "      <td>7</td>\n",
       "      <td>7</td>\n",
       "      <td>3</td>\n",
       "      <td>4</td>\n",
       "      <td>7</td>\n",
       "      <td>7</td>\n",
       "      <td>5</td>\n",
       "      <td>7</td>\n",
       "      <td>7</td>\n",
       "      <td>7</td>\n",
       "      <td>...</td>\n",
       "      <td>7</td>\n",
       "      <td>1</td>\n",
       "      <td>7</td>\n",
       "      <td>7</td>\n",
       "      <td>7</td>\n",
       "      <td>7</td>\n",
       "      <td>7</td>\n",
       "      <td>7</td>\n",
       "      <td>7</td>\n",
       "      <td>7</td>\n",
       "    </tr>\n",
       "  </tbody>\n",
       "</table>\n",
       "<p>5 rows × 45 columns</p>\n",
       "</div>"
      ],
      "text/plain": [
       "   R  S  P  E  R  S  P  E  R  S  ...  S  P  R  S  P  R  S  R  R  R\n",
       "1  6  6  4  7  6  7  3  7  5  6  ...  7  1  3  6  2  6  7  5  7  5\n",
       "2  6  7  4  7  6  7  6  5  5  7  ...  5  5  3  4  5  5  7  5  6  7\n",
       "3  6  6  4  5  6  5  4  6  7  5  ...  7  4  7  7  4  7  7  6  6  6\n",
       "4  6  6  4  7  6  6  5  7  7  7  ...  6  3  6  5  5  6  6  6  4  5\n",
       "5  7  7  3  4  7  7  5  7  7  7  ...  7  1  7  7  7  7  7  7  7  7\n",
       "\n",
       "[5 rows x 45 columns]"
      ]
     },
     "execution_count": 162,
     "metadata": {},
     "output_type": "execute_result"
    }
   ],
   "source": [
    "df_sy.head()"
   ]
  }
 ],
 "metadata": {
  "kernelspec": {
   "display_name": "Python 3",
   "language": "python",
   "name": "python3"
  },
  "language_info": {
   "codemirror_mode": {
    "name": "ipython",
    "version": 3
   },
   "file_extension": ".py",
   "mimetype": "text/x-python",
   "name": "python",
   "nbconvert_exporter": "python",
   "pygments_lexer": "ipython3",
   "version": "3.8.5"
  }
 },
 "nbformat": 4,
 "nbformat_minor": 5
}
